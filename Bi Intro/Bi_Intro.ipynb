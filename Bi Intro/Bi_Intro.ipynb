{
 "cells": [
  {
   "cell_type": "markdown",
   "id": "99ecb997-2fa8-4923-9d17-4e565f3f64f4",
   "metadata": {},
   "source": [
    "# 📊 Dataset Information\n",
    "\n",
    "**Note:** The dataset for this project is **may not included in this repository** to keep the repository lightweight.  \n",
    "\n",
    "You can download the dataset from **Kaggle** using the link below:  \n",
    "\n",
    "[Download the Bi_Intro Dataset](https://www.kaggle.com/datasets/walekhwatlphilip/intro-to-data-cleaning-eda-and-machine-learning)  \n",
    "\n",
    "Please make sure to place the downloaded CSV file in the same directory as this notebook before running any code.\n"
   ]
  },
  {
   "cell_type": "markdown",
   "id": "71e91d14-a42d-465c-b643-ec25d276c952",
   "metadata": {},
   "source": [
    "# Importing"
   ]
  },
  {
   "cell_type": "markdown",
   "id": "27a13aff-83dd-4ba9-a2c0-85e6513430c8",
   "metadata": {},
   "source": [
    "## Import Libraray"
   ]
  },
  {
   "cell_type": "code",
   "execution_count": 1,
   "id": "bf1bab7f-95aa-49a6-9485-cf2524730331",
   "metadata": {},
   "outputs": [],
   "source": [
    "import pandas as pd\n",
    "import numpy as np\n",
    "import matplotlib.pyplot as plt\n",
    "import seaborn as sns"
   ]
  },
  {
   "cell_type": "markdown",
   "id": "bf44654c-0d4f-45ae-a190-8b47ad910442",
   "metadata": {},
   "source": [
    "## Import CSV And convert to DataFrame"
   ]
  },
  {
   "cell_type": "code",
   "execution_count": 2,
   "id": "b0fb6741-544e-43f9-aaf1-1a9992a402b0",
   "metadata": {},
   "outputs": [],
   "source": [
    "df = pd.read_csv('bi.csv', encoding='latin1')"
   ]
  },
  {
   "cell_type": "markdown",
   "id": "12d57610-45d3-4093-bf4f-70d8f4d9b292",
   "metadata": {},
   "source": [
    "# PreProcessing"
   ]
  },
  {
   "cell_type": "markdown",
   "id": "b718f9ec-c07f-496b-b24f-6a60538ddd3c",
   "metadata": {},
   "source": [
    "## Details of Dataset"
   ]
  },
  {
   "cell_type": "markdown",
   "id": "920b7fd0-47bd-49b0-8871-8b38b2e1fbea",
   "metadata": {},
   "source": [
    "### Frist five row"
   ]
  },
  {
   "cell_type": "code",
   "execution_count": 3,
   "id": "90436015-c3b1-41a8-8ab8-5c224d948e73",
   "metadata": {},
   "outputs": [
    {
     "data": {
      "text/html": [
       "<div>\n",
       "<style scoped>\n",
       "    .dataframe tbody tr th:only-of-type {\n",
       "        vertical-align: middle;\n",
       "    }\n",
       "\n",
       "    .dataframe tbody tr th {\n",
       "        vertical-align: top;\n",
       "    }\n",
       "\n",
       "    .dataframe thead th {\n",
       "        text-align: right;\n",
       "    }\n",
       "</style>\n",
       "<table border=\"1\" class=\"dataframe\">\n",
       "  <thead>\n",
       "    <tr style=\"text-align: right;\">\n",
       "      <th></th>\n",
       "      <th>fNAME</th>\n",
       "      <th>lNAME</th>\n",
       "      <th>Age</th>\n",
       "      <th>gender</th>\n",
       "      <th>country</th>\n",
       "      <th>residence</th>\n",
       "      <th>entryEXAM</th>\n",
       "      <th>prevEducation</th>\n",
       "      <th>studyHOURS</th>\n",
       "      <th>Python</th>\n",
       "      <th>DB</th>\n",
       "    </tr>\n",
       "  </thead>\n",
       "  <tbody>\n",
       "    <tr>\n",
       "      <th>0</th>\n",
       "      <td>Christina</td>\n",
       "      <td>Binger</td>\n",
       "      <td>44</td>\n",
       "      <td>Female</td>\n",
       "      <td>Norway</td>\n",
       "      <td>Private</td>\n",
       "      <td>72</td>\n",
       "      <td>Masters</td>\n",
       "      <td>158</td>\n",
       "      <td>59.0</td>\n",
       "      <td>55</td>\n",
       "    </tr>\n",
       "    <tr>\n",
       "      <th>1</th>\n",
       "      <td>Alex</td>\n",
       "      <td>Walekhwa</td>\n",
       "      <td>60</td>\n",
       "      <td>M</td>\n",
       "      <td>Kenya</td>\n",
       "      <td>Private</td>\n",
       "      <td>79</td>\n",
       "      <td>Diploma</td>\n",
       "      <td>150</td>\n",
       "      <td>60.0</td>\n",
       "      <td>75</td>\n",
       "    </tr>\n",
       "    <tr>\n",
       "      <th>2</th>\n",
       "      <td>Philip</td>\n",
       "      <td>Leo</td>\n",
       "      <td>25</td>\n",
       "      <td>Male</td>\n",
       "      <td>Uganda</td>\n",
       "      <td>Sognsvann</td>\n",
       "      <td>55</td>\n",
       "      <td>HighSchool</td>\n",
       "      <td>130</td>\n",
       "      <td>74.0</td>\n",
       "      <td>50</td>\n",
       "    </tr>\n",
       "    <tr>\n",
       "      <th>3</th>\n",
       "      <td>Shoni</td>\n",
       "      <td>Hlongwane</td>\n",
       "      <td>24</td>\n",
       "      <td>F</td>\n",
       "      <td>Rsa</td>\n",
       "      <td>Sognsvann</td>\n",
       "      <td>40</td>\n",
       "      <td>High School</td>\n",
       "      <td>120</td>\n",
       "      <td>NaN</td>\n",
       "      <td>44</td>\n",
       "    </tr>\n",
       "    <tr>\n",
       "      <th>4</th>\n",
       "      <td>Maria</td>\n",
       "      <td>Kedibone</td>\n",
       "      <td>23</td>\n",
       "      <td>Female</td>\n",
       "      <td>South Africa</td>\n",
       "      <td>Sognsvann</td>\n",
       "      <td>65</td>\n",
       "      <td>High School</td>\n",
       "      <td>122</td>\n",
       "      <td>91.0</td>\n",
       "      <td>80</td>\n",
       "    </tr>\n",
       "    <tr>\n",
       "      <th>5</th>\n",
       "      <td>Hannah</td>\n",
       "      <td>Hansen</td>\n",
       "      <td>25</td>\n",
       "      <td>female</td>\n",
       "      <td>Norge</td>\n",
       "      <td>BI Residence</td>\n",
       "      <td>66</td>\n",
       "      <td>High School</td>\n",
       "      <td>130</td>\n",
       "      <td>88.0</td>\n",
       "      <td>59</td>\n",
       "    </tr>\n",
       "    <tr>\n",
       "      <th>6</th>\n",
       "      <td>Ole</td>\n",
       "      <td>Johansen</td>\n",
       "      <td>27</td>\n",
       "      <td>Male</td>\n",
       "      <td>Norway</td>\n",
       "      <td>BI-Residence</td>\n",
       "      <td>90</td>\n",
       "      <td>Bachelors</td>\n",
       "      <td>156</td>\n",
       "      <td>80.0</td>\n",
       "      <td>91</td>\n",
       "    </tr>\n",
       "    <tr>\n",
       "      <th>7</th>\n",
       "      <td>Lars</td>\n",
       "      <td>Olsen</td>\n",
       "      <td>29</td>\n",
       "      <td>Male</td>\n",
       "      <td>norway</td>\n",
       "      <td>BIResidence</td>\n",
       "      <td>89</td>\n",
       "      <td>Barrrchelors</td>\n",
       "      <td>160</td>\n",
       "      <td>85.0</td>\n",
       "      <td>60</td>\n",
       "    </tr>\n",
       "    <tr>\n",
       "      <th>8</th>\n",
       "      <td>Bjørn</td>\n",
       "      <td>Larsen</td>\n",
       "      <td>31</td>\n",
       "      <td>Male</td>\n",
       "      <td>Norway</td>\n",
       "      <td>BI Residence</td>\n",
       "      <td>88</td>\n",
       "      <td>Bachelors</td>\n",
       "      <td>156</td>\n",
       "      <td>80.0</td>\n",
       "      <td>89</td>\n",
       "    </tr>\n",
       "    <tr>\n",
       "      <th>9</th>\n",
       "      <td>Sofie</td>\n",
       "      <td>Jensen</td>\n",
       "      <td>33</td>\n",
       "      <td>Female</td>\n",
       "      <td>Denmark</td>\n",
       "      <td>BI_Residence</td>\n",
       "      <td>85</td>\n",
       "      <td>Bachelors</td>\n",
       "      <td>160</td>\n",
       "      <td>83.0</td>\n",
       "      <td>90</td>\n",
       "    </tr>\n",
       "    <tr>\n",
       "      <th>10</th>\n",
       "      <td>Emma</td>\n",
       "      <td>de Vries</td>\n",
       "      <td>34</td>\n",
       "      <td>Female</td>\n",
       "      <td>Netherlands</td>\n",
       "      <td>BI Residence</td>\n",
       "      <td>65</td>\n",
       "      <td>Bachelors</td>\n",
       "      <td>156</td>\n",
       "      <td>79.0</td>\n",
       "      <td>58</td>\n",
       "    </tr>\n",
       "    <tr>\n",
       "      <th>11</th>\n",
       "      <td>Solveig</td>\n",
       "      <td>Eliassen</td>\n",
       "      <td>36</td>\n",
       "      <td>Female</td>\n",
       "      <td>Norway</td>\n",
       "      <td>Private</td>\n",
       "      <td>70</td>\n",
       "      <td>diploma</td>\n",
       "      <td>156</td>\n",
       "      <td>80.0</td>\n",
       "      <td>55</td>\n",
       "    </tr>\n",
       "    <tr>\n",
       "      <th>12</th>\n",
       "      <td>Odd</td>\n",
       "      <td>Knudsen</td>\n",
       "      <td>38</td>\n",
       "      <td>male</td>\n",
       "      <td>Norway</td>\n",
       "      <td>Private</td>\n",
       "      <td>91</td>\n",
       "      <td>DIPLOMA</td>\n",
       "      <td>156</td>\n",
       "      <td>85.0</td>\n",
       "      <td>99</td>\n",
       "    </tr>\n",
       "    <tr>\n",
       "      <th>13</th>\n",
       "      <td>Grethe</td>\n",
       "      <td>Myklebust</td>\n",
       "      <td>40</td>\n",
       "      <td>Female</td>\n",
       "      <td>Norway</td>\n",
       "      <td>Private</td>\n",
       "      <td>77</td>\n",
       "      <td>Diplomaaa</td>\n",
       "      <td>144</td>\n",
       "      <td>70.0</td>\n",
       "      <td>76</td>\n",
       "    </tr>\n",
       "    <tr>\n",
       "      <th>14</th>\n",
       "      <td>Marco</td>\n",
       "      <td>Rossi</td>\n",
       "      <td>42</td>\n",
       "      <td>Male</td>\n",
       "      <td>Italy</td>\n",
       "      <td>Private</td>\n",
       "      <td>80</td>\n",
       "      <td>Bachelors</td>\n",
       "      <td>152</td>\n",
       "      <td>75.0</td>\n",
       "      <td>77</td>\n",
       "    </tr>\n",
       "    <tr>\n",
       "      <th>15</th>\n",
       "      <td>Ingrid</td>\n",
       "      <td>Eide</td>\n",
       "      <td>43</td>\n",
       "      <td>Female</td>\n",
       "      <td>Norway</td>\n",
       "      <td>Private</td>\n",
       "      <td>81</td>\n",
       "      <td>Bachelors</td>\n",
       "      <td>156</td>\n",
       "      <td>80.0</td>\n",
       "      <td>82</td>\n",
       "    </tr>\n",
       "    <tr>\n",
       "      <th>16</th>\n",
       "      <td>Hanna</td>\n",
       "      <td>Andresen</td>\n",
       "      <td>45</td>\n",
       "      <td>Female</td>\n",
       "      <td>Norway</td>\n",
       "      <td>Private</td>\n",
       "      <td>85</td>\n",
       "      <td>Bachelors</td>\n",
       "      <td>156</td>\n",
       "      <td>87.0</td>\n",
       "      <td>82</td>\n",
       "    </tr>\n",
       "    <tr>\n",
       "      <th>17</th>\n",
       "      <td>Jorunn</td>\n",
       "      <td>Eliassen</td>\n",
       "      <td>47</td>\n",
       "      <td>Female</td>\n",
       "      <td>Norway</td>\n",
       "      <td>Private</td>\n",
       "      <td>86</td>\n",
       "      <td>Bachelors</td>\n",
       "      <td>156</td>\n",
       "      <td>80.0</td>\n",
       "      <td>78</td>\n",
       "    </tr>\n",
       "    <tr>\n",
       "      <th>18</th>\n",
       "      <td>Sebastian</td>\n",
       "      <td>Kristiansen</td>\n",
       "      <td>48</td>\n",
       "      <td>Male</td>\n",
       "      <td>Norway</td>\n",
       "      <td>Private</td>\n",
       "      <td>75</td>\n",
       "      <td>Bachelors</td>\n",
       "      <td>148</td>\n",
       "      <td>76.0</td>\n",
       "      <td>73</td>\n",
       "    </tr>\n",
       "    <tr>\n",
       "      <th>19</th>\n",
       "      <td>Camilla</td>\n",
       "      <td>Mikkelsen</td>\n",
       "      <td>50</td>\n",
       "      <td>Female</td>\n",
       "      <td>Norway</td>\n",
       "      <td>Private</td>\n",
       "      <td>95</td>\n",
       "      <td>Masters</td>\n",
       "      <td>160</td>\n",
       "      <td>84.0</td>\n",
       "      <td>90</td>\n",
       "    </tr>\n",
       "  </tbody>\n",
       "</table>\n",
       "</div>"
      ],
      "text/plain": [
       "        fNAME        lNAME  Age  gender       country     residence  \\\n",
       "0   Christina       Binger   44  Female        Norway       Private   \n",
       "1        Alex     Walekhwa   60       M         Kenya       Private   \n",
       "2      Philip          Leo   25    Male        Uganda     Sognsvann   \n",
       "3       Shoni    Hlongwane   24       F           Rsa     Sognsvann   \n",
       "4       Maria     Kedibone   23  Female  South Africa     Sognsvann   \n",
       "5      Hannah       Hansen   25  female         Norge  BI Residence   \n",
       "6         Ole     Johansen   27    Male        Norway  BI-Residence   \n",
       "7        Lars        Olsen   29    Male        norway   BIResidence   \n",
       "8       Bjørn       Larsen   31    Male        Norway  BI Residence   \n",
       "9       Sofie       Jensen   33  Female       Denmark  BI_Residence   \n",
       "10       Emma     de Vries   34  Female   Netherlands  BI Residence   \n",
       "11    Solveig     Eliassen   36  Female        Norway       Private   \n",
       "12        Odd      Knudsen   38    male        Norway       Private   \n",
       "13     Grethe    Myklebust   40  Female        Norway       Private   \n",
       "14      Marco        Rossi   42    Male         Italy       Private   \n",
       "15     Ingrid         Eide   43  Female        Norway       Private   \n",
       "16      Hanna     Andresen   45  Female        Norway       Private   \n",
       "17     Jorunn     Eliassen   47  Female        Norway       Private   \n",
       "18  Sebastian  Kristiansen   48    Male        Norway       Private   \n",
       "19    Camilla    Mikkelsen   50  Female        Norway       Private   \n",
       "\n",
       "    entryEXAM prevEducation  studyHOURS  Python  DB  \n",
       "0          72       Masters         158    59.0  55  \n",
       "1          79       Diploma         150    60.0  75  \n",
       "2          55    HighSchool         130    74.0  50  \n",
       "3          40   High School         120     NaN  44  \n",
       "4          65   High School         122    91.0  80  \n",
       "5          66   High School         130    88.0  59  \n",
       "6          90     Bachelors         156    80.0  91  \n",
       "7          89  Barrrchelors         160    85.0  60  \n",
       "8          88     Bachelors         156    80.0  89  \n",
       "9          85     Bachelors         160    83.0  90  \n",
       "10         65     Bachelors         156    79.0  58  \n",
       "11         70       diploma         156    80.0  55  \n",
       "12         91       DIPLOMA         156    85.0  99  \n",
       "13         77     Diplomaaa         144    70.0  76  \n",
       "14         80     Bachelors         152    75.0  77  \n",
       "15         81     Bachelors         156    80.0  82  \n",
       "16         85     Bachelors         156    87.0  82  \n",
       "17         86     Bachelors         156    80.0  78  \n",
       "18         75     Bachelors         148    76.0  73  \n",
       "19         95       Masters         160    84.0  90  "
      ]
     },
     "execution_count": 3,
     "metadata": {},
     "output_type": "execute_result"
    }
   ],
   "source": [
    "df.head(20)"
   ]
  },
  {
   "cell_type": "markdown",
   "id": "7620f485-2cc6-4914-83c4-126dd88d2281",
   "metadata": {},
   "source": [
    "### last Five row"
   ]
  },
  {
   "cell_type": "code",
   "execution_count": 4,
   "id": "7f9530eb-5b64-46cd-8057-760f0a6167be",
   "metadata": {},
   "outputs": [
    {
     "data": {
      "text/html": [
       "<div>\n",
       "<style scoped>\n",
       "    .dataframe tbody tr th:only-of-type {\n",
       "        vertical-align: middle;\n",
       "    }\n",
       "\n",
       "    .dataframe tbody tr th {\n",
       "        vertical-align: top;\n",
       "    }\n",
       "\n",
       "    .dataframe thead th {\n",
       "        text-align: right;\n",
       "    }\n",
       "</style>\n",
       "<table border=\"1\" class=\"dataframe\">\n",
       "  <thead>\n",
       "    <tr style=\"text-align: right;\">\n",
       "      <th></th>\n",
       "      <th>fNAME</th>\n",
       "      <th>lNAME</th>\n",
       "      <th>Age</th>\n",
       "      <th>gender</th>\n",
       "      <th>country</th>\n",
       "      <th>residence</th>\n",
       "      <th>entryEXAM</th>\n",
       "      <th>prevEducation</th>\n",
       "      <th>studyHOURS</th>\n",
       "      <th>Python</th>\n",
       "      <th>DB</th>\n",
       "    </tr>\n",
       "  </thead>\n",
       "  <tbody>\n",
       "    <tr>\n",
       "      <th>72</th>\n",
       "      <td>Clara</td>\n",
       "      <td>Bernard</td>\n",
       "      <td>43</td>\n",
       "      <td>Female</td>\n",
       "      <td>France</td>\n",
       "      <td>Private</td>\n",
       "      <td>80</td>\n",
       "      <td>Bachelors</td>\n",
       "      <td>150</td>\n",
       "      <td>75.0</td>\n",
       "      <td>43</td>\n",
       "    </tr>\n",
       "    <tr>\n",
       "      <th>73</th>\n",
       "      <td>Julian</td>\n",
       "      <td>Nielsen</td>\n",
       "      <td>31</td>\n",
       "      <td>Male</td>\n",
       "      <td>Denmark</td>\n",
       "      <td>Sognsvann</td>\n",
       "      <td>90</td>\n",
       "      <td>Masters</td>\n",
       "      <td>158</td>\n",
       "      <td>84.0</td>\n",
       "      <td>83</td>\n",
       "    </tr>\n",
       "    <tr>\n",
       "      <th>74</th>\n",
       "      <td>Sophie</td>\n",
       "      <td>Brown</td>\n",
       "      <td>33</td>\n",
       "      <td>Female</td>\n",
       "      <td>UK</td>\n",
       "      <td>Sognsvann</td>\n",
       "      <td>96</td>\n",
       "      <td>Masters</td>\n",
       "      <td>158</td>\n",
       "      <td>85.0</td>\n",
       "      <td>90</td>\n",
       "    </tr>\n",
       "    <tr>\n",
       "      <th>75</th>\n",
       "      <td>Leon</td>\n",
       "      <td>Bauer</td>\n",
       "      <td>35</td>\n",
       "      <td>Male</td>\n",
       "      <td>Germany</td>\n",
       "      <td>Sognsvann</td>\n",
       "      <td>90</td>\n",
       "      <td>Masters</td>\n",
       "      <td>160</td>\n",
       "      <td>87.0</td>\n",
       "      <td>74</td>\n",
       "    </tr>\n",
       "    <tr>\n",
       "      <th>76</th>\n",
       "      <td>Mohammed</td>\n",
       "      <td>Salim</td>\n",
       "      <td>31</td>\n",
       "      <td>Male</td>\n",
       "      <td>Somali</td>\n",
       "      <td>Sognsvann</td>\n",
       "      <td>35</td>\n",
       "      <td>Masters</td>\n",
       "      <td>144</td>\n",
       "      <td>72.0</td>\n",
       "      <td>90</td>\n",
       "    </tr>\n",
       "  </tbody>\n",
       "</table>\n",
       "</div>"
      ],
      "text/plain": [
       "       fNAME    lNAME  Age  gender  country  residence  entryEXAM  \\\n",
       "72     Clara  Bernard   43  Female   France    Private         80   \n",
       "73    Julian  Nielsen   31    Male  Denmark  Sognsvann         90   \n",
       "74    Sophie    Brown   33  Female       UK  Sognsvann         96   \n",
       "75      Leon    Bauer   35    Male  Germany  Sognsvann         90   \n",
       "76  Mohammed    Salim   31    Male   Somali  Sognsvann         35   \n",
       "\n",
       "   prevEducation  studyHOURS  Python  DB  \n",
       "72     Bachelors         150    75.0  43  \n",
       "73       Masters         158    84.0  83  \n",
       "74       Masters         158    85.0  90  \n",
       "75       Masters         160    87.0  74  \n",
       "76       Masters         144    72.0  90  "
      ]
     },
     "execution_count": 4,
     "metadata": {},
     "output_type": "execute_result"
    }
   ],
   "source": [
    "df.tail()"
   ]
  },
  {
   "cell_type": "markdown",
   "id": "1f5eb59e-1d2a-4bb0-8ea0-de7af4d67154",
   "metadata": {},
   "source": [
    "### Shape of our dataset"
   ]
  },
  {
   "cell_type": "code",
   "execution_count": 5,
   "id": "ef0a4a5f-11e2-43df-ac1a-2382dc6b5ad3",
   "metadata": {},
   "outputs": [
    {
     "data": {
      "text/plain": [
       "(77, 11)"
      ]
     },
     "execution_count": 5,
     "metadata": {},
     "output_type": "execute_result"
    }
   ],
   "source": [
    "df.shape"
   ]
  },
  {
   "cell_type": "markdown",
   "id": "9406850a-309b-48d9-a537-0692e78a1ea0",
   "metadata": {},
   "source": [
    "### List out all columns"
   ]
  },
  {
   "cell_type": "code",
   "execution_count": 6,
   "id": "0b913ce8-45c0-4d7b-897d-33e6bd385b24",
   "metadata": {},
   "outputs": [
    {
     "data": {
      "text/plain": [
       "Index(['fNAME', 'lNAME', 'Age', 'gender', 'country', 'residence', 'entryEXAM',\n",
       "       'prevEducation', 'studyHOURS', 'Python', 'DB'],\n",
       "      dtype='object')"
      ]
     },
     "execution_count": 6,
     "metadata": {},
     "output_type": "execute_result"
    }
   ],
   "source": [
    "df.columns"
   ]
  },
  {
   "cell_type": "markdown",
   "id": "5a165287-3812-49d7-b3a3-e8c985b84327",
   "metadata": {},
   "source": [
    "### Datatype of each columns"
   ]
  },
  {
   "cell_type": "code",
   "execution_count": 7,
   "id": "3b3e4e17-b3ba-40bf-91a6-d865a4e4cb32",
   "metadata": {},
   "outputs": [
    {
     "data": {
      "text/plain": [
       "fNAME             object\n",
       "lNAME             object\n",
       "Age                int64\n",
       "gender            object\n",
       "country           object\n",
       "residence         object\n",
       "entryEXAM          int64\n",
       "prevEducation     object\n",
       "studyHOURS         int64\n",
       "Python           float64\n",
       "DB                 int64\n",
       "dtype: object"
      ]
     },
     "execution_count": 7,
     "metadata": {},
     "output_type": "execute_result"
    }
   ],
   "source": [
    "df.dtypes"
   ]
  },
  {
   "cell_type": "markdown",
   "id": "7eb500d0-b3db-42ff-9f3b-ab2403c6828a",
   "metadata": {},
   "source": [
    "### Information of all Columns"
   ]
  },
  {
   "cell_type": "code",
   "execution_count": 8,
   "id": "7afc46ca-e4db-40bc-969e-a0a1649ef013",
   "metadata": {},
   "outputs": [
    {
     "name": "stdout",
     "output_type": "stream",
     "text": [
      "<class 'pandas.core.frame.DataFrame'>\n",
      "RangeIndex: 77 entries, 0 to 76\n",
      "Data columns (total 11 columns):\n",
      " #   Column         Non-Null Count  Dtype  \n",
      "---  ------         --------------  -----  \n",
      " 0   fNAME          77 non-null     object \n",
      " 1   lNAME          77 non-null     object \n",
      " 2   Age            77 non-null     int64  \n",
      " 3   gender         77 non-null     object \n",
      " 4   country        77 non-null     object \n",
      " 5   residence      77 non-null     object \n",
      " 6   entryEXAM      77 non-null     int64  \n",
      " 7   prevEducation  77 non-null     object \n",
      " 8   studyHOURS     77 non-null     int64  \n",
      " 9   Python         75 non-null     float64\n",
      " 10  DB             77 non-null     int64  \n",
      "dtypes: float64(1), int64(4), object(6)\n",
      "memory usage: 6.7+ KB\n"
     ]
    }
   ],
   "source": [
    "df.info()"
   ]
  },
  {
   "cell_type": "markdown",
   "id": "a9aea021-3ec8-419f-9bce-abf272b5a162",
   "metadata": {},
   "source": [
    "### Check Null Value"
   ]
  },
  {
   "cell_type": "code",
   "execution_count": 9,
   "id": "fbd22b30-5cc3-4be9-a589-6eb28fdd8248",
   "metadata": {},
   "outputs": [
    {
     "data": {
      "text/plain": [
       "fNAME            0\n",
       "lNAME            0\n",
       "Age              0\n",
       "gender           0\n",
       "country          0\n",
       "residence        0\n",
       "entryEXAM        0\n",
       "prevEducation    0\n",
       "studyHOURS       0\n",
       "Python           2\n",
       "DB               0\n",
       "dtype: int64"
      ]
     },
     "execution_count": 9,
     "metadata": {},
     "output_type": "execute_result"
    }
   ],
   "source": [
    "df.isnull().sum()"
   ]
  },
  {
   "cell_type": "markdown",
   "id": "198df462-f743-4d2f-877c-0f1aad40cec3",
   "metadata": {},
   "source": [
    "### Handle Null value"
   ]
  },
  {
   "cell_type": "code",
   "execution_count": 10,
   "id": "1425daea-f38a-4963-be4c-0ee2a33b0f8e",
   "metadata": {},
   "outputs": [
    {
     "data": {
      "text/plain": [
       "fNAME            0\n",
       "lNAME            0\n",
       "Age              0\n",
       "gender           0\n",
       "country          0\n",
       "residence        0\n",
       "entryEXAM        0\n",
       "prevEducation    0\n",
       "studyHOURS       0\n",
       "Python           0\n",
       "DB               0\n",
       "dtype: int64"
      ]
     },
     "execution_count": 10,
     "metadata": {},
     "output_type": "execute_result"
    }
   ],
   "source": [
    "df['Python'] = df['Python'].fillna(df['Python'].mean())\n",
    "df.isnull().sum()"
   ]
  },
  {
   "cell_type": "markdown",
   "id": "2e4e8bf2-e03f-4bb9-acbb-1ea6e7730799",
   "metadata": {},
   "source": [
    "### Check Duplicate Value"
   ]
  },
  {
   "cell_type": "code",
   "execution_count": 11,
   "id": "51e4148e-93cf-4e11-acbf-b89764bc4726",
   "metadata": {},
   "outputs": [
    {
     "data": {
      "text/plain": [
       "np.int64(0)"
      ]
     },
     "execution_count": 11,
     "metadata": {},
     "output_type": "execute_result"
    }
   ],
   "source": [
    "df.duplicated().sum()"
   ]
  },
  {
   "cell_type": "markdown",
   "id": "d7d82352-8742-4802-a0cf-22ac9e1a6347",
   "metadata": {},
   "source": [
    "### summary of the dataset"
   ]
  },
  {
   "cell_type": "code",
   "execution_count": 12,
   "id": "a72e4f27-7c1c-4acd-99dd-e062c385e293",
   "metadata": {},
   "outputs": [
    {
     "data": {
      "text/html": [
       "<div>\n",
       "<style scoped>\n",
       "    .dataframe tbody tr th:only-of-type {\n",
       "        vertical-align: middle;\n",
       "    }\n",
       "\n",
       "    .dataframe tbody tr th {\n",
       "        vertical-align: top;\n",
       "    }\n",
       "\n",
       "    .dataframe thead th {\n",
       "        text-align: right;\n",
       "    }\n",
       "</style>\n",
       "<table border=\"1\" class=\"dataframe\">\n",
       "  <thead>\n",
       "    <tr style=\"text-align: right;\">\n",
       "      <th></th>\n",
       "      <th>Age</th>\n",
       "      <th>entryEXAM</th>\n",
       "      <th>studyHOURS</th>\n",
       "      <th>Python</th>\n",
       "      <th>DB</th>\n",
       "    </tr>\n",
       "  </thead>\n",
       "  <tbody>\n",
       "    <tr>\n",
       "      <th>count</th>\n",
       "      <td>77.000000</td>\n",
       "      <td>77.000000</td>\n",
       "      <td>77.000000</td>\n",
       "      <td>77.000000</td>\n",
       "      <td>77.000000</td>\n",
       "    </tr>\n",
       "    <tr>\n",
       "      <th>mean</th>\n",
       "      <td>35.233766</td>\n",
       "      <td>76.753247</td>\n",
       "      <td>149.714286</td>\n",
       "      <td>75.853333</td>\n",
       "      <td>69.467532</td>\n",
       "    </tr>\n",
       "    <tr>\n",
       "      <th>std</th>\n",
       "      <td>10.310822</td>\n",
       "      <td>16.475784</td>\n",
       "      <td>12.743272</td>\n",
       "      <td>15.206208</td>\n",
       "      <td>17.033701</td>\n",
       "    </tr>\n",
       "    <tr>\n",
       "      <th>min</th>\n",
       "      <td>21.000000</td>\n",
       "      <td>28.000000</td>\n",
       "      <td>114.000000</td>\n",
       "      <td>15.000000</td>\n",
       "      <td>30.000000</td>\n",
       "    </tr>\n",
       "    <tr>\n",
       "      <th>25%</th>\n",
       "      <td>27.000000</td>\n",
       "      <td>69.000000</td>\n",
       "      <td>144.000000</td>\n",
       "      <td>72.000000</td>\n",
       "      <td>56.000000</td>\n",
       "    </tr>\n",
       "    <tr>\n",
       "      <th>50%</th>\n",
       "      <td>33.000000</td>\n",
       "      <td>80.000000</td>\n",
       "      <td>156.000000</td>\n",
       "      <td>81.000000</td>\n",
       "      <td>71.000000</td>\n",
       "    </tr>\n",
       "    <tr>\n",
       "      <th>75%</th>\n",
       "      <td>42.000000</td>\n",
       "      <td>90.000000</td>\n",
       "      <td>158.000000</td>\n",
       "      <td>85.000000</td>\n",
       "      <td>83.000000</td>\n",
       "    </tr>\n",
       "    <tr>\n",
       "      <th>max</th>\n",
       "      <td>71.000000</td>\n",
       "      <td>98.000000</td>\n",
       "      <td>160.000000</td>\n",
       "      <td>91.000000</td>\n",
       "      <td>100.000000</td>\n",
       "    </tr>\n",
       "  </tbody>\n",
       "</table>\n",
       "</div>"
      ],
      "text/plain": [
       "             Age  entryEXAM  studyHOURS     Python          DB\n",
       "count  77.000000  77.000000   77.000000  77.000000   77.000000\n",
       "mean   35.233766  76.753247  149.714286  75.853333   69.467532\n",
       "std    10.310822  16.475784   12.743272  15.206208   17.033701\n",
       "min    21.000000  28.000000  114.000000  15.000000   30.000000\n",
       "25%    27.000000  69.000000  144.000000  72.000000   56.000000\n",
       "50%    33.000000  80.000000  156.000000  81.000000   71.000000\n",
       "75%    42.000000  90.000000  158.000000  85.000000   83.000000\n",
       "max    71.000000  98.000000  160.000000  91.000000  100.000000"
      ]
     },
     "execution_count": 12,
     "metadata": {},
     "output_type": "execute_result"
    }
   ],
   "source": [
    "df.describe()"
   ]
  },
  {
   "cell_type": "markdown",
   "id": "e4315044-0642-44f5-a9c3-1b452a081ab1",
   "metadata": {},
   "source": [
    "## Data Cleaning"
   ]
  },
  {
   "cell_type": "markdown",
   "id": "1958c0f8-018d-4d06-8a00-2ac5a91fe6ba",
   "metadata": {},
   "source": [
    "### Clean Column Names"
   ]
  },
  {
   "cell_type": "code",
   "execution_count": 13,
   "id": "1357a292-a245-4aba-a572-1dc425ba1290",
   "metadata": {},
   "outputs": [
    {
     "data": {
      "text/plain": [
       "Index(['fNAME', 'lNAME', 'Age', 'gender', 'country', 'residence', 'entryEXAM',\n",
       "       'prevEducation', 'studyHOURS', 'Python', 'DB'],\n",
       "      dtype='object')"
      ]
     },
     "execution_count": 13,
     "metadata": {},
     "output_type": "execute_result"
    }
   ],
   "source": [
    "df.columns"
   ]
  },
  {
   "cell_type": "code",
   "execution_count": 14,
   "id": "820551ad-c5b5-4ae2-b6b7-6b3703c0c99e",
   "metadata": {},
   "outputs": [
    {
     "data": {
      "text/plain": [
       "Index(['FName', 'LName', 'Age', 'Gender', 'Country', 'Residence', 'EntryExam',\n",
       "       'PrevEducation', 'StudyHours', 'Python', 'Db'],\n",
       "      dtype='object')"
      ]
     },
     "execution_count": 14,
     "metadata": {},
     "output_type": "execute_result"
    }
   ],
   "source": [
    "import re\n",
    "\n",
    "def clean_column(name):\n",
    "    words = re.findall(r'[A-Z]?[a-z]+|[A-Z]+(?![a-z])', name)\n",
    "    return ''.join([w.capitalize() for w in words])\n",
    "\n",
    "df.columns = [clean_column(col) for col in df.columns]\n",
    "\n",
    "df.columns"
   ]
  },
  {
   "cell_type": "markdown",
   "id": "78811a61-e294-4a0b-8d48-c32937ada544",
   "metadata": {},
   "source": [
    "### Standardize Country Names"
   ]
  },
  {
   "cell_type": "code",
   "execution_count": 15,
   "id": "dc127d7d-1cd1-4d1f-bb4e-68183f18f241",
   "metadata": {},
   "outputs": [
    {
     "data": {
      "text/plain": [
       "array(['Norway', 'Kenya', 'Uganda', 'Rsa', 'South Africa', 'Norge',\n",
       "       'norway', 'Denmark', 'Netherlands', 'Italy', 'Spain', 'UK',\n",
       "       'Somali', 'Nigeria', 'Germany', 'France'], dtype=object)"
      ]
     },
     "execution_count": 15,
     "metadata": {},
     "output_type": "execute_result"
    }
   ],
   "source": [
    "df['Country'].unique()"
   ]
  },
  {
   "cell_type": "code",
   "execution_count": 16,
   "id": "024719e8-fbd4-48c8-8837-14507ecf2b54",
   "metadata": {},
   "outputs": [
    {
     "data": {
      "text/plain": [
       "array(['Norway', 'Kenya', 'Uganda', 'Russia', 'South Africa', 'Denmark',\n",
       "       'Netherlands', 'Italy', 'Spain', 'United Kingdom', 'Somalia',\n",
       "       'Nigeria', 'Germany', 'France'], dtype=object)"
      ]
     },
     "execution_count": 16,
     "metadata": {},
     "output_type": "execute_result"
    }
   ],
   "source": [
    "country_mapping  = {\n",
    "    'Rsa': 'Russia',\n",
    "    'Norge': 'Norway',\n",
    "    'norway': 'Norway',\n",
    "    'UK': 'United Kingdom',\n",
    "    'Somali': 'Somalia'\n",
    "}\n",
    "\n",
    "df[\"Country\"] = df[\"Country\"].replace(country_mapping)\n",
    "df['Country'].unique()"
   ]
  },
  {
   "cell_type": "markdown",
   "id": "63c1bc91-6227-48c3-92cc-3d8f7b9d0df1",
   "metadata": {},
   "source": [
    "### Standardize Education Leavl"
   ]
  },
  {
   "cell_type": "code",
   "execution_count": 17,
   "id": "4077ed25-670e-4030-bf08-afbada47329e",
   "metadata": {},
   "outputs": [
    {
     "data": {
      "text/plain": [
       "array(['Masters', 'Diploma', 'HighSchool', 'High School', 'Bachelors',\n",
       "       'Barrrchelors', 'diploma', 'DIPLOMA', 'Diplomaaa', 'Doctorate'],\n",
       "      dtype=object)"
      ]
     },
     "execution_count": 17,
     "metadata": {},
     "output_type": "execute_result"
    }
   ],
   "source": [
    "df['PrevEducation'].unique()"
   ]
  },
  {
   "cell_type": "code",
   "execution_count": 18,
   "id": "d2dfb2fd-d3f4-44b6-9920-7257861363b3",
   "metadata": {},
   "outputs": [
    {
     "name": "stdout",
     "output_type": "stream",
     "text": [
      "['Masters' 'Diploma' 'High School' 'Bachelors' 'Doctorate']\n"
     ]
    }
   ],
   "source": [
    "education_mapping = {\n",
    "    'HighSchool': 'High School',\n",
    "    'High School': 'High School',\n",
    "    'Bachelors': 'Bachelors',\n",
    "    'Barrrchelors': 'Bachelors',\n",
    "    'Masters': 'Masters',\n",
    "    'Diploma': 'Diploma',\n",
    "    'diploma': 'Diploma',\n",
    "    'DIPLOMA': 'Diploma',\n",
    "    'Diplomaaa': 'Diploma',\n",
    "    'Doctorate': 'Doctorate'\n",
    "}\n",
    "df['PrevEducation'] = df['PrevEducation'].replace(education_mapping)\n",
    "print(df['PrevEducation'].unique())"
   ]
  },
  {
   "cell_type": "markdown",
   "id": "87d7ffc9-b2e4-443b-b65f-1203067fa10e",
   "metadata": {},
   "source": [
    "### Standardize Gender Values"
   ]
  },
  {
   "cell_type": "code",
   "execution_count": 19,
   "id": "58a4c5fd-667b-4535-b329-e73476a4455e",
   "metadata": {},
   "outputs": [
    {
     "data": {
      "text/plain": [
       "array(['Female', 'M', 'Male', 'F', 'female', 'male'], dtype=object)"
      ]
     },
     "execution_count": 19,
     "metadata": {},
     "output_type": "execute_result"
    }
   ],
   "source": [
    "df['Gender'].unique()"
   ]
  },
  {
   "cell_type": "code",
   "execution_count": 20,
   "id": "e5576f18-b6e6-40c8-ab89-f2429ea1aa63",
   "metadata": {},
   "outputs": [
    {
     "data": {
      "text/plain": [
       "array(['Female', 'Male'], dtype=object)"
      ]
     },
     "execution_count": 20,
     "metadata": {},
     "output_type": "execute_result"
    }
   ],
   "source": [
    "gender_mapping = {\n",
    "    'F': 'Female',\n",
    "    'Female': 'Female',\n",
    "    'female': 'Female',\n",
    "    'M': 'Male',\n",
    "    'Male': 'Male',\n",
    "    'male': 'Male'\n",
    "}\n",
    "\n",
    "df['Gender'] = df['Gender'].replace(gender_mapping)\n",
    "\n",
    "df['Gender'].unique()"
   ]
  },
  {
   "cell_type": "markdown",
   "id": "c9c8110f-a2b7-430a-9c26-c2c8c59c30b5",
   "metadata": {},
   "source": [
    "### Standardize Residence Values"
   ]
  },
  {
   "cell_type": "code",
   "execution_count": 21,
   "id": "81b44803-7eae-4073-9e45-a1dc68e095c0",
   "metadata": {},
   "outputs": [
    {
     "data": {
      "text/plain": [
       "array(['Private', 'Sognsvann', 'BI Residence', 'BI-Residence',\n",
       "       'BIResidence', 'BI_Residence'], dtype=object)"
      ]
     },
     "execution_count": 21,
     "metadata": {},
     "output_type": "execute_result"
    }
   ],
   "source": [
    "df['Residence'].unique()"
   ]
  },
  {
   "cell_type": "code",
   "execution_count": 22,
   "id": "18fc5ab9-597a-46e1-ab52-47014c32b5db",
   "metadata": {},
   "outputs": [
    {
     "name": "stdout",
     "output_type": "stream",
     "text": [
      "['Private' 'Sognsvann' 'BI Residence']\n"
     ]
    }
   ],
   "source": [
    "residence_mapping = {\n",
    "    'Private': 'Private',\n",
    "    'Sognsvann': 'Sognsvann',\n",
    "    'BI Residence': 'BI Residence',\n",
    "    'BI-Residence': 'BI Residence',\n",
    "    'BIResidence': 'BI Residence',\n",
    "    'BI_Residence': 'BI Residence'\n",
    "}\n",
    "df['Residence'] = df['Residence'].replace(residence_mapping)\n",
    "print(df['Residence'].unique())"
   ]
  },
  {
   "cell_type": "markdown",
   "id": "5ffe5b70-f6ed-40dd-b25f-71d603351973",
   "metadata": {},
   "source": [
    "### Full Name Column"
   ]
  },
  {
   "cell_type": "code",
   "execution_count": 23,
   "id": "91fcfcc5-1b16-49ab-9f71-5818a3c04fcf",
   "metadata": {},
   "outputs": [
    {
     "data": {
      "text/plain": [
       "0     Christina Binger\n",
       "1        Alex Walekhwa\n",
       "2           Philip Leo\n",
       "3      Shoni Hlongwane\n",
       "4       Maria Kedibone\n",
       "            ...       \n",
       "72       Clara Bernard\n",
       "73      Julian Nielsen\n",
       "74        Sophie Brown\n",
       "75          Leon Bauer\n",
       "76      Mohammed Salim\n",
       "Name: Name, Length: 77, dtype: object"
      ]
     },
     "execution_count": 23,
     "metadata": {},
     "output_type": "execute_result"
    }
   ],
   "source": [
    "df.insert(0, 'Name', df['FName'] + ' ' + df['LName'])\n",
    "\n",
    "df = df.drop(columns=['FName', 'LName'])\n",
    "\n",
    "df['Name']"
   ]
  },
  {
   "cell_type": "markdown",
   "id": "cdef2942-69fa-48ef-baaf-f38ea0665032",
   "metadata": {},
   "source": [
    "### Needed Columns formatted to two decimal places"
   ]
  },
  {
   "cell_type": "code",
   "execution_count": 24,
   "id": "46a6d9ec-0651-44d7-be4d-913f378a4e6e",
   "metadata": {},
   "outputs": [],
   "source": [
    "df['EntryExam'] = df['EntryExam'].map('{:.2f}'.format)\n",
    "df['StudyHours'] = df['StudyHours'].map('{:.2f}'.format)\n",
    "df['Python'] = df['Python'].map('{:.2f}'.format)\n",
    "df['Db'] = df['Db'].map('{:.2f}'.format)"
   ]
  },
  {
   "cell_type": "markdown",
   "id": "dd4a2944-b33e-460b-bf2c-f505796a9bc9",
   "metadata": {},
   "source": [
    "# Final Dataset"
   ]
  },
  {
   "cell_type": "markdown",
   "id": "33956d11-c722-4f15-9a40-dbe67489c26c",
   "metadata": {},
   "source": [
    "## First 5 row"
   ]
  },
  {
   "cell_type": "code",
   "execution_count": 25,
   "id": "b8a46c92-f297-4aeb-97ee-e5011dbc53cc",
   "metadata": {},
   "outputs": [
    {
     "data": {
      "text/html": [
       "<div>\n",
       "<style scoped>\n",
       "    .dataframe tbody tr th:only-of-type {\n",
       "        vertical-align: middle;\n",
       "    }\n",
       "\n",
       "    .dataframe tbody tr th {\n",
       "        vertical-align: top;\n",
       "    }\n",
       "\n",
       "    .dataframe thead th {\n",
       "        text-align: right;\n",
       "    }\n",
       "</style>\n",
       "<table border=\"1\" class=\"dataframe\">\n",
       "  <thead>\n",
       "    <tr style=\"text-align: right;\">\n",
       "      <th></th>\n",
       "      <th>Name</th>\n",
       "      <th>Age</th>\n",
       "      <th>Gender</th>\n",
       "      <th>Country</th>\n",
       "      <th>Residence</th>\n",
       "      <th>EntryExam</th>\n",
       "      <th>PrevEducation</th>\n",
       "      <th>StudyHours</th>\n",
       "      <th>Python</th>\n",
       "      <th>Db</th>\n",
       "    </tr>\n",
       "  </thead>\n",
       "  <tbody>\n",
       "    <tr>\n",
       "      <th>0</th>\n",
       "      <td>Christina Binger</td>\n",
       "      <td>44</td>\n",
       "      <td>Female</td>\n",
       "      <td>Norway</td>\n",
       "      <td>Private</td>\n",
       "      <td>72.00</td>\n",
       "      <td>Masters</td>\n",
       "      <td>158.00</td>\n",
       "      <td>59.00</td>\n",
       "      <td>55.00</td>\n",
       "    </tr>\n",
       "    <tr>\n",
       "      <th>1</th>\n",
       "      <td>Alex Walekhwa</td>\n",
       "      <td>60</td>\n",
       "      <td>Male</td>\n",
       "      <td>Kenya</td>\n",
       "      <td>Private</td>\n",
       "      <td>79.00</td>\n",
       "      <td>Diploma</td>\n",
       "      <td>150.00</td>\n",
       "      <td>60.00</td>\n",
       "      <td>75.00</td>\n",
       "    </tr>\n",
       "    <tr>\n",
       "      <th>2</th>\n",
       "      <td>Philip Leo</td>\n",
       "      <td>25</td>\n",
       "      <td>Male</td>\n",
       "      <td>Uganda</td>\n",
       "      <td>Sognsvann</td>\n",
       "      <td>55.00</td>\n",
       "      <td>High School</td>\n",
       "      <td>130.00</td>\n",
       "      <td>74.00</td>\n",
       "      <td>50.00</td>\n",
       "    </tr>\n",
       "    <tr>\n",
       "      <th>3</th>\n",
       "      <td>Shoni Hlongwane</td>\n",
       "      <td>24</td>\n",
       "      <td>Female</td>\n",
       "      <td>Russia</td>\n",
       "      <td>Sognsvann</td>\n",
       "      <td>40.00</td>\n",
       "      <td>High School</td>\n",
       "      <td>120.00</td>\n",
       "      <td>75.85</td>\n",
       "      <td>44.00</td>\n",
       "    </tr>\n",
       "    <tr>\n",
       "      <th>4</th>\n",
       "      <td>Maria Kedibone</td>\n",
       "      <td>23</td>\n",
       "      <td>Female</td>\n",
       "      <td>South Africa</td>\n",
       "      <td>Sognsvann</td>\n",
       "      <td>65.00</td>\n",
       "      <td>High School</td>\n",
       "      <td>122.00</td>\n",
       "      <td>91.00</td>\n",
       "      <td>80.00</td>\n",
       "    </tr>\n",
       "  </tbody>\n",
       "</table>\n",
       "</div>"
      ],
      "text/plain": [
       "               Name  Age  Gender       Country  Residence EntryExam  \\\n",
       "0  Christina Binger   44  Female        Norway    Private     72.00   \n",
       "1     Alex Walekhwa   60    Male         Kenya    Private     79.00   \n",
       "2        Philip Leo   25    Male        Uganda  Sognsvann     55.00   \n",
       "3   Shoni Hlongwane   24  Female        Russia  Sognsvann     40.00   \n",
       "4    Maria Kedibone   23  Female  South Africa  Sognsvann     65.00   \n",
       "\n",
       "  PrevEducation StudyHours Python     Db  \n",
       "0       Masters     158.00  59.00  55.00  \n",
       "1       Diploma     150.00  60.00  75.00  \n",
       "2   High School     130.00  74.00  50.00  \n",
       "3   High School     120.00  75.85  44.00  \n",
       "4   High School     122.00  91.00  80.00  "
      ]
     },
     "execution_count": 25,
     "metadata": {},
     "output_type": "execute_result"
    }
   ],
   "source": [
    "df.head()"
   ]
  },
  {
   "cell_type": "markdown",
   "id": "b6817463-02c4-42c5-9a3c-579a8c8ecf91",
   "metadata": {},
   "source": [
    "## Last 5 row"
   ]
  },
  {
   "cell_type": "code",
   "execution_count": 26,
   "id": "66efff06-00a2-4151-be16-9618ed58e06b",
   "metadata": {},
   "outputs": [
    {
     "data": {
      "text/html": [
       "<div>\n",
       "<style scoped>\n",
       "    .dataframe tbody tr th:only-of-type {\n",
       "        vertical-align: middle;\n",
       "    }\n",
       "\n",
       "    .dataframe tbody tr th {\n",
       "        vertical-align: top;\n",
       "    }\n",
       "\n",
       "    .dataframe thead th {\n",
       "        text-align: right;\n",
       "    }\n",
       "</style>\n",
       "<table border=\"1\" class=\"dataframe\">\n",
       "  <thead>\n",
       "    <tr style=\"text-align: right;\">\n",
       "      <th></th>\n",
       "      <th>Name</th>\n",
       "      <th>Age</th>\n",
       "      <th>Gender</th>\n",
       "      <th>Country</th>\n",
       "      <th>Residence</th>\n",
       "      <th>EntryExam</th>\n",
       "      <th>PrevEducation</th>\n",
       "      <th>StudyHours</th>\n",
       "      <th>Python</th>\n",
       "      <th>Db</th>\n",
       "    </tr>\n",
       "  </thead>\n",
       "  <tbody>\n",
       "    <tr>\n",
       "      <th>72</th>\n",
       "      <td>Clara Bernard</td>\n",
       "      <td>43</td>\n",
       "      <td>Female</td>\n",
       "      <td>France</td>\n",
       "      <td>Private</td>\n",
       "      <td>80.00</td>\n",
       "      <td>Bachelors</td>\n",
       "      <td>150.00</td>\n",
       "      <td>75.00</td>\n",
       "      <td>43.00</td>\n",
       "    </tr>\n",
       "    <tr>\n",
       "      <th>73</th>\n",
       "      <td>Julian Nielsen</td>\n",
       "      <td>31</td>\n",
       "      <td>Male</td>\n",
       "      <td>Denmark</td>\n",
       "      <td>Sognsvann</td>\n",
       "      <td>90.00</td>\n",
       "      <td>Masters</td>\n",
       "      <td>158.00</td>\n",
       "      <td>84.00</td>\n",
       "      <td>83.00</td>\n",
       "    </tr>\n",
       "    <tr>\n",
       "      <th>74</th>\n",
       "      <td>Sophie Brown</td>\n",
       "      <td>33</td>\n",
       "      <td>Female</td>\n",
       "      <td>United Kingdom</td>\n",
       "      <td>Sognsvann</td>\n",
       "      <td>96.00</td>\n",
       "      <td>Masters</td>\n",
       "      <td>158.00</td>\n",
       "      <td>85.00</td>\n",
       "      <td>90.00</td>\n",
       "    </tr>\n",
       "    <tr>\n",
       "      <th>75</th>\n",
       "      <td>Leon Bauer</td>\n",
       "      <td>35</td>\n",
       "      <td>Male</td>\n",
       "      <td>Germany</td>\n",
       "      <td>Sognsvann</td>\n",
       "      <td>90.00</td>\n",
       "      <td>Masters</td>\n",
       "      <td>160.00</td>\n",
       "      <td>87.00</td>\n",
       "      <td>74.00</td>\n",
       "    </tr>\n",
       "    <tr>\n",
       "      <th>76</th>\n",
       "      <td>Mohammed Salim</td>\n",
       "      <td>31</td>\n",
       "      <td>Male</td>\n",
       "      <td>Somalia</td>\n",
       "      <td>Sognsvann</td>\n",
       "      <td>35.00</td>\n",
       "      <td>Masters</td>\n",
       "      <td>144.00</td>\n",
       "      <td>72.00</td>\n",
       "      <td>90.00</td>\n",
       "    </tr>\n",
       "  </tbody>\n",
       "</table>\n",
       "</div>"
      ],
      "text/plain": [
       "              Name  Age  Gender         Country  Residence EntryExam  \\\n",
       "72   Clara Bernard   43  Female          France    Private     80.00   \n",
       "73  Julian Nielsen   31    Male         Denmark  Sognsvann     90.00   \n",
       "74    Sophie Brown   33  Female  United Kingdom  Sognsvann     96.00   \n",
       "75      Leon Bauer   35    Male         Germany  Sognsvann     90.00   \n",
       "76  Mohammed Salim   31    Male         Somalia  Sognsvann     35.00   \n",
       "\n",
       "   PrevEducation StudyHours Python     Db  \n",
       "72     Bachelors     150.00  75.00  43.00  \n",
       "73       Masters     158.00  84.00  83.00  \n",
       "74       Masters     158.00  85.00  90.00  \n",
       "75       Masters     160.00  87.00  74.00  \n",
       "76       Masters     144.00  72.00  90.00  "
      ]
     },
     "execution_count": 26,
     "metadata": {},
     "output_type": "execute_result"
    }
   ],
   "source": [
    "df.tail()"
   ]
  },
  {
   "cell_type": "code",
   "execution_count": null,
   "id": "2dd16521-7585-4f4a-a20f-4c1000f27af0",
   "metadata": {},
   "outputs": [],
   "source": []
  }
 ],
 "metadata": {
  "kernelspec": {
   "display_name": "Python 3 (ipykernel)",
   "language": "python",
   "name": "python3"
  },
  "language_info": {
   "codemirror_mode": {
    "name": "ipython",
    "version": 3
   },
   "file_extension": ".py",
   "mimetype": "text/x-python",
   "name": "python",
   "nbconvert_exporter": "python",
   "pygments_lexer": "ipython3",
   "version": "3.13.3"
  }
 },
 "nbformat": 4,
 "nbformat_minor": 5
}
