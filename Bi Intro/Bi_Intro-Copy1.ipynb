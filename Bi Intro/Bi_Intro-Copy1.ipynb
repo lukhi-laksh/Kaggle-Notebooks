{
 "cells": [
  {
   "cell_type": "markdown",
   "id": "99ecb997-2fa8-4923-9d17-4e565f3f64f4",
   "metadata": {},
   "source": [
    "# 📊 Dataset Information\n",
    "\n",
    "**Note:** The dataset for this project is **may not included in this repository** to keep the repository lightweight.  \n",
    "\n",
    "You can download the dataset from **Kaggle** using the link below:  \n",
    "\n",
    "[Download the Bi_Intro Dataset](https://www.kaggle.com/datasets/walekhwatlphilip/intro-to-data-cleaning-eda-and-machine-learning)  \n",
    "\n",
    "Please make sure to place the downloaded CSV file in the same directory as this notebook before running any code.\n"
   ]
  },
  {
   "cell_type": "markdown",
   "id": "71e91d14-a42d-465c-b643-ec25d276c952",
   "metadata": {},
   "source": [
    "# Importing"
   ]
  },
  {
   "cell_type": "markdown",
   "id": "27a13aff-83dd-4ba9-a2c0-85e6513430c8",
   "metadata": {},
   "source": [
    "## Import Libraray"
   ]
  },
  {
   "cell_type": "code",
   "execution_count": 1,
   "id": "bf1bab7f-95aa-49a6-9485-cf2524730331",
   "metadata": {},
   "outputs": [],
   "source": [
    "import pandas as pd\n",
    "import numpy as np\n",
    "import matplotlib.pyplot as plt\n",
    "import seaborn as sns\n",
    "import warnings\n",
    "\n",
    "warnings.simplefilter(action='ignore', category=FutureWarning)"
   ]
  },
  {
   "cell_type": "markdown",
   "id": "bf44654c-0d4f-45ae-a190-8b47ad910442",
   "metadata": {},
   "source": [
    "## Import CSV And convert to DataFrame"
   ]
  },
  {
   "cell_type": "code",
   "execution_count": 2,
   "id": "b0fb6741-544e-43f9-aaf1-1a9992a402b0",
   "metadata": {},
   "outputs": [],
   "source": [
    "df = pd.read_csv('bi.csv', encoding='latin1')"
   ]
  },
  {
   "cell_type": "markdown",
   "id": "12d57610-45d3-4093-bf4f-70d8f4d9b292",
   "metadata": {},
   "source": [
    "# PreProcessing"
   ]
  },
  {
   "cell_type": "markdown",
   "id": "b718f9ec-c07f-496b-b24f-6a60538ddd3c",
   "metadata": {},
   "source": [
    "## Details of Dataset"
   ]
  },
  {
   "cell_type": "markdown",
   "id": "920b7fd0-47bd-49b0-8871-8b38b2e1fbea",
   "metadata": {},
   "source": [
    "### Frist five row"
   ]
  },
  {
   "cell_type": "code",
   "execution_count": 3,
   "id": "90436015-c3b1-41a8-8ab8-5c224d948e73",
   "metadata": {},
   "outputs": [
    {
     "data": {
      "text/html": [
       "<div>\n",
       "<style scoped>\n",
       "    .dataframe tbody tr th:only-of-type {\n",
       "        vertical-align: middle;\n",
       "    }\n",
       "\n",
       "    .dataframe tbody tr th {\n",
       "        vertical-align: top;\n",
       "    }\n",
       "\n",
       "    .dataframe thead th {\n",
       "        text-align: right;\n",
       "    }\n",
       "</style>\n",
       "<table border=\"1\" class=\"dataframe\">\n",
       "  <thead>\n",
       "    <tr style=\"text-align: right;\">\n",
       "      <th></th>\n",
       "      <th>fNAME</th>\n",
       "      <th>lNAME</th>\n",
       "      <th>Age</th>\n",
       "      <th>gender</th>\n",
       "      <th>country</th>\n",
       "      <th>residence</th>\n",
       "      <th>entryEXAM</th>\n",
       "      <th>prevEducation</th>\n",
       "      <th>studyHOURS</th>\n",
       "      <th>Python</th>\n",
       "      <th>DB</th>\n",
       "    </tr>\n",
       "  </thead>\n",
       "  <tbody>\n",
       "    <tr>\n",
       "      <th>0</th>\n",
       "      <td>Christina</td>\n",
       "      <td>Binger</td>\n",
       "      <td>44</td>\n",
       "      <td>Female</td>\n",
       "      <td>Norway</td>\n",
       "      <td>Private</td>\n",
       "      <td>72</td>\n",
       "      <td>Masters</td>\n",
       "      <td>158</td>\n",
       "      <td>59.0</td>\n",
       "      <td>55</td>\n",
       "    </tr>\n",
       "    <tr>\n",
       "      <th>1</th>\n",
       "      <td>Alex</td>\n",
       "      <td>Walekhwa</td>\n",
       "      <td>60</td>\n",
       "      <td>M</td>\n",
       "      <td>Kenya</td>\n",
       "      <td>Private</td>\n",
       "      <td>79</td>\n",
       "      <td>Diploma</td>\n",
       "      <td>150</td>\n",
       "      <td>60.0</td>\n",
       "      <td>75</td>\n",
       "    </tr>\n",
       "    <tr>\n",
       "      <th>2</th>\n",
       "      <td>Philip</td>\n",
       "      <td>Leo</td>\n",
       "      <td>25</td>\n",
       "      <td>Male</td>\n",
       "      <td>Uganda</td>\n",
       "      <td>Sognsvann</td>\n",
       "      <td>55</td>\n",
       "      <td>HighSchool</td>\n",
       "      <td>130</td>\n",
       "      <td>74.0</td>\n",
       "      <td>50</td>\n",
       "    </tr>\n",
       "    <tr>\n",
       "      <th>3</th>\n",
       "      <td>Shoni</td>\n",
       "      <td>Hlongwane</td>\n",
       "      <td>24</td>\n",
       "      <td>F</td>\n",
       "      <td>Rsa</td>\n",
       "      <td>Sognsvann</td>\n",
       "      <td>40</td>\n",
       "      <td>High School</td>\n",
       "      <td>120</td>\n",
       "      <td>NaN</td>\n",
       "      <td>44</td>\n",
       "    </tr>\n",
       "    <tr>\n",
       "      <th>4</th>\n",
       "      <td>Maria</td>\n",
       "      <td>Kedibone</td>\n",
       "      <td>23</td>\n",
       "      <td>Female</td>\n",
       "      <td>South Africa</td>\n",
       "      <td>Sognsvann</td>\n",
       "      <td>65</td>\n",
       "      <td>High School</td>\n",
       "      <td>122</td>\n",
       "      <td>91.0</td>\n",
       "      <td>80</td>\n",
       "    </tr>\n",
       "  </tbody>\n",
       "</table>\n",
       "</div>"
      ],
      "text/plain": [
       "       fNAME      lNAME  Age  gender       country  residence  entryEXAM  \\\n",
       "0  Christina     Binger   44  Female        Norway    Private         72   \n",
       "1       Alex   Walekhwa   60       M         Kenya    Private         79   \n",
       "2     Philip        Leo   25    Male        Uganda  Sognsvann         55   \n",
       "3      Shoni  Hlongwane   24       F           Rsa  Sognsvann         40   \n",
       "4      Maria   Kedibone   23  Female  South Africa  Sognsvann         65   \n",
       "\n",
       "  prevEducation  studyHOURS  Python  DB  \n",
       "0       Masters         158    59.0  55  \n",
       "1       Diploma         150    60.0  75  \n",
       "2    HighSchool         130    74.0  50  \n",
       "3   High School         120     NaN  44  \n",
       "4   High School         122    91.0  80  "
      ]
     },
     "execution_count": 3,
     "metadata": {},
     "output_type": "execute_result"
    }
   ],
   "source": [
    "df.head()"
   ]
  },
  {
   "cell_type": "markdown",
   "id": "7620f485-2cc6-4914-83c4-126dd88d2281",
   "metadata": {},
   "source": [
    "### last Five row"
   ]
  },
  {
   "cell_type": "code",
   "execution_count": 4,
   "id": "7f9530eb-5b64-46cd-8057-760f0a6167be",
   "metadata": {},
   "outputs": [
    {
     "data": {
      "text/html": [
       "<div>\n",
       "<style scoped>\n",
       "    .dataframe tbody tr th:only-of-type {\n",
       "        vertical-align: middle;\n",
       "    }\n",
       "\n",
       "    .dataframe tbody tr th {\n",
       "        vertical-align: top;\n",
       "    }\n",
       "\n",
       "    .dataframe thead th {\n",
       "        text-align: right;\n",
       "    }\n",
       "</style>\n",
       "<table border=\"1\" class=\"dataframe\">\n",
       "  <thead>\n",
       "    <tr style=\"text-align: right;\">\n",
       "      <th></th>\n",
       "      <th>fNAME</th>\n",
       "      <th>lNAME</th>\n",
       "      <th>Age</th>\n",
       "      <th>gender</th>\n",
       "      <th>country</th>\n",
       "      <th>residence</th>\n",
       "      <th>entryEXAM</th>\n",
       "      <th>prevEducation</th>\n",
       "      <th>studyHOURS</th>\n",
       "      <th>Python</th>\n",
       "      <th>DB</th>\n",
       "    </tr>\n",
       "  </thead>\n",
       "  <tbody>\n",
       "    <tr>\n",
       "      <th>72</th>\n",
       "      <td>Clara</td>\n",
       "      <td>Bernard</td>\n",
       "      <td>43</td>\n",
       "      <td>Female</td>\n",
       "      <td>France</td>\n",
       "      <td>Private</td>\n",
       "      <td>80</td>\n",
       "      <td>Bachelors</td>\n",
       "      <td>150</td>\n",
       "      <td>75.0</td>\n",
       "      <td>43</td>\n",
       "    </tr>\n",
       "    <tr>\n",
       "      <th>73</th>\n",
       "      <td>Julian</td>\n",
       "      <td>Nielsen</td>\n",
       "      <td>31</td>\n",
       "      <td>Male</td>\n",
       "      <td>Denmark</td>\n",
       "      <td>Sognsvann</td>\n",
       "      <td>90</td>\n",
       "      <td>Masters</td>\n",
       "      <td>158</td>\n",
       "      <td>84.0</td>\n",
       "      <td>83</td>\n",
       "    </tr>\n",
       "    <tr>\n",
       "      <th>74</th>\n",
       "      <td>Sophie</td>\n",
       "      <td>Brown</td>\n",
       "      <td>33</td>\n",
       "      <td>Female</td>\n",
       "      <td>UK</td>\n",
       "      <td>Sognsvann</td>\n",
       "      <td>96</td>\n",
       "      <td>Masters</td>\n",
       "      <td>158</td>\n",
       "      <td>85.0</td>\n",
       "      <td>90</td>\n",
       "    </tr>\n",
       "    <tr>\n",
       "      <th>75</th>\n",
       "      <td>Leon</td>\n",
       "      <td>Bauer</td>\n",
       "      <td>35</td>\n",
       "      <td>Male</td>\n",
       "      <td>Germany</td>\n",
       "      <td>Sognsvann</td>\n",
       "      <td>90</td>\n",
       "      <td>Masters</td>\n",
       "      <td>160</td>\n",
       "      <td>87.0</td>\n",
       "      <td>74</td>\n",
       "    </tr>\n",
       "    <tr>\n",
       "      <th>76</th>\n",
       "      <td>Mohammed</td>\n",
       "      <td>Salim</td>\n",
       "      <td>31</td>\n",
       "      <td>Male</td>\n",
       "      <td>Somali</td>\n",
       "      <td>Sognsvann</td>\n",
       "      <td>35</td>\n",
       "      <td>Masters</td>\n",
       "      <td>144</td>\n",
       "      <td>72.0</td>\n",
       "      <td>90</td>\n",
       "    </tr>\n",
       "  </tbody>\n",
       "</table>\n",
       "</div>"
      ],
      "text/plain": [
       "       fNAME    lNAME  Age  gender  country  residence  entryEXAM  \\\n",
       "72     Clara  Bernard   43  Female   France    Private         80   \n",
       "73    Julian  Nielsen   31    Male  Denmark  Sognsvann         90   \n",
       "74    Sophie    Brown   33  Female       UK  Sognsvann         96   \n",
       "75      Leon    Bauer   35    Male  Germany  Sognsvann         90   \n",
       "76  Mohammed    Salim   31    Male   Somali  Sognsvann         35   \n",
       "\n",
       "   prevEducation  studyHOURS  Python  DB  \n",
       "72     Bachelors         150    75.0  43  \n",
       "73       Masters         158    84.0  83  \n",
       "74       Masters         158    85.0  90  \n",
       "75       Masters         160    87.0  74  \n",
       "76       Masters         144    72.0  90  "
      ]
     },
     "execution_count": 4,
     "metadata": {},
     "output_type": "execute_result"
    }
   ],
   "source": [
    "df.tail()"
   ]
  },
  {
   "cell_type": "markdown",
   "id": "1f5eb59e-1d2a-4bb0-8ea0-de7af4d67154",
   "metadata": {},
   "source": [
    "### Shape of our dataset"
   ]
  },
  {
   "cell_type": "code",
   "execution_count": 5,
   "id": "ef0a4a5f-11e2-43df-ac1a-2382dc6b5ad3",
   "metadata": {},
   "outputs": [
    {
     "data": {
      "text/plain": [
       "(77, 11)"
      ]
     },
     "execution_count": 5,
     "metadata": {},
     "output_type": "execute_result"
    }
   ],
   "source": [
    "df.shape"
   ]
  },
  {
   "cell_type": "markdown",
   "id": "9406850a-309b-48d9-a537-0692e78a1ea0",
   "metadata": {},
   "source": [
    "### List out all columns"
   ]
  },
  {
   "cell_type": "code",
   "execution_count": 6,
   "id": "0b913ce8-45c0-4d7b-897d-33e6bd385b24",
   "metadata": {},
   "outputs": [
    {
     "data": {
      "text/plain": [
       "Index(['fNAME', 'lNAME', 'Age', 'gender', 'country', 'residence', 'entryEXAM',\n",
       "       'prevEducation', 'studyHOURS', 'Python', 'DB'],\n",
       "      dtype='object')"
      ]
     },
     "execution_count": 6,
     "metadata": {},
     "output_type": "execute_result"
    }
   ],
   "source": [
    "df.columns"
   ]
  },
  {
   "cell_type": "markdown",
   "id": "5a165287-3812-49d7-b3a3-e8c985b84327",
   "metadata": {},
   "source": [
    "### Datatype of each columns"
   ]
  },
  {
   "cell_type": "code",
   "execution_count": 7,
   "id": "3b3e4e17-b3ba-40bf-91a6-d865a4e4cb32",
   "metadata": {},
   "outputs": [
    {
     "data": {
      "text/plain": [
       "fNAME             object\n",
       "lNAME             object\n",
       "Age                int64\n",
       "gender            object\n",
       "country           object\n",
       "residence         object\n",
       "entryEXAM          int64\n",
       "prevEducation     object\n",
       "studyHOURS         int64\n",
       "Python           float64\n",
       "DB                 int64\n",
       "dtype: object"
      ]
     },
     "execution_count": 7,
     "metadata": {},
     "output_type": "execute_result"
    }
   ],
   "source": [
    "df.dtypes"
   ]
  },
  {
   "cell_type": "markdown",
   "id": "7eb500d0-b3db-42ff-9f3b-ab2403c6828a",
   "metadata": {},
   "source": [
    "### Information of all Columns"
   ]
  },
  {
   "cell_type": "code",
   "execution_count": 8,
   "id": "7afc46ca-e4db-40bc-969e-a0a1649ef013",
   "metadata": {},
   "outputs": [
    {
     "name": "stdout",
     "output_type": "stream",
     "text": [
      "<class 'pandas.core.frame.DataFrame'>\n",
      "RangeIndex: 77 entries, 0 to 76\n",
      "Data columns (total 11 columns):\n",
      " #   Column         Non-Null Count  Dtype  \n",
      "---  ------         --------------  -----  \n",
      " 0   fNAME          77 non-null     object \n",
      " 1   lNAME          77 non-null     object \n",
      " 2   Age            77 non-null     int64  \n",
      " 3   gender         77 non-null     object \n",
      " 4   country        77 non-null     object \n",
      " 5   residence      77 non-null     object \n",
      " 6   entryEXAM      77 non-null     int64  \n",
      " 7   prevEducation  77 non-null     object \n",
      " 8   studyHOURS     77 non-null     int64  \n",
      " 9   Python         75 non-null     float64\n",
      " 10  DB             77 non-null     int64  \n",
      "dtypes: float64(1), int64(4), object(6)\n",
      "memory usage: 6.7+ KB\n"
     ]
    }
   ],
   "source": [
    "df.info()"
   ]
  },
  {
   "cell_type": "markdown",
   "id": "a9aea021-3ec8-419f-9bce-abf272b5a162",
   "metadata": {},
   "source": [
    "### Check Null Value"
   ]
  },
  {
   "cell_type": "code",
   "execution_count": 9,
   "id": "fbd22b30-5cc3-4be9-a589-6eb28fdd8248",
   "metadata": {},
   "outputs": [
    {
     "data": {
      "text/plain": [
       "fNAME            0\n",
       "lNAME            0\n",
       "Age              0\n",
       "gender           0\n",
       "country          0\n",
       "residence        0\n",
       "entryEXAM        0\n",
       "prevEducation    0\n",
       "studyHOURS       0\n",
       "Python           2\n",
       "DB               0\n",
       "dtype: int64"
      ]
     },
     "execution_count": 9,
     "metadata": {},
     "output_type": "execute_result"
    }
   ],
   "source": [
    "df.isnull().sum()"
   ]
  },
  {
   "cell_type": "markdown",
   "id": "198df462-f743-4d2f-877c-0f1aad40cec3",
   "metadata": {},
   "source": [
    "### Handle Null value, Replace with Mean"
   ]
  },
  {
   "cell_type": "code",
   "execution_count": 10,
   "id": "1425daea-f38a-4963-be4c-0ee2a33b0f8e",
   "metadata": {},
   "outputs": [
    {
     "data": {
      "text/plain": [
       "fNAME            0\n",
       "lNAME            0\n",
       "Age              0\n",
       "gender           0\n",
       "country          0\n",
       "residence        0\n",
       "entryEXAM        0\n",
       "prevEducation    0\n",
       "studyHOURS       0\n",
       "Python           0\n",
       "DB               0\n",
       "dtype: int64"
      ]
     },
     "execution_count": 10,
     "metadata": {},
     "output_type": "execute_result"
    }
   ],
   "source": [
    "df['Python'] = df['Python'].fillna(df['Python'].mean())\n",
    "df.isnull().sum()"
   ]
  },
  {
   "cell_type": "markdown",
   "id": "2e4e8bf2-e03f-4bb9-acbb-1ea6e7730799",
   "metadata": {},
   "source": [
    "### Check Duplicate Value"
   ]
  },
  {
   "cell_type": "code",
   "execution_count": 11,
   "id": "51e4148e-93cf-4e11-acbf-b89764bc4726",
   "metadata": {},
   "outputs": [
    {
     "data": {
      "text/plain": [
       "np.int64(0)"
      ]
     },
     "execution_count": 11,
     "metadata": {},
     "output_type": "execute_result"
    }
   ],
   "source": [
    "df.duplicated().sum()"
   ]
  },
  {
   "cell_type": "markdown",
   "id": "d7d82352-8742-4802-a0cf-22ac9e1a6347",
   "metadata": {},
   "source": [
    "### summary of the dataset"
   ]
  },
  {
   "cell_type": "code",
   "execution_count": 12,
   "id": "a72e4f27-7c1c-4acd-99dd-e062c385e293",
   "metadata": {},
   "outputs": [
    {
     "data": {
      "text/html": [
       "<div>\n",
       "<style scoped>\n",
       "    .dataframe tbody tr th:only-of-type {\n",
       "        vertical-align: middle;\n",
       "    }\n",
       "\n",
       "    .dataframe tbody tr th {\n",
       "        vertical-align: top;\n",
       "    }\n",
       "\n",
       "    .dataframe thead th {\n",
       "        text-align: right;\n",
       "    }\n",
       "</style>\n",
       "<table border=\"1\" class=\"dataframe\">\n",
       "  <thead>\n",
       "    <tr style=\"text-align: right;\">\n",
       "      <th></th>\n",
       "      <th>Age</th>\n",
       "      <th>entryEXAM</th>\n",
       "      <th>studyHOURS</th>\n",
       "      <th>Python</th>\n",
       "      <th>DB</th>\n",
       "    </tr>\n",
       "  </thead>\n",
       "  <tbody>\n",
       "    <tr>\n",
       "      <th>count</th>\n",
       "      <td>77.000000</td>\n",
       "      <td>77.000000</td>\n",
       "      <td>77.000000</td>\n",
       "      <td>77.000000</td>\n",
       "      <td>77.000000</td>\n",
       "    </tr>\n",
       "    <tr>\n",
       "      <th>mean</th>\n",
       "      <td>35.233766</td>\n",
       "      <td>76.753247</td>\n",
       "      <td>149.714286</td>\n",
       "      <td>75.853333</td>\n",
       "      <td>69.467532</td>\n",
       "    </tr>\n",
       "    <tr>\n",
       "      <th>std</th>\n",
       "      <td>10.310822</td>\n",
       "      <td>16.475784</td>\n",
       "      <td>12.743272</td>\n",
       "      <td>15.206208</td>\n",
       "      <td>17.033701</td>\n",
       "    </tr>\n",
       "    <tr>\n",
       "      <th>min</th>\n",
       "      <td>21.000000</td>\n",
       "      <td>28.000000</td>\n",
       "      <td>114.000000</td>\n",
       "      <td>15.000000</td>\n",
       "      <td>30.000000</td>\n",
       "    </tr>\n",
       "    <tr>\n",
       "      <th>25%</th>\n",
       "      <td>27.000000</td>\n",
       "      <td>69.000000</td>\n",
       "      <td>144.000000</td>\n",
       "      <td>72.000000</td>\n",
       "      <td>56.000000</td>\n",
       "    </tr>\n",
       "    <tr>\n",
       "      <th>50%</th>\n",
       "      <td>33.000000</td>\n",
       "      <td>80.000000</td>\n",
       "      <td>156.000000</td>\n",
       "      <td>81.000000</td>\n",
       "      <td>71.000000</td>\n",
       "    </tr>\n",
       "    <tr>\n",
       "      <th>75%</th>\n",
       "      <td>42.000000</td>\n",
       "      <td>90.000000</td>\n",
       "      <td>158.000000</td>\n",
       "      <td>85.000000</td>\n",
       "      <td>83.000000</td>\n",
       "    </tr>\n",
       "    <tr>\n",
       "      <th>max</th>\n",
       "      <td>71.000000</td>\n",
       "      <td>98.000000</td>\n",
       "      <td>160.000000</td>\n",
       "      <td>91.000000</td>\n",
       "      <td>100.000000</td>\n",
       "    </tr>\n",
       "  </tbody>\n",
       "</table>\n",
       "</div>"
      ],
      "text/plain": [
       "             Age  entryEXAM  studyHOURS     Python          DB\n",
       "count  77.000000  77.000000   77.000000  77.000000   77.000000\n",
       "mean   35.233766  76.753247  149.714286  75.853333   69.467532\n",
       "std    10.310822  16.475784   12.743272  15.206208   17.033701\n",
       "min    21.000000  28.000000  114.000000  15.000000   30.000000\n",
       "25%    27.000000  69.000000  144.000000  72.000000   56.000000\n",
       "50%    33.000000  80.000000  156.000000  81.000000   71.000000\n",
       "75%    42.000000  90.000000  158.000000  85.000000   83.000000\n",
       "max    71.000000  98.000000  160.000000  91.000000  100.000000"
      ]
     },
     "execution_count": 12,
     "metadata": {},
     "output_type": "execute_result"
    }
   ],
   "source": [
    "df.describe()"
   ]
  },
  {
   "cell_type": "markdown",
   "id": "e4315044-0642-44f5-a9c3-1b452a081ab1",
   "metadata": {},
   "source": [
    "## Data Cleaning"
   ]
  },
  {
   "cell_type": "markdown",
   "id": "1958c0f8-018d-4d06-8a00-2ac5a91fe6ba",
   "metadata": {},
   "source": [
    "### Clean Column Names"
   ]
  },
  {
   "cell_type": "code",
   "execution_count": 13,
   "id": "1357a292-a245-4aba-a572-1dc425ba1290",
   "metadata": {},
   "outputs": [
    {
     "data": {
      "text/plain": [
       "Index(['fNAME', 'lNAME', 'Age', 'gender', 'country', 'residence', 'entryEXAM',\n",
       "       'prevEducation', 'studyHOURS', 'Python', 'DB'],\n",
       "      dtype='object')"
      ]
     },
     "execution_count": 13,
     "metadata": {},
     "output_type": "execute_result"
    }
   ],
   "source": [
    "df.columns"
   ]
  },
  {
   "cell_type": "code",
   "execution_count": 14,
   "id": "820551ad-c5b5-4ae2-b6b7-6b3703c0c99e",
   "metadata": {},
   "outputs": [
    {
     "data": {
      "text/plain": [
       "Index(['FName', 'LName', 'Age', 'Gender', 'Country', 'Residence', 'EntryExam',\n",
       "       'PrevEducation', 'StudyHours', 'Python', 'Db'],\n",
       "      dtype='object')"
      ]
     },
     "execution_count": 14,
     "metadata": {},
     "output_type": "execute_result"
    }
   ],
   "source": [
    "import re\n",
    "\n",
    "def clean_column(name):\n",
    "    words = re.findall(r'[A-Z]?[a-z]+|[A-Z]+(?![a-z])', name)\n",
    "    return ''.join([w.capitalize() for w in words])\n",
    "\n",
    "df.columns = [clean_column(col) for col in df.columns]\n",
    "\n",
    "df.columns"
   ]
  },
  {
   "cell_type": "markdown",
   "id": "78811a61-e294-4a0b-8d48-c32937ada544",
   "metadata": {},
   "source": [
    "### Standardize Country Names"
   ]
  },
  {
   "cell_type": "code",
   "execution_count": 15,
   "id": "dc127d7d-1cd1-4d1f-bb4e-68183f18f241",
   "metadata": {},
   "outputs": [
    {
     "data": {
      "text/plain": [
       "array(['Norway', 'Kenya', 'Uganda', 'Rsa', 'South Africa', 'Norge',\n",
       "       'norway', 'Denmark', 'Netherlands', 'Italy', 'Spain', 'UK',\n",
       "       'Somali', 'Nigeria', 'Germany', 'France'], dtype=object)"
      ]
     },
     "execution_count": 15,
     "metadata": {},
     "output_type": "execute_result"
    }
   ],
   "source": [
    "df['Country'].unique()"
   ]
  },
  {
   "cell_type": "code",
   "execution_count": 16,
   "id": "024719e8-fbd4-48c8-8837-14507ecf2b54",
   "metadata": {},
   "outputs": [
    {
     "data": {
      "text/plain": [
       "array(['Norway', 'Kenya', 'Uganda', 'Russia', 'South Africa', 'Denmark',\n",
       "       'Netherlands', 'Italy', 'Spain', 'United Kingdom', 'Somalia',\n",
       "       'Nigeria', 'Germany', 'France'], dtype=object)"
      ]
     },
     "execution_count": 16,
     "metadata": {},
     "output_type": "execute_result"
    }
   ],
   "source": [
    "country_mapping  = {\n",
    "    'Rsa': 'Russia',\n",
    "    'Norge': 'Norway',\n",
    "    'norway': 'Norway',\n",
    "    'UK': 'United Kingdom',\n",
    "    'Somali': 'Somalia'\n",
    "}\n",
    "\n",
    "df[\"Country\"] = df[\"Country\"].replace(country_mapping)\n",
    "df['Country'].unique()"
   ]
  },
  {
   "cell_type": "markdown",
   "id": "63c1bc91-6227-48c3-92cc-3d8f7b9d0df1",
   "metadata": {},
   "source": [
    "### Standardize Education Leavl"
   ]
  },
  {
   "cell_type": "code",
   "execution_count": 17,
   "id": "4077ed25-670e-4030-bf08-afbada47329e",
   "metadata": {},
   "outputs": [
    {
     "data": {
      "text/plain": [
       "array(['Masters', 'Diploma', 'HighSchool', 'High School', 'Bachelors',\n",
       "       'Barrrchelors', 'diploma', 'DIPLOMA', 'Diplomaaa', 'Doctorate'],\n",
       "      dtype=object)"
      ]
     },
     "execution_count": 17,
     "metadata": {},
     "output_type": "execute_result"
    }
   ],
   "source": [
    "df['PrevEducation'].unique()"
   ]
  },
  {
   "cell_type": "code",
   "execution_count": 18,
   "id": "d2dfb2fd-d3f4-44b6-9920-7257861363b3",
   "metadata": {},
   "outputs": [
    {
     "name": "stdout",
     "output_type": "stream",
     "text": [
      "['Masters' 'Diploma' 'High School' 'Bachelors' 'Doctorate']\n"
     ]
    }
   ],
   "source": [
    "education_mapping = {\n",
    "    'HighSchool': 'High School',\n",
    "    'High School': 'High School',\n",
    "    'Bachelors': 'Bachelors',\n",
    "    'Barrrchelors': 'Bachelors',\n",
    "    'Masters': 'Masters',\n",
    "    'Diploma': 'Diploma',\n",
    "    'diploma': 'Diploma',\n",
    "    'DIPLOMA': 'Diploma',\n",
    "    'Diplomaaa': 'Diploma',\n",
    "    'Doctorate': 'Doctorate'\n",
    "}\n",
    "df['PrevEducation'] = df['PrevEducation'].replace(education_mapping)\n",
    "print(df['PrevEducation'].unique())"
   ]
  },
  {
   "cell_type": "markdown",
   "id": "87d7ffc9-b2e4-443b-b65f-1203067fa10e",
   "metadata": {},
   "source": [
    "### Standardize Gender Values"
   ]
  },
  {
   "cell_type": "code",
   "execution_count": 19,
   "id": "58a4c5fd-667b-4535-b329-e73476a4455e",
   "metadata": {},
   "outputs": [
    {
     "data": {
      "text/plain": [
       "array(['Female', 'M', 'Male', 'F', 'female', 'male'], dtype=object)"
      ]
     },
     "execution_count": 19,
     "metadata": {},
     "output_type": "execute_result"
    }
   ],
   "source": [
    "df['Gender'].unique()"
   ]
  },
  {
   "cell_type": "code",
   "execution_count": 20,
   "id": "e5576f18-b6e6-40c8-ab89-f2429ea1aa63",
   "metadata": {},
   "outputs": [
    {
     "data": {
      "text/plain": [
       "array(['Female', 'Male'], dtype=object)"
      ]
     },
     "execution_count": 20,
     "metadata": {},
     "output_type": "execute_result"
    }
   ],
   "source": [
    "gender_mapping = {\n",
    "    'F': 'Female',\n",
    "    'Female': 'Female',\n",
    "    'female': 'Female',\n",
    "    'M': 'Male',\n",
    "    'Male': 'Male',\n",
    "    'male': 'Male'\n",
    "}\n",
    "\n",
    "df['Gender'] = df['Gender'].replace(gender_mapping)\n",
    "\n",
    "df['Gender'].unique()"
   ]
  },
  {
   "cell_type": "markdown",
   "id": "c9c8110f-a2b7-430a-9c26-c2c8c59c30b5",
   "metadata": {},
   "source": [
    "### Standardize Residence Values"
   ]
  },
  {
   "cell_type": "code",
   "execution_count": 21,
   "id": "81b44803-7eae-4073-9e45-a1dc68e095c0",
   "metadata": {},
   "outputs": [
    {
     "data": {
      "text/plain": [
       "array(['Private', 'Sognsvann', 'BI Residence', 'BI-Residence',\n",
       "       'BIResidence', 'BI_Residence'], dtype=object)"
      ]
     },
     "execution_count": 21,
     "metadata": {},
     "output_type": "execute_result"
    }
   ],
   "source": [
    "df['Residence'].unique()"
   ]
  },
  {
   "cell_type": "code",
   "execution_count": 22,
   "id": "18fc5ab9-597a-46e1-ab52-47014c32b5db",
   "metadata": {},
   "outputs": [
    {
     "name": "stdout",
     "output_type": "stream",
     "text": [
      "['Private' 'Sognsvann' 'BI Residence']\n"
     ]
    }
   ],
   "source": [
    "residence_mapping = {\n",
    "    'Private': 'Private',\n",
    "    'Sognsvann': 'Sognsvann',\n",
    "    'BI Residence': 'BI Residence',\n",
    "    'BI-Residence': 'BI Residence',\n",
    "    'BIResidence': 'BI Residence',\n",
    "    'BI_Residence': 'BI Residence'\n",
    "}\n",
    "df['Residence'] = df['Residence'].replace(residence_mapping)\n",
    "print(df['Residence'].unique())"
   ]
  },
  {
   "cell_type": "markdown",
   "id": "5ffe5b70-f6ed-40dd-b25f-71d603351973",
   "metadata": {},
   "source": [
    "### Full Name Column"
   ]
  },
  {
   "cell_type": "code",
   "execution_count": 23,
   "id": "91fcfcc5-1b16-49ab-9f71-5818a3c04fcf",
   "metadata": {},
   "outputs": [
    {
     "data": {
      "text/plain": [
       "0     Christina Binger\n",
       "1        Alex Walekhwa\n",
       "2           Philip Leo\n",
       "3      Shoni Hlongwane\n",
       "4       Maria Kedibone\n",
       "            ...       \n",
       "72       Clara Bernard\n",
       "73      Julian Nielsen\n",
       "74        Sophie Brown\n",
       "75          Leon Bauer\n",
       "76      Mohammed Salim\n",
       "Name: Name, Length: 77, dtype: object"
      ]
     },
     "execution_count": 23,
     "metadata": {},
     "output_type": "execute_result"
    }
   ],
   "source": [
    "df.insert(0, 'Name', df['FName'] + ' ' + df['LName'])\n",
    "\n",
    "df = df.drop(columns=['FName', 'LName'])\n",
    "\n",
    "df['Name']"
   ]
  },
  {
   "cell_type": "markdown",
   "id": "cdef2942-69fa-48ef-baaf-f38ea0665032",
   "metadata": {},
   "source": [
    "### Needed Columns formatted to two decimal places"
   ]
  },
  {
   "cell_type": "code",
   "execution_count": 24,
   "id": "46a6d9ec-0651-44d7-be4d-913f378a4e6e",
   "metadata": {},
   "outputs": [],
   "source": [
    "df['EntryExam'] = df['EntryExam'].map('{:.2f}'.format)\n",
    "df['StudyHours'] = df['StudyHours'].map('{:.2f}'.format)\n",
    "df['Python'] = df['Python'].map('{:.2f}'.format)\n",
    "df['Db'] = df['Db'].map('{:.2f}'.format)"
   ]
  },
  {
   "cell_type": "markdown",
   "id": "dd4a2944-b33e-460b-bf2c-f505796a9bc9",
   "metadata": {},
   "source": [
    "# Final Dataset"
   ]
  },
  {
   "cell_type": "markdown",
   "id": "33956d11-c722-4f15-9a40-dbe67489c26c",
   "metadata": {},
   "source": [
    "## First 5 row"
   ]
  },
  {
   "cell_type": "code",
   "execution_count": 25,
   "id": "b8a46c92-f297-4aeb-97ee-e5011dbc53cc",
   "metadata": {},
   "outputs": [
    {
     "data": {
      "text/html": [
       "<div>\n",
       "<style scoped>\n",
       "    .dataframe tbody tr th:only-of-type {\n",
       "        vertical-align: middle;\n",
       "    }\n",
       "\n",
       "    .dataframe tbody tr th {\n",
       "        vertical-align: top;\n",
       "    }\n",
       "\n",
       "    .dataframe thead th {\n",
       "        text-align: right;\n",
       "    }\n",
       "</style>\n",
       "<table border=\"1\" class=\"dataframe\">\n",
       "  <thead>\n",
       "    <tr style=\"text-align: right;\">\n",
       "      <th></th>\n",
       "      <th>Name</th>\n",
       "      <th>Age</th>\n",
       "      <th>Gender</th>\n",
       "      <th>Country</th>\n",
       "      <th>Residence</th>\n",
       "      <th>EntryExam</th>\n",
       "      <th>PrevEducation</th>\n",
       "      <th>StudyHours</th>\n",
       "      <th>Python</th>\n",
       "      <th>Db</th>\n",
       "    </tr>\n",
       "  </thead>\n",
       "  <tbody>\n",
       "    <tr>\n",
       "      <th>0</th>\n",
       "      <td>Christina Binger</td>\n",
       "      <td>44</td>\n",
       "      <td>Female</td>\n",
       "      <td>Norway</td>\n",
       "      <td>Private</td>\n",
       "      <td>72.00</td>\n",
       "      <td>Masters</td>\n",
       "      <td>158.00</td>\n",
       "      <td>59.00</td>\n",
       "      <td>55.00</td>\n",
       "    </tr>\n",
       "    <tr>\n",
       "      <th>1</th>\n",
       "      <td>Alex Walekhwa</td>\n",
       "      <td>60</td>\n",
       "      <td>Male</td>\n",
       "      <td>Kenya</td>\n",
       "      <td>Private</td>\n",
       "      <td>79.00</td>\n",
       "      <td>Diploma</td>\n",
       "      <td>150.00</td>\n",
       "      <td>60.00</td>\n",
       "      <td>75.00</td>\n",
       "    </tr>\n",
       "    <tr>\n",
       "      <th>2</th>\n",
       "      <td>Philip Leo</td>\n",
       "      <td>25</td>\n",
       "      <td>Male</td>\n",
       "      <td>Uganda</td>\n",
       "      <td>Sognsvann</td>\n",
       "      <td>55.00</td>\n",
       "      <td>High School</td>\n",
       "      <td>130.00</td>\n",
       "      <td>74.00</td>\n",
       "      <td>50.00</td>\n",
       "    </tr>\n",
       "    <tr>\n",
       "      <th>3</th>\n",
       "      <td>Shoni Hlongwane</td>\n",
       "      <td>24</td>\n",
       "      <td>Female</td>\n",
       "      <td>Russia</td>\n",
       "      <td>Sognsvann</td>\n",
       "      <td>40.00</td>\n",
       "      <td>High School</td>\n",
       "      <td>120.00</td>\n",
       "      <td>75.85</td>\n",
       "      <td>44.00</td>\n",
       "    </tr>\n",
       "    <tr>\n",
       "      <th>4</th>\n",
       "      <td>Maria Kedibone</td>\n",
       "      <td>23</td>\n",
       "      <td>Female</td>\n",
       "      <td>South Africa</td>\n",
       "      <td>Sognsvann</td>\n",
       "      <td>65.00</td>\n",
       "      <td>High School</td>\n",
       "      <td>122.00</td>\n",
       "      <td>91.00</td>\n",
       "      <td>80.00</td>\n",
       "    </tr>\n",
       "  </tbody>\n",
       "</table>\n",
       "</div>"
      ],
      "text/plain": [
       "               Name  Age  Gender       Country  Residence EntryExam  \\\n",
       "0  Christina Binger   44  Female        Norway    Private     72.00   \n",
       "1     Alex Walekhwa   60    Male         Kenya    Private     79.00   \n",
       "2        Philip Leo   25    Male        Uganda  Sognsvann     55.00   \n",
       "3   Shoni Hlongwane   24  Female        Russia  Sognsvann     40.00   \n",
       "4    Maria Kedibone   23  Female  South Africa  Sognsvann     65.00   \n",
       "\n",
       "  PrevEducation StudyHours Python     Db  \n",
       "0       Masters     158.00  59.00  55.00  \n",
       "1       Diploma     150.00  60.00  75.00  \n",
       "2   High School     130.00  74.00  50.00  \n",
       "3   High School     120.00  75.85  44.00  \n",
       "4   High School     122.00  91.00  80.00  "
      ]
     },
     "execution_count": 25,
     "metadata": {},
     "output_type": "execute_result"
    }
   ],
   "source": [
    "df.head()"
   ]
  },
  {
   "cell_type": "markdown",
   "id": "b6817463-02c4-42c5-9a3c-579a8c8ecf91",
   "metadata": {},
   "source": [
    "## Last 5 row"
   ]
  },
  {
   "cell_type": "code",
   "execution_count": 26,
   "id": "66efff06-00a2-4151-be16-9618ed58e06b",
   "metadata": {},
   "outputs": [
    {
     "data": {
      "text/html": [
       "<div>\n",
       "<style scoped>\n",
       "    .dataframe tbody tr th:only-of-type {\n",
       "        vertical-align: middle;\n",
       "    }\n",
       "\n",
       "    .dataframe tbody tr th {\n",
       "        vertical-align: top;\n",
       "    }\n",
       "\n",
       "    .dataframe thead th {\n",
       "        text-align: right;\n",
       "    }\n",
       "</style>\n",
       "<table border=\"1\" class=\"dataframe\">\n",
       "  <thead>\n",
       "    <tr style=\"text-align: right;\">\n",
       "      <th></th>\n",
       "      <th>Name</th>\n",
       "      <th>Age</th>\n",
       "      <th>Gender</th>\n",
       "      <th>Country</th>\n",
       "      <th>Residence</th>\n",
       "      <th>EntryExam</th>\n",
       "      <th>PrevEducation</th>\n",
       "      <th>StudyHours</th>\n",
       "      <th>Python</th>\n",
       "      <th>Db</th>\n",
       "    </tr>\n",
       "  </thead>\n",
       "  <tbody>\n",
       "    <tr>\n",
       "      <th>72</th>\n",
       "      <td>Clara Bernard</td>\n",
       "      <td>43</td>\n",
       "      <td>Female</td>\n",
       "      <td>France</td>\n",
       "      <td>Private</td>\n",
       "      <td>80.00</td>\n",
       "      <td>Bachelors</td>\n",
       "      <td>150.00</td>\n",
       "      <td>75.00</td>\n",
       "      <td>43.00</td>\n",
       "    </tr>\n",
       "    <tr>\n",
       "      <th>73</th>\n",
       "      <td>Julian Nielsen</td>\n",
       "      <td>31</td>\n",
       "      <td>Male</td>\n",
       "      <td>Denmark</td>\n",
       "      <td>Sognsvann</td>\n",
       "      <td>90.00</td>\n",
       "      <td>Masters</td>\n",
       "      <td>158.00</td>\n",
       "      <td>84.00</td>\n",
       "      <td>83.00</td>\n",
       "    </tr>\n",
       "    <tr>\n",
       "      <th>74</th>\n",
       "      <td>Sophie Brown</td>\n",
       "      <td>33</td>\n",
       "      <td>Female</td>\n",
       "      <td>United Kingdom</td>\n",
       "      <td>Sognsvann</td>\n",
       "      <td>96.00</td>\n",
       "      <td>Masters</td>\n",
       "      <td>158.00</td>\n",
       "      <td>85.00</td>\n",
       "      <td>90.00</td>\n",
       "    </tr>\n",
       "    <tr>\n",
       "      <th>75</th>\n",
       "      <td>Leon Bauer</td>\n",
       "      <td>35</td>\n",
       "      <td>Male</td>\n",
       "      <td>Germany</td>\n",
       "      <td>Sognsvann</td>\n",
       "      <td>90.00</td>\n",
       "      <td>Masters</td>\n",
       "      <td>160.00</td>\n",
       "      <td>87.00</td>\n",
       "      <td>74.00</td>\n",
       "    </tr>\n",
       "    <tr>\n",
       "      <th>76</th>\n",
       "      <td>Mohammed Salim</td>\n",
       "      <td>31</td>\n",
       "      <td>Male</td>\n",
       "      <td>Somalia</td>\n",
       "      <td>Sognsvann</td>\n",
       "      <td>35.00</td>\n",
       "      <td>Masters</td>\n",
       "      <td>144.00</td>\n",
       "      <td>72.00</td>\n",
       "      <td>90.00</td>\n",
       "    </tr>\n",
       "  </tbody>\n",
       "</table>\n",
       "</div>"
      ],
      "text/plain": [
       "              Name  Age  Gender         Country  Residence EntryExam  \\\n",
       "72   Clara Bernard   43  Female          France    Private     80.00   \n",
       "73  Julian Nielsen   31    Male         Denmark  Sognsvann     90.00   \n",
       "74    Sophie Brown   33  Female  United Kingdom  Sognsvann     96.00   \n",
       "75      Leon Bauer   35    Male         Germany  Sognsvann     90.00   \n",
       "76  Mohammed Salim   31    Male         Somalia  Sognsvann     35.00   \n",
       "\n",
       "   PrevEducation StudyHours Python     Db  \n",
       "72     Bachelors     150.00  75.00  43.00  \n",
       "73       Masters     158.00  84.00  83.00  \n",
       "74       Masters     158.00  85.00  90.00  \n",
       "75       Masters     160.00  87.00  74.00  \n",
       "76       Masters     144.00  72.00  90.00  "
      ]
     },
     "execution_count": 26,
     "metadata": {},
     "output_type": "execute_result"
    }
   ],
   "source": [
    "df.tail()"
   ]
  },
  {
   "cell_type": "markdown",
   "id": "8e92383d-7be1-4f54-bf0b-68a6a45c562b",
   "metadata": {},
   "source": [
    "# Outlier"
   ]
  },
  {
   "cell_type": "markdown",
   "id": "a60c0aa1-d9aa-4954-b166-4b54282e48d1",
   "metadata": {},
   "source": [
    "## Find Outlier using Plot"
   ]
  },
  {
   "cell_type": "code",
   "execution_count": 27,
   "id": "643bdd1b-909a-4cd4-80f5-ba89bb41242d",
   "metadata": {},
   "outputs": [
    {
     "data": {
      "image/png": "[encoded data removed]",
      "text/plain": [
       "<Figure size 640x480 with 1 Axes>"
      ]
     },
     "metadata": {},
     "output_type": "display_data"
    }
   ],
   "source": [
    "sns.boxplot(y = 'Age', data=df)\n",
    "plt.show()"
   ]
  },
  {
   "cell_type": "markdown",
   "id": "62c7f20e-ec12-42ec-ba5e-2fb22f7085b4",
   "metadata": {},
   "source": [
    "## Find Outlier using IQR"
   ]
  },
  {
   "cell_type": "code",
   "execution_count": 28,
   "id": "de4ab1e5-e7c2-430c-bdad-671d1abcf900",
   "metadata": {},
   "outputs": [
    {
     "data": {
      "text/plain": [
       "np.float64(15.0)"
      ]
     },
     "execution_count": 28,
     "metadata": {},
     "output_type": "execute_result"
    }
   ],
   "source": [
    "Q1 = df['Age'].quantile(0.25)\n",
    "Q3 = df['Age'].quantile(0.75)\n",
    "IQR = Q3 - Q1\n",
    "IQR"
   ]
  },
  {
   "cell_type": "code",
   "execution_count": 29,
   "id": "25d422d4-8575-49f7-bf3b-8c5083c0cf0b",
   "metadata": {},
   "outputs": [
    {
     "name": "stdout",
     "output_type": "stream",
     "text": [
      "Lower Bound: 4.5, Upper Bound: 64.5\n"
     ]
    }
   ],
   "source": [
    "lower_bound = Q1 - 1.5 * IQR\n",
    "upper_bound = Q3 + 1.5 * IQR\n",
    "\n",
    "print(f\"Lower Bound: {lower_bound}, Upper Bound: {upper_bound}\")"
   ]
  },
  {
   "cell_type": "markdown",
   "id": "235066d4-e9c8-424f-9ef7-a5b20cbed7ec",
   "metadata": {},
   "source": [
    "### Identify outliers"
   ]
  },
  {
   "cell_type": "code",
   "execution_count": 30,
   "id": "5631aa65-eda5-4868-83d4-f25431f5d227",
   "metadata": {},
   "outputs": [
    {
     "data": {
      "text/plain": [
       "32    71\n",
       "55    69\n",
       "Name: Age, dtype: int64"
      ]
     },
     "execution_count": 30,
     "metadata": {},
     "output_type": "execute_result"
    }
   ],
   "source": [
    "outliers = df[(df['Age'] < lower_bound) | (df['Age'] > upper_bound)]\n",
    "\n",
    "outliers['Age']"
   ]
  },
  {
   "cell_type": "markdown",
   "id": "8c46ef71-6ef9-476e-96a5-89171413430f",
   "metadata": {},
   "source": [
    "### Replace Outlier with Mean"
   ]
  },
  {
   "cell_type": "code",
   "execution_count": 31,
   "id": "dc86b769-73ac-4172-b81c-6cc2ed3506ca",
   "metadata": {},
   "outputs": [],
   "source": [
    "mean_age = df['Age'].mean()\n",
    "for i in outliers.index:\n",
    "    df.at[i, 'Age'] = mean_age"
   ]
  },
  {
   "cell_type": "markdown",
   "id": "015e695b-2ca0-4d8e-b0a0-a3ced496383a",
   "metadata": {},
   "source": [
    "# EDA"
   ]
  },
  {
   "cell_type": "code",
   "execution_count": 33,
   "id": "17f3f67b-77de-4f53-89f2-c9618ff1bdc8",
   "metadata": {},
   "outputs": [],
   "source": [
    "def show_fig():\n",
    "    plt.tight_layout()\n",
    "    plt.show()\n",
    "\n",
    "plot_no = 1"
   ]
  },
  {
   "cell_type": "markdown",
   "id": "b831df3d-c5a6-4ce5-bab8-62d05f0562cc",
   "metadata": {},
   "source": [
    "## Univariate"
   ]
  },
  {
   "cell_type": "code",
   "execution_count": 48,
   "id": "95c52b31-12f2-4c29-bfc8-99c727cfc6d2",
   "metadata": {},
   "outputs": [
    {
     "data": {
      "image/png": "[encoded data removed]",
      "text/plain": [
       "<Figure size 1000x400 with 1 Axes>"
      ]
     },
     "metadata": {},
     "output_type": "display_data"
    }
   ],
   "source": [
    "plt.figure(figsize=(10,4))\n",
    "sns.histplot(df['Age'], bins=7, kde=True)\n",
    "plt.title(f'{plot_no}. Age Distribution of Students')\n",
    "show_fig()\n",
    "plot_no += 1"
   ]
  },
  {
   "cell_type": "code",
   "execution_count": 51,
   "id": "90681394-ef0c-4698-a1c1-c31716bcb271",
   "metadata": {},
   "outputs": [
    {
     "data": {
      "image/png": "[encoded data removed]",
      "text/plain": [
       "<Figure size 600x400 with 1 Axes>"
      ]
     },
     "metadata": {},
     "output_type": "display_data"
    }
   ],
   "source": [
    "plt.figure(figsize=(6,4))\n",
    "sns.countplot(x=\"Gender\", data=df)\n",
    "plt.title(f\"{plot_no}. Gender Distribution\")\n",
    "show_fig()\n",
    "plot_no += 1"
   ]
  },
  {
   "cell_type": "code",
   "execution_count": 56,
   "id": "f76d62e1-53f4-44db-849b-2169fda28b3f",
   "metadata": {},
   "outputs": [
    {
     "data": {
      "image/png": "[encoded data removed]",
      "text/plain": [
       "<Figure size 1000x500 with 1 Axes>"
      ]
     },
     "metadata": {},
     "output_type": "display_data"
    }
   ],
   "source": []
  },
  {
   "cell_type": "code",
   "execution_count": null,
   "id": "6e19e5ef-ef2d-4538-8cfa-078c9ff542fd",
   "metadata": {},
   "outputs": [],
   "source": []
  },
  {
   "cell_type": "code",
   "execution_count": null,
   "id": "317ef3e5-0041-446d-90a2-db88c8cdfd03",
   "metadata": {},
   "outputs": [],
   "source": []
  },
  {
   "cell_type": "markdown",
   "id": "4c0e7830-2347-48a6-9161-a14c3b97aa5c",
   "metadata": {},
   "source": [
    "## Bivariate"
   ]
  },
  {
   "cell_type": "code",
   "execution_count": null,
   "id": "c4fd7f81-aa3b-41ad-883f-f00dadbcce54",
   "metadata": {},
   "outputs": [],
   "source": []
  },
  {
   "cell_type": "code",
   "execution_count": null,
   "id": "ebcf9736-7df6-49a9-b4bd-98f7b5c6386a",
   "metadata": {},
   "outputs": [],
   "source": []
  },
  {
   "cell_type": "code",
   "execution_count": null,
   "id": "943ce422-7a17-4767-b2d6-558bdf374453",
   "metadata": {},
   "outputs": [],
   "source": []
  },
  {
   "cell_type": "code",
   "execution_count": null,
   "id": "b004f4ef-d3e6-437b-b8ac-5ced485e0e06",
   "metadata": {},
   "outputs": [],
   "source": []
  },
  {
   "cell_type": "code",
   "execution_count": null,
   "id": "ee2d4ba8-5b81-4ab0-8ab8-3c95c8fc375b",
   "metadata": {},
   "outputs": [],
   "source": []
  },
  {
   "cell_type": "code",
   "execution_count": null,
   "id": "5bcf7190-4bc4-4b11-94cc-b23261877fc3",
   "metadata": {},
   "outputs": [],
   "source": []
  },
  {
   "cell_type": "markdown",
   "id": "d6f615f6-77de-491c-a365-760d96b16d41",
   "metadata": {},
   "source": [
    "## Multivariate"
   ]
  },
  {
   "cell_type": "code",
   "execution_count": null,
   "id": "ef152b32-555e-44f2-b5ba-9e458f90ffef",
   "metadata": {},
   "outputs": [],
   "source": []
  },
  {
   "cell_type": "code",
   "execution_count": null,
   "id": "a2e23514-480b-4203-9d52-4e82ebecdecf",
   "metadata": {},
   "outputs": [],
   "source": []
  },
  {
   "cell_type": "code",
   "execution_count": null,
   "id": "c6406d4c-ac15-4a05-a49a-b1a6e2e13dfc",
   "metadata": {},
   "outputs": [],
   "source": []
  },
  {
   "cell_type": "code",
   "execution_count": null,
   "id": "827861eb-bb36-4414-b47b-4a20f3bd9e0b",
   "metadata": {},
   "outputs": [],
   "source": []
  },
  {
   "cell_type": "code",
   "execution_count": null,
   "id": "edf05437-d381-4e52-87a6-f8824b6d066f",
   "metadata": {},
   "outputs": [],
   "source": []
  },
  {
   "cell_type": "code",
   "execution_count": null,
   "id": "b1c26ec9-bff2-4c53-adf7-523cae15a14a",
   "metadata": {},
   "outputs": [],
   "source": []
  },
  {
   "cell_type": "code",
   "execution_count": 32,
   "id": "d465a910-bfcb-4caa-b7ec-7e8c33345dbd",
   "metadata": {},
   "outputs": [],
   "source": []
  },
  {
   "cell_type": "code",
   "execution_count": null,
   "id": "11d12875-52d6-44f2-9e60-e3a067eab350",
   "metadata": {},
   "outputs": [],
   "source": []
  },
  {
   "cell_type": "code",
   "execution_count": null,
   "id": "08104686-f982-42e9-af67-94cb2d801319",
   "metadata": {},
   "outputs": [],
   "source": []
  },
  {
   "cell_type": "code",
   "execution_count": null,
   "id": "e1c76b66-ad3d-4163-a97d-8f30c9da4cbe",
   "metadata": {},
   "outputs": [],
   "source": [
    "plt.figure(figsize=(8,5))\n",
    "sns.countplot(y=\"prevEducation\", data=df, order=df['prevEducation'].value_counts().index)\n",
    "plt.title(\"Previous Education Distribution\")\n",
    "plt.show()"
   ]
  },
  {
   "cell_type": "code",
   "execution_count": null,
   "id": "92587b33-f39e-49bc-a4d4-a5c1f88e1ad0",
   "metadata": {},
   "outputs": [],
   "source": [
    "plt.figure(figsize=(8,5))\n",
    "sns.histplot(df['studyHOURS'], bins=20, kde=True, color=\"darkblue\")\n",
    "plt.title(\"Study Hours Distribution\")\n",
    "plt.xlabel(\"Hours per week\")\n",
    "plt.ylabel(\"Count\")\n",
    "plt.show()"
   ]
  },
  {
   "cell_type": "code",
   "execution_count": null,
   "id": "2e2cc226-ab6d-488b-952d-702b81f92df6",
   "metadata": {},
   "outputs": [],
   "source": [
    "plt.figure(figsize=(10,6))\n",
    "sns.scatterplot(x=\"Python\", y=\"DB\", hue=\"gender\", data=df, palette=\"Set1\")\n",
    "plt.title(\"Python vs Database Skills by Gender\")\n",
    "plt.show()"
   ]
  },
  {
   "cell_type": "code",
   "execution_count": null,
   "id": "ce14e160-d501-40ff-a10a-98f48f167054",
   "metadata": {},
   "outputs": [],
   "source": [
    "plt.figure(figsize=(8,5))\n",
    "sns.boxplot(x=\"gender\", y=\"entryEXAM\", data=df)\n",
    "plt.title(\"Entry Exam Scores by Gender\")\n",
    "plt.show()"
   ]
  },
  {
   "cell_type": "code",
   "execution_count": null,
   "id": "88747af2-2bf3-4ca6-9ab4-f133527c2554",
   "metadata": {},
   "outputs": [],
   "source": [
    "plt.figure(figsize=(8,6))\n",
    "sns.heatmap(df[['Age','entryEXAM','studyHOURS','Python','DB']].corr(), annot=True, cmap=\"Blues\", fmt=\".2f\")\n",
    "plt.title(\"Correlation Heatmap of Numeric Features\")\n",
    "plt.show()"
   ]
  },
  {
   "cell_type": "code",
   "execution_count": null,
   "id": "970636a5-8226-46e7-a894-421e69363b04",
   "metadata": {},
   "outputs": [],
   "source": [
    "plt.figure(figsize=(8,5))\n",
    "sns.scatterplot(x=\"studyHOURS\", y=\"entryEXAM\", hue=\"prevEducation\", data=df)\n",
    "plt.title(\"Study Hours vs Entry Exam Score\")\n",
    "plt.show()"
   ]
  },
  {
   "cell_type": "code",
   "execution_count": null,
   "id": "7689ae93-4096-43cf-9dbd-4fcbee557d1d",
   "metadata": {},
   "outputs": [],
   "source": [
    "sns.kdeplot(df['Age'], shade=True)\n",
    "plt.title(\"KDE of Age\")\n",
    "plt.show()"
   ]
  },
  {
   "cell_type": "code",
   "execution_count": null,
   "id": "2d9d0cff-56be-4a81-8f99-18f62238b388",
   "metadata": {},
   "outputs": [],
   "source": [
    "sns.countplot(x='gender', data=df)\n",
    "plt.title(\"Gender Distribution\")\n",
    "plt.show()"
   ]
  },
  {
   "cell_type": "code",
   "execution_count": null,
   "id": "5335fe6e-ce03-4b39-bda2-1b96e7d08a76",
   "metadata": {},
   "outputs": [],
   "source": [
    "df['gender'].value_counts().plot.pie(autopct='%1.1f%%')\n",
    "plt.title(\"Gender Pie Chart\")\n",
    "plt.ylabel(\"\")\n",
    "plt.show()"
   ]
  },
  {
   "cell_type": "code",
   "execution_count": null,
   "id": "abac34cb-fca4-4ca7-b730-398f000c7d50",
   "metadata": {},
   "outputs": [],
   "source": [
    "sns.countplot(y='country', data=df, order=df['country'].value_counts().index)\n",
    "plt.title(\"Country Distribution\")\n",
    "plt.show()"
   ]
  },
  {
   "cell_type": "code",
   "execution_count": null,
   "id": "f319fdf2-cfc9-477b-86f1-b5ae51df974c",
   "metadata": {},
   "outputs": [],
   "source": [
    "sns.countplot(x='prevEducation', data=df)\n",
    "plt.title(\"Previous Education Distribution\")\n",
    "plt.show()"
   ]
  },
  {
   "cell_type": "code",
   "execution_count": null,
   "id": "01df577a-9708-4b45-be0e-e9b18f10b948",
   "metadata": {},
   "outputs": [],
   "source": [
    "sns.histplot(df['studyHOURS'], bins=10, kde=True)\n",
    "plt.title(\"Study Hours Distribution\")\n",
    "plt.show()"
   ]
  },
  {
   "cell_type": "code",
   "execution_count": null,
   "id": "3623ee56-2ce3-4dbe-ba20-1e44a44b5fbd",
   "metadata": {},
   "outputs": [],
   "source": [
    "sns.boxplot(x=df['studyHOURS'])\n",
    "plt.title(\"Study Hours Boxplot\")\n",
    "plt.show()"
   ]
  },
  {
   "cell_type": "code",
   "execution_count": null,
   "id": "5b29ee67-df01-4161-a321-c26498b62421",
   "metadata": {},
   "outputs": [],
   "source": [
    "sns.histplot(df['entryEXAM'], kde=True)\n",
    "plt.title(\"Entry Exam Distribution\")\n",
    "plt.show()"
   ]
  },
  {
   "cell_type": "code",
   "execution_count": null,
   "id": "990bc354-1801-456e-9010-e54353a19c0a",
   "metadata": {},
   "outputs": [],
   "source": [
    "sns.histplot(df['Python'], kde=True)\n",
    "plt.title(\"Python Score Distribution\")\n",
    "plt.show()"
   ]
  },
  {
   "cell_type": "code",
   "execution_count": null,
   "id": "7052b508-07cd-4db8-bbab-64f4738a5911",
   "metadata": {},
   "outputs": [],
   "source": [
    "sns.histplot(df['DB'], kde=True)\n",
    "plt.title(\"DB Score Distribution\")\n",
    "plt.show()"
   ]
  },
  {
   "cell_type": "code",
   "execution_count": null,
   "id": "3a67fe6d-b508-49e2-b520-999b42d8fb95",
   "metadata": {},
   "outputs": [],
   "source": [
    "sns.scatterplot(x='Python', y='DB', hue='gender', data=df)\n",
    "plt.title(\"Python vs DB by Gender\")\n",
    "plt.show()"
   ]
  },
  {
   "cell_type": "code",
   "execution_count": null,
   "id": "fb092946-8174-4f09-aa2f-ba6235264f05",
   "metadata": {},
   "outputs": [],
   "source": [
    "sns.scatterplot(x='studyHOURS', y='Python', hue='prevEducation', data=df)\n",
    "plt.title(\"Study Hours vs Python\")\n",
    "plt.show()"
   ]
  },
  {
   "cell_type": "code",
   "execution_count": null,
   "id": "41808f58-25f9-42f6-9037-968021ea43da",
   "metadata": {},
   "outputs": [],
   "source": [
    "# 15. Study Hours vs DB Scatter\n",
    "sns.scatterplot(x='studyHOURS', y='DB', hue='gender', data=df)\n",
    "plt.title(\"Study Hours vs DB\")\n",
    "plt.show()"
   ]
  },
  {
   "cell_type": "code",
   "execution_count": null,
   "id": "94611639-90a2-4aa0-acc5-ff31e0feb240",
   "metadata": {},
   "outputs": [],
   "source": [
    "# 16. Entry Exam vs Python Scatter\n",
    "sns.scatterplot(x='entryEXAM', y='Python', hue='prevEducation', data=df)\n",
    "plt.title(\"Entry Exam vs Python\")\n",
    "plt.show()"
   ]
  },
  {
   "cell_type": "code",
   "execution_count": null,
   "id": "cb99277a-1876-4b78-a125-9d6e983a7f04",
   "metadata": {},
   "outputs": [],
   "source": [
    "sns.scatterplot(x='entryEXAM', y='DB', hue='gender', data=df)\n",
    "plt.title(\"Entry Exam vs DB\")\n",
    "plt.show()"
   ]
  },
  {
   "cell_type": "code",
   "execution_count": null,
   "id": "efaefded-8da2-4037-98c5-e8c914ba7a1f",
   "metadata": {},
   "outputs": [],
   "source": [
    "sns.boxplot(x='gender', y='Python', data=df)\n",
    "plt.title(\"Python Scores by Gender\")\n",
    "plt.show()"
   ]
  },
  {
   "cell_type": "code",
   "execution_count": null,
   "id": "36e30f63-eeb0-41be-9fac-73d3a577da14",
   "metadata": {},
   "outputs": [],
   "source": [
    "sns.boxplot(x='gender', y='DB', data=df)\n",
    "plt.title(\"DB Scores by Gender\")\n",
    "plt.show()"
   ]
  },
  {
   "cell_type": "code",
   "execution_count": null,
   "id": "3494d48d-31a7-4f8a-8a13-cd0a72b42d25",
   "metadata": {},
   "outputs": [],
   "source": [
    "sns.boxplot(x='prevEducation', y='Python', data=df)\n",
    "plt.title(\"Python Scores by Education\")\n",
    "plt.show()"
   ]
  },
  {
   "cell_type": "code",
   "execution_count": null,
   "id": "263f95c3-b144-46ef-9358-5547727d5128",
   "metadata": {},
   "outputs": [],
   "source": [
    "sns.boxplot(x='prevEducation', y='DB', data=df)\n",
    "plt.title(\"DB Scores by Education\")\n",
    "plt.show()"
   ]
  },
  {
   "cell_type": "code",
   "execution_count": null,
   "id": "8bac178b-1c4e-4b0e-a899-910b72a9d662",
   "metadata": {},
   "outputs": [],
   "source": [
    "sns.barplot(x='country', y='Python', data=df, estimator=\"mean\", errorbar=None)\n",
    "plt.xticks(rotation=45)\n",
    "plt.title(\"Average Python Score by Country\")\n",
    "plt.show()"
   ]
  },
  {
   "cell_type": "code",
   "execution_count": null,
   "id": "30f7a10c-396f-4359-b79d-414fedecf5b1",
   "metadata": {},
   "outputs": [],
   "source": [
    "sns.barplot(x='country', y='DB', data=df, estimator=\"mean\", errorbar=None)\n",
    "plt.xticks(rotation=45)\n",
    "plt.title(\"Average DB Score by Country\")\n",
    "plt.show()"
   ]
  },
  {
   "cell_type": "code",
   "execution_count": null,
   "id": "b6acef82-c034-4ba6-9745-f2d4f85696f0",
   "metadata": {},
   "outputs": [],
   "source": [
    "sns.heatmap(df.corr(numeric_only=True), annot=True, cmap=\"coolwarm\")\n",
    "plt.title(\"Correlation Heatmap\")\n",
    "plt.show()"
   ]
  },
  {
   "cell_type": "code",
   "execution_count": null,
   "id": "194dd425-4941-4baa-b82e-92dc2a38c928",
   "metadata": {},
   "outputs": [],
   "source": [
    "sns.violinplot(x='gender', y='studyHOURS', data=df)\n",
    "plt.title(\"Study Hours by Gender\")\n",
    "plt.show()"
   ]
  },
  {
   "cell_type": "code",
   "execution_count": null,
   "id": "c39afc36-f94d-4682-a37e-844c3095c35e",
   "metadata": {},
   "outputs": [],
   "source": [
    "sns.stripplot(x='prevEducation', y='studyHOURS', data=df, jitter=True)\n",
    "plt.title(\"Study Hours by Education\")\n",
    "plt.show()"
   ]
  },
  {
   "cell_type": "code",
   "execution_count": null,
   "id": "717ae381-e986-48a7-a86f-f5b20fd00b77",
   "metadata": {},
   "outputs": [],
   "source": [
    "sns.swarmplot(x='gender', y='entryEXAM', data=df)\n",
    "plt.title(\"Entry Exam by Gender\")\n",
    "plt.show()"
   ]
  },
  {
   "cell_type": "code",
   "execution_count": null,
   "id": "0a259d59-d323-4540-a317-7347717e23ca",
   "metadata": {},
   "outputs": [],
   "source": [
    "pd.crosstab(df['prevEducation'], df['gender']).plot(kind=\"bar\", stacked=True)\n",
    "plt.title(\"Education vs Gender (Stacked Bar)\")\n",
    "plt.show()"
   ]
  },
  {
   "cell_type": "code",
   "execution_count": null,
   "id": "5e6bc9c3-1708-4fb5-ac94-36ffeee91749",
   "metadata": {},
   "outputs": [],
   "source": [
    "df['overall'] = (df['Python'] + df['DB']) / 2\n",
    "sns.histplot(df['overall'], kde=True)\n",
    "plt.title(\"Overall Performance Distribution\")\n",
    "plt.show()"
   ]
  },
  {
   "cell_type": "code",
   "execution_count": null,
   "id": "12026927-7467-470a-a6f3-66c5bc6ad225",
   "metadata": {},
   "outputs": [],
   "source": [
    "plt.figure(figsize=(12,6))\n",
    "sns.countplot(x=\"country\", hue=\"residence\", data=df)\n",
    "plt.title(\"Country vs Residence\")\n",
    "plt.xticks(rotation=45)\n",
    "plt.show()"
   ]
  },
  {
   "cell_type": "code",
   "execution_count": null,
   "id": "b29e1272-be46-4692-96be-6b48da3df8bd",
   "metadata": {},
   "outputs": [],
   "source": [
    "plt.figure(figsize=(8,5))\n",
    "sns.countplot(y=\"prevEducation\", data=df, order=df['prevEducation'].value_counts().index)\n",
    "plt.title(\"Previous Education Distribution\")\n",
    "plt.show()"
   ]
  },
  {
   "cell_type": "code",
   "execution_count": null,
   "id": "2ab7235b-07b5-450e-951e-d7f99a25ade0",
   "metadata": {},
   "outputs": [],
   "source": [
    "plt.figure(figsize=(8,5))\n",
    "sns.histplot(df['studyHOURS'], bins=20, kde=True, color=\"darkblue\")\n",
    "plt.title(\"Study Hours Distribution\")\n",
    "plt.xlabel(\"Hours per week\")\n",
    "plt.ylabel(\"Count\")\n",
    "plt.show()"
   ]
  },
  {
   "cell_type": "code",
   "execution_count": null,
   "id": "558ee2d3-5c29-4fc7-9186-3c3256c27bf7",
   "metadata": {},
   "outputs": [],
   "source": [
    "plt.figure(figsize=(10,6))\n",
    "sns.scatterplot(x=\"Python\", y=\"DB\", hue=\"gender\", data=df, palette=\"Set1\")\n",
    "plt.title(\"Python vs Database Skills by Gender\")\n",
    "plt.show()"
   ]
  },
  {
   "cell_type": "code",
   "execution_count": null,
   "id": "d7d3c09c-0dd3-4fad-92a2-5b1236be4135",
   "metadata": {},
   "outputs": [],
   "source": [
    "plt.figure(figsize=(8,6))\n",
    "sns.heatmap(df[['Age','entryEXAM','studyHOURS','Python','DB']].corr(), annot=True, cmap=\"Blues\", fmt=\".2f\")\n",
    "plt.title(\"Correlation Heatmap of Numeric Features\")\n",
    "plt.show()"
   ]
  },
  {
   "cell_type": "code",
   "execution_count": null,
   "id": "fc6189cc-e54a-4110-a0e2-ba2e66676220",
   "metadata": {},
   "outputs": [],
   "source": [
    "plt.figure(figsize=(8,5))\n",
    "sns.scatterplot(x=\"studyHOURS\", y=\"entryEXAM\", hue=\"prevEducation\", data=df)\n",
    "plt.title(\"Study Hours vs Entry Exam Score\")\n",
    "plt.show()"
   ]
  },
  {
   "cell_type": "code",
   "execution_count": null,
   "id": "313017ec-99f8-4446-a45d-447857a1835f",
   "metadata": {},
   "outputs": [],
   "source": [
    "sns.histplot(df['studyHOURS'],kde=True)"
   ]
  },
  {
   "cell_type": "code",
   "execution_count": null,
   "id": "578c10cb-18bc-4b65-ac6a-ed3efb31c307",
   "metadata": {},
   "outputs": [],
   "source": [
    "plt.figure(figsize=(8,6))\n",
    "sns.heatmap(df[['Age','entryEXAM','studyHOURS','Python','DB']].corr(), annot=True, cmap=\"Blues\", fmt=\".2f\")\n",
    "plt.title(\"Correlation Heatmap of Numeric Features\")\n",
    "plt.show()"
   ]
  },
  {
   "cell_type": "code",
   "execution_count": null,
   "id": "ff706cbb-5c97-43b8-b68b-7a4aca9b27d2",
   "metadata": {},
   "outputs": [],
   "source": [
    "sns.scatterplot(x='studyHOURS', y='Python', hue='gender', data=df)\n",
    "plt.show()"
   ]
  },
  {
   "cell_type": "code",
   "execution_count": null,
   "id": "e62741bb-6f4a-4acd-9f97-a55997c46f62",
   "metadata": {},
   "outputs": [],
   "source": [
    "plt.figure(figsize=(8,5))\n",
    "ax =sns.histplot(data=df, x=\"Age\", hue=\"gender\", multiple=\"dodge\", shrink=.8)\n",
    "for p in ax.patches:\n",
    "    ax.annotate(\n",
    "        format(p.get_height(), '.0f'),   # count value (integer)\n",
    "        (p.get_x() + p.get_width() / 2., p.get_height()),  # position\n",
    "        ha='center', va='center', xytext=(0, 8), textcoords='offset points'\n",
    "    )\n",
    "plt.title(\"Student Age Distribution\")\n",
    "plt.xlabel(\"Age\")\n",
    "plt.ylabel(\"No of Student\")\n",
    "plt.show("
   ]
  },
  {
   "cell_type": "code",
   "execution_count": null,
   "id": "9e3d187a-1c58-4df8-8263-d08441360127",
   "metadata": {},
   "outputs": [],
   "source": [
    "plt.figure(figsize=(5,5))\n",
    "ax = sns.countplot(df,x='gender',width = 0.4)\n",
    "for p in ax.patches:\n",
    "    ax.annotate(\n",
    "        format(p.get_height(), '.0f'),   # count value (integer)\n",
    "        (p.get_x() + p.get_width() / 2., p.get_height()),  # position\n",
    "        ha='center', va='center', xytext=(0, 8), textcoords='offset points'\n",
    "    )\n",
    "plt.title(\"Gender Distribution\")\n",
    "plt.xlabel(\"Gender\")\n",
    "plt.ylabel('Count')"
   ]
  },
  {
   "cell_type": "code",
   "execution_count": null,
   "id": "c0e01b5a-7a70-40d3-8afe-137e1b1387e1",
   "metadata": {},
   "outputs": [],
   "source": [
    "plt.figure(figsize=(10,5))\n",
    "ax = sns.countplot(df,x='country',width = 0.4)\n",
    "for p in ax.patches:\n",
    "    ax.annotate(\n",
    "        format(p.get_height(), '.0f'),   # count value (integer)\n",
    "        (p.get_x() + p.get_width() / 2., p.get_height()),  # position\n",
    "        ha='center', va='center', xytext=(0, 8), textcoords='offset points'\n",
    "    )\n",
    "plt.title(\"Country Distribution\")\n",
    "plt.xlabel(\"Country\")\n",
    "plt.ylabel('Count')\n",
    "\n",
    "plt.xticks(rotation=90)\n",
    "plt.show()"
   ]
  },
  {
   "cell_type": "code",
   "execution_count": null,
   "id": "16dcc4aa-748e-405e-8eda-5d944384aca3",
   "metadata": {},
   "outputs": [],
   "source": [
    "plt.figure(figsize=(10,5))\n",
    "ax = sns.countplot(df,x='residence',width = 0.4)\n",
    "for p in ax.patches:\n",
    "    ax.annotate(\n",
    "        format(p.get_height(), '.0f'),   # count value (integer)\n",
    "        (p.get_x() + p.get_width() / 2., p.get_height()),  # position\n",
    "        ha='center', va='center', xytext=(0, 8), textcoords='offset points'\n",
    "    )\n",
    "plt.title(\"Residence Distribution\")\n",
    "plt.xlabel(\"Residence\")\n",
    "plt.ylabel('Count')\n",
    "\n",
    "plt.show()"
   ]
  },
  {
   "cell_type": "code",
   "execution_count": null,
   "id": "09c763ec-2cd0-46fa-a430-5c341817a316",
   "metadata": {},
   "outputs": [],
   "source": [
    "plt.figure(figsize=(10,5))\n",
    "ax = sns.countplot(df,x='prevEducation',width = 0.4)\n",
    "for p in ax.patches:\n",
    "    ax.annotate(\n",
    "        format(p.get_height(), '.0f'),   # count value (integer)\n",
    "        (p.get_x() + p.get_width() / 2., p.get_height()),  # position\n",
    "        ha='center', va='center', xytext=(0, 8), textcoords='offset points'\n",
    "    )\n",
    "plt.title(\"Previous Education Distribution\")\n",
    "plt.xlabel(\"Previous Education\")\n",
    "plt.ylabel('Count')\n",
    "\n",
    "plt.xticks(rotation=90)\n",
    "plt.show()"
   ]
  },
  {
   "cell_type": "code",
   "execution_count": null,
   "id": "55259bb1-acf7-41c0-9a03-a327b7e51d62",
   "metadata": {},
   "outputs": [],
   "source": [
    "plt.figure(figsize=(8,5))\n",
    "sns.histplot(data=df, x=\"country\", hue=\"residence\", multiple=\"dodge\", shrink=.8)\n",
    "plt.title(\"Country vs Residence\")\n",
    "plt.xlabel(\"Age\")\n",
    "plt.ylabel(\"No of Student\")\n",
    "plt.xticks(rotation=90)\n",
    "plt.show()"
   ]
  },
  {
   "cell_type": "code",
   "execution_count": null,
   "id": "265848fe-8277-403c-b3e4-89c1f159f1b2",
   "metadata": {},
   "outputs": [],
   "source": [
    "plt.figure(figsize=(8,5))\n",
    "sns.kdeplot(data=df, x=\"studyHOURS\",hue=\"gender\")\n",
    "plt.title('Study Hours for Gender')\n",
    "plt.xlabel('Study Hours')\n",
    "plt.ylabel('Count')\n",
    "plt.show()"
   ]
  },
  {
   "cell_type": "code",
   "execution_count": null,
   "id": "3bbf6aa2-0225-44d4-a398-d6f89d084f6f",
   "metadata": {},
   "outputs": [],
   "source": [
    "plt.figure(figsize=(8,5))\n",
    "sns.kdeplot(data=df, x=\"Python\",hue=\"gender\")\n",
    "plt.title('Python for Gender')\n",
    "plt.xlabel('Python')\n",
    "plt.ylabel('Count')\n",
    "plt.show()"
   ]
  },
  {
   "cell_type": "code",
   "execution_count": null,
   "id": "1420ad0a-3e10-4db6-b37d-eddd9416acd8",
   "metadata": {},
   "outputs": [],
   "source": [
    "plt.figure(figsize=(8,5))\n",
    "ax = sns.barplot(data=df, x=\"prevEducation\", y=\"Python\")\n",
    "for p in ax.patches:\n",
    "    ax.annotate(\n",
    "        format(p.get_height(), '.0f'),   # count value (integer)\n",
    "        (p.get_x() + p.get_width() / 2., p.get_height()/2),  # position\n",
    "        ha='center', va='center', xytext=(0, 15), textcoords='offset points'\n",
    "    )\n",
    "plt.title('Python for Previous Education')\n",
    "plt.xlabel('Python')\n",
    "plt.ylabel('Count')\n",
    "plt.show()"
   ]
  },
  {
   "cell_type": "code",
   "execution_count": null,
   "id": "41ee2d11-804d-43e7-a09b-9f8cf8e135e9",
   "metadata": {},
   "outputs": [],
   "source": [
    "sns.histplot(data=df, x=\"DB\")\n",
    "plt.title('Histogram Plot for DB')\n",
    "plt.xlabel('DB')\n",
    "plt.ylabel('Count')\n",
    "plt.show()"
   ]
  },
  {
   "cell_type": "code",
   "execution_count": null,
   "id": "71e30eca-cbc3-468a-9240-ff4b8b58e4e5",
   "metadata": {},
   "outputs": [],
   "source": [
    "avg_hours = df.groupby(['gender','prevEducation'])['studyHOURS'].mean().reset_index()\n",
    "\n",
    "plt.figure(figsize=(10,6))\n",
    "sns.barplot(\n",
    "    data=avg_hours, \n",
    "    x='prevEducation', \n",
    "    y='studyHOURS', \n",
    "    hue='gender'\n",
    ")\n",
    "\n",
    "plt.title(\"Average Study Hours by Gender & Previous Education\", fontsize=14)\n",
    "plt.ylabel(\"Average Study Hours\")\n",
    "plt.xlabel(\"Previous Education\")\n",
    "plt.legend(title=\"Gender\")\n",
    "plt.xticks(rotation=45)\n",
    "plt.show()"
   ]
  },
  {
   "cell_type": "code",
   "execution_count": null,
   "id": "ad861926-1a6b-47f0-b306-b0e095aaf841",
   "metadata": {},
   "outputs": [],
   "source": [
    "avg_python = df.groupby(['residence','prevEducation'])['Python'].mean().reset_index()\n",
    "plt.figure(figsize=(10,6))\n",
    "sns.barplot(\n",
    "    data = avg_python,\n",
    "    x = 'prevEducation',\n",
    "    y = 'Python',\n",
    "    hue= 'residence'\n",
    ")\n",
    "plt.title(\"Average Python Score by Residence & Previous Education\", fontsize=14)\n",
    "plt.ylabel(\"Average Python Score\")\n",
    "plt.xlabel(\"Previous Education\")\n",
    "plt.legend(title=\"residence\")\n",
    "plt.xticks(rotation=45)\n",
    "plt.show()"
   ]
  },
  {
   "cell_type": "code",
   "execution_count": null,
   "id": "43d437f3-4122-4a31-b88f-3882cfec8301",
   "metadata": {},
   "outputs": [],
   "source": [
    "avg_scores = df.groupby('prevEducation')[['entryEXAM','Python','DB']].mean().reset_index()\n",
    "\n",
    "plt.figure(figsize=(10,6))\n",
    "for col in ['entryEXAM','Python','DB']:\n",
    "    plt.plot(avg_scores['prevEducation'], avg_scores[col], marker='o', label=col)\n",
    "\n",
    "plt.title(\"Average Entry Exam, Python, and DB Scores by Previous Education\")\n",
    "plt.xlabel(\"Previous Education\")\n",
    "plt.ylabel(\"Average Value\")\n",
    "plt.legend()\n",
    "plt.grid(True, linestyle=\"--\", alpha=0.6)\n",
    "plt.xticks(rotation=45)\n",
    "plt.show()"
   ]
  },
  {
   "cell_type": "code",
   "execution_count": null,
   "id": "fd18058b-0b7a-4943-a1f0-ffb605330779",
   "metadata": {},
   "outputs": [],
   "source": [
    "import matplotlib.pyplot as plt\n",
    "import numpy as np\n",
    "\n",
    "# Data preparation\n",
    "categories = ['Age', 'Entry Exam', 'Study Hours', 'Python Score', 'Database Score']\n",
    "cluster_profile = df.groupby('Cluster')[categories].mean()\n",
    "\n",
    "# Number of variables\n",
    "num_vars = len(categories)\n",
    "\n",
    "# Create angle for each category on radar chart\n",
    "angles = np.linspace(0, 2 * np.pi, num_vars, endpoint=False).tolist()\n",
    "angles += angles[:1]  # complete the loop\n",
    "\n",
    "# Initialization of radar plot\n",
    "fig, ax = plt.subplots(figsize=(8, 8), subplot_kw=dict(polar=True))\n",
    "\n",
    "# Plot each cluster\n",
    "for cluster in cluster_profile.index:\n",
    "    values = cluster_profile.loc[cluster].tolist()\n",
    "    values += values[:1]  # close the circle\n",
    "    ax.plot(angles, values, label=f'Cluster {cluster}')\n",
    "    ax.fill(angles, values, alpha=0.25)\n",
    "\n",
    "# Fix axis to categories\n",
    "ax.set_xticks(angles[:-1])\n",
    "ax.set_xticklabels(categories)\n",
    "\n",
    "# Add title and legend\n",
    "plt.title('Cluster Profiles Comparison')\n",
    "plt.legend(loc='upper right', bbox_to_anchor=(1.3, 1.1))\n",
    "\n",
    "plt.show()"
   ]
  },
  {
   "cell_type": "code",
   "execution_count": null,
   "id": "c52e050b-3605-4ed0-b64e-a5c2cba163e6",
   "metadata": {},
   "outputs": [],
   "source": [
    "sns.regplot(x='entryEXAM', y='Python', data=df)\n",
    "plt.title(\"Entry Exam vs Python Score\")\n",
    "plt.show()"
   ]
  },
  {
   "cell_type": "code",
   "execution_count": null,
   "id": "f18e1980-0669-4344-84f7-7dc2bf08e852",
   "metadata": {},
   "outputs": [],
   "source": [
    "country_perf = df.groupby('country')['Python'].mean().sort_values(ascending=False)\n",
    "country_perf.plot(kind='bar', figsize=(8,4))\n",
    "plt.title(\"Average Python Score by Country\")\n",
    "plt.ylabel(\"Mean Score\")\n",
    "plt.show()"
   ]
  },
  {
   "cell_type": "code",
   "execution_count": null,
   "id": "fcc672ad-fe54-46a6-ac1b-6cfdf354f004",
   "metadata": {},
   "outputs": [],
   "source": [
    "#plotting the graph for Numerical columns\n",
    "\n",
    "from matplotlib import pyplot as plt\n",
    "import seaborn as sns\n",
    "\n",
    "plt.figure(figsize=(10,5))\n",
    "for col in num_col:\n",
    "    sns.kdeplot(df[col],label=col)\n",
    "\n",
    "plt.legend()\n",
    "plt.show()"
   ]
  },
  {
   "cell_type": "code",
   "execution_count": null,
   "id": "498dbca3-d5fe-4168-b29c-3462e374603e",
   "metadata": {},
   "outputs": [],
   "source": [
    "# Calculates the average Python score per country and plots it as a line chart\n",
    "\n",
    "grouped_df = df.groupby(\"country\")[\"Python\"].mean().sort_values(ascending=False).reset_index()\n",
    "\n",
    "plt.figure(figsize=(15,5))\n",
    "sns.lineplot(data=grouped_df, x=\"Python\", y=\"country\")\n",
    "plt.title(\"Mean Of Python Scores by Country\")\n",
    "\n",
    "plt.show()"
   ]
  },
  {
   "cell_type": "code",
   "execution_count": null,
   "id": "016e3c66-d126-4c80-aef9-15e68cc4622a",
   "metadata": {},
   "outputs": [],
   "source": [
    "# Counts the number of Python users per country and displays it as a bar chart\n",
    "\n",
    "grouped_data = df.groupby(\"country\")[\"Python\"].count().reset_index()\n",
    "\n",
    "plt.figure(figsize=(15,5))\n",
    "sns.barplot(data=grouped_data, x=\"Python\", y=\"country\")\n",
    "plt.title(\"Python Users Count by Country\")\n",
    "\n",
    "plt.show()"
   ]
  },
  {
   "cell_type": "code",
   "execution_count": null,
   "id": "722f9b4a-322f-4693-899c-692bd1877e01",
   "metadata": {},
   "outputs": [],
   "source": [
    "# Her Python puanı için ortalama yaşı hesaplar ve çizgi grafiği ile gösterir\n",
    "\n",
    "grouped_data = df.groupby(\"Python\")[\"Age\"].mean().sort_values(ascending=False).reset_index()\n",
    "\n",
    "sns.set_style(\"whitegrid\")\n",
    "plt.figure(figsize=(10,5))\n",
    "plt.title(\"Python Scores by Age\")\n",
    "\n",
    "sns.lineplot(data=grouped_data, x=\"Python\", y=\"Age\", color=\"orange\")\n",
    "\n",
    "plt.show()"
   ]
  },
  {
   "cell_type": "code",
   "execution_count": null,
   "id": "3981ffa3-7d7a-455c-8100-bb20bca67a24",
   "metadata": {},
   "outputs": [],
   "source": [
    "# Calculates average Python scores for each study hour group and plots a line chart\n",
    "\n",
    "grouped_data = df.groupby(\"studyHOURS\")[\"Python\"].mean().sort_values(ascending=False).reset_index()\n",
    "\n",
    "sns.set_style(\"whitegrid\")\n",
    "plt.figure(figsize=(10,5))\n",
    "\n",
    "sns.lineplot(data=grouped_data, x=\"Python\", y=\"studyHOURS\", errorbar=None, color=\"darkblue\")\n",
    "plt.title(\"Python Scores by Studey Hours\")\n",
    "plt.tight_layout()\n",
    "\n",
    "plt.show()"
   ]
  },
  {
   "cell_type": "code",
   "execution_count": null,
   "id": "36cb053f-b180-4d59-be5a-9957e2e8973e",
   "metadata": {},
   "outputs": [],
   "source": []
  }
 ],
 "metadata": {
  "kernelspec": {
   "display_name": "Python 3 (ipykernel)",
   "language": "python",
   "name": "python3"
  },
  "language_info": {
   "codemirror_mode": {
    "name": "ipython",
    "version": 3
   },
   "file_extension": ".py",
   "mimetype": "text/x-python",
   "name": "python",
   "nbconvert_exporter": "python",
   "pygments_lexer": "ipython3",
   "version": "3.13.3"
  }
 },
 "nbformat": 4,
 "nbformat_minor": 5
}
