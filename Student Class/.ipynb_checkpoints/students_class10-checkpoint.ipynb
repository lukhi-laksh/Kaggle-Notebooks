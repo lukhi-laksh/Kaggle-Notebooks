{
 "cells": [
  {
   "cell_type": "markdown",
   "id": "fcb532cd-e980-4139-bb38-8199dd235ac8",
   "metadata": {},
   "source": [
    "# 📊 Dataset Information\n",
    "\n",
    "**Note:** The dataset for this project is **not included in this repository** to keep the repository lightweight.  \n",
    "\n",
    "You can download the dataset from **Kaggle** using the link below:  \n",
    "\n",
    "[Download the students_class10 Dataset](https://www.kaggle.com/datasets/ssssda/class10-students-performance)  \n",
    "\n",
    "Please make sure to place the downloaded Excel file in the same directory as this notebook before running any code."
   ]
  },
  {
   "cell_type": "markdown",
   "id": "dd4c9349-345e-47e3-8f51-8df2f03f283c",
   "metadata": {},
   "source": [
    "# Import Librarys"
   ]
  },
  {
   "cell_type": "code",
   "execution_count": 1,
   "id": "8b644496-d65c-427a-bcd3-da00b7845096",
   "metadata": {},
   "outputs": [],
   "source": [
    "import pandas as pd\n",
    "import numpy as np\n",
    "import matplotlib.pyplot as plt\n",
    "import seaborn as sns"
   ]
  },
  {
   "cell_type": "markdown",
   "id": "e6b194c9-332b-4f48-ac2a-a9b6d9e54a81",
   "metadata": {},
   "source": [
    "# Import CSV file"
   ]
  },
  {
   "cell_type": "code",
   "execution_count": 2,
   "id": "6f035b3f-501f-4026-a497-a2fd2711a205",
   "metadata": {},
   "outputs": [
    {
     "data": {
      "text/html": [
       "<div>\n",
       "<style scoped>\n",
       "    .dataframe tbody tr th:only-of-type {\n",
       "        vertical-align: middle;\n",
       "    }\n",
       "\n",
       "    .dataframe tbody tr th {\n",
       "        vertical-align: top;\n",
       "    }\n",
       "\n",
       "    .dataframe thead th {\n",
       "        text-align: right;\n",
       "    }\n",
       "</style>\n",
       "<table border=\"1\" class=\"dataframe\">\n",
       "  <thead>\n",
       "    <tr style=\"text-align: right;\">\n",
       "      <th></th>\n",
       "      <th>RollNo</th>\n",
       "      <th>Name</th>\n",
       "      <th>Gender</th>\n",
       "      <th>DOB</th>\n",
       "      <th>Attendance_%</th>\n",
       "      <th>House</th>\n",
       "      <th>Q_Maths</th>\n",
       "      <th>Q_Science</th>\n",
       "      <th>Q_English</th>\n",
       "      <th>Q_History</th>\n",
       "      <th>...</th>\n",
       "      <th>F_History</th>\n",
       "      <th>F_Geography</th>\n",
       "      <th>F_Civics</th>\n",
       "      <th>Science_Project_20</th>\n",
       "      <th>English_Activity_20</th>\n",
       "      <th>ArtCraft_20</th>\n",
       "      <th>Sports_Points_30</th>\n",
       "      <th>Cultural_Points_20</th>\n",
       "      <th>Discipline_10</th>\n",
       "      <th>Volunteer_Hours</th>\n",
       "    </tr>\n",
       "  </thead>\n",
       "  <tbody>\n",
       "    <tr>\n",
       "      <th>0</th>\n",
       "      <td>1</td>\n",
       "      <td>Aarav Sharma</td>\n",
       "      <td>Male</td>\n",
       "      <td>2003-12-27</td>\n",
       "      <td>84.2</td>\n",
       "      <td>Blue</td>\n",
       "      <td>69</td>\n",
       "      <td>70</td>\n",
       "      <td>74</td>\n",
       "      <td>87</td>\n",
       "      <td>...</td>\n",
       "      <td>83</td>\n",
       "      <td>85</td>\n",
       "      <td>56</td>\n",
       "      <td>13</td>\n",
       "      <td>16</td>\n",
       "      <td>12</td>\n",
       "      <td>11</td>\n",
       "      <td>15</td>\n",
       "      <td>10</td>\n",
       "      <td>11.2</td>\n",
       "    </tr>\n",
       "    <tr>\n",
       "      <th>1</th>\n",
       "      <td>2</td>\n",
       "      <td>Aditi Nair</td>\n",
       "      <td>Female</td>\n",
       "      <td>2003-02-05</td>\n",
       "      <td>84.7</td>\n",
       "      <td>Red</td>\n",
       "      <td>62</td>\n",
       "      <td>78</td>\n",
       "      <td>64</td>\n",
       "      <td>69</td>\n",
       "      <td>...</td>\n",
       "      <td>75</td>\n",
       "      <td>86</td>\n",
       "      <td>90</td>\n",
       "      <td>14</td>\n",
       "      <td>12</td>\n",
       "      <td>16</td>\n",
       "      <td>21</td>\n",
       "      <td>3</td>\n",
       "      <td>6</td>\n",
       "      <td>7.1</td>\n",
       "    </tr>\n",
       "    <tr>\n",
       "      <th>2</th>\n",
       "      <td>3</td>\n",
       "      <td>Bhavesh Patel</td>\n",
       "      <td>Male</td>\n",
       "      <td>2003-01-24</td>\n",
       "      <td>98.7</td>\n",
       "      <td>Green</td>\n",
       "      <td>55</td>\n",
       "      <td>58</td>\n",
       "      <td>75</td>\n",
       "      <td>92</td>\n",
       "      <td>...</td>\n",
       "      <td>93</td>\n",
       "      <td>88</td>\n",
       "      <td>80</td>\n",
       "      <td>10</td>\n",
       "      <td>17</td>\n",
       "      <td>12</td>\n",
       "      <td>23</td>\n",
       "      <td>3</td>\n",
       "      <td>6</td>\n",
       "      <td>11.7</td>\n",
       "    </tr>\n",
       "    <tr>\n",
       "      <th>3</th>\n",
       "      <td>4</td>\n",
       "      <td>Bhavna Kapoor</td>\n",
       "      <td>Female</td>\n",
       "      <td>2003-12-05</td>\n",
       "      <td>96.5</td>\n",
       "      <td>Yellow</td>\n",
       "      <td>100</td>\n",
       "      <td>74</td>\n",
       "      <td>69</td>\n",
       "      <td>71</td>\n",
       "      <td>...</td>\n",
       "      <td>91</td>\n",
       "      <td>79</td>\n",
       "      <td>86</td>\n",
       "      <td>11</td>\n",
       "      <td>10</td>\n",
       "      <td>11</td>\n",
       "      <td>21</td>\n",
       "      <td>7</td>\n",
       "      <td>8</td>\n",
       "      <td>7.7</td>\n",
       "    </tr>\n",
       "    <tr>\n",
       "      <th>4</th>\n",
       "      <td>5</td>\n",
       "      <td>Charan Reddy</td>\n",
       "      <td>Male</td>\n",
       "      <td>2003-04-27</td>\n",
       "      <td>79.4</td>\n",
       "      <td>Green</td>\n",
       "      <td>62</td>\n",
       "      <td>68</td>\n",
       "      <td>76</td>\n",
       "      <td>65</td>\n",
       "      <td>...</td>\n",
       "      <td>77</td>\n",
       "      <td>56</td>\n",
       "      <td>41</td>\n",
       "      <td>16</td>\n",
       "      <td>13</td>\n",
       "      <td>13</td>\n",
       "      <td>8</td>\n",
       "      <td>17</td>\n",
       "      <td>7</td>\n",
       "      <td>1.6</td>\n",
       "    </tr>\n",
       "  </tbody>\n",
       "</table>\n",
       "<p>5 rows × 31 columns</p>\n",
       "</div>"
      ],
      "text/plain": [
       "   RollNo           Name  Gender        DOB  Attendance_%   House  Q_Maths  \\\n",
       "0       1   Aarav Sharma    Male 2003-12-27          84.2    Blue       69   \n",
       "1       2     Aditi Nair  Female 2003-02-05          84.7     Red       62   \n",
       "2       3  Bhavesh Patel    Male 2003-01-24          98.7   Green       55   \n",
       "3       4  Bhavna Kapoor  Female 2003-12-05          96.5  Yellow      100   \n",
       "4       5   Charan Reddy    Male 2003-04-27          79.4   Green       62   \n",
       "\n",
       "   Q_Science  Q_English  Q_History  ...  F_History  F_Geography  F_Civics  \\\n",
       "0         70         74         87  ...         83           85        56   \n",
       "1         78         64         69  ...         75           86        90   \n",
       "2         58         75         92  ...         93           88        80   \n",
       "3         74         69         71  ...         91           79        86   \n",
       "4         68         76         65  ...         77           56        41   \n",
       "\n",
       "   Science_Project_20  English_Activity_20  ArtCraft_20  Sports_Points_30  \\\n",
       "0                  13                   16           12                11   \n",
       "1                  14                   12           16                21   \n",
       "2                  10                   17           12                23   \n",
       "3                  11                   10           11                21   \n",
       "4                  16                   13           13                 8   \n",
       "\n",
       "   Cultural_Points_20  Discipline_10  Volunteer_Hours  \n",
       "0                  15             10             11.2  \n",
       "1                   3              6              7.1  \n",
       "2                   3              6             11.7  \n",
       "3                   7              8              7.7  \n",
       "4                  17              7              1.6  \n",
       "\n",
       "[5 rows x 31 columns]"
      ]
     },
     "execution_count": 2,
     "metadata": {},
     "output_type": "execute_result"
    }
   ],
   "source": [
    "df = pd.read_excel('students_class10_basic_dataset.xlsx')\n",
    "df.head(5)"
   ]
  },
  {
   "cell_type": "markdown",
   "id": "359fada0-ff1b-4f23-bab1-94d577cd90a1",
   "metadata": {},
   "source": [
    "# Preprocessing"
   ]
  },
  {
   "cell_type": "markdown",
   "id": "53a2b3ec-fb19-4c34-8fcf-87139496a4e6",
   "metadata": {},
   "source": [
    "## Check Null Values"
   ]
  },
  {
   "cell_type": "code",
   "execution_count": 3,
   "id": "fb09ea0d-b6bf-47ac-be5a-d210cf81ae0a",
   "metadata": {},
   "outputs": [
    {
     "data": {
      "text/plain": [
       "RollNo                 0\n",
       "Name                   0\n",
       "Gender                 0\n",
       "DOB                    0\n",
       "Attendance_%           0\n",
       "House                  0\n",
       "Q_Maths                0\n",
       "Q_Science              0\n",
       "Q_English              0\n",
       "Q_History              0\n",
       "Q_Geography            0\n",
       "Q_Civics               0\n",
       "H_Maths                0\n",
       "H_Science              0\n",
       "H_English              0\n",
       "H_History              0\n",
       "H_Geography            0\n",
       "H_Civics               0\n",
       "F_Maths                0\n",
       "F_Science              0\n",
       "F_English              0\n",
       "F_History              0\n",
       "F_Geography            0\n",
       "F_Civics               0\n",
       "Science_Project_20     0\n",
       "English_Activity_20    0\n",
       "ArtCraft_20            0\n",
       "Sports_Points_30       0\n",
       "Cultural_Points_20     0\n",
       "Discipline_10          0\n",
       "Volunteer_Hours        0\n",
       "dtype: int64"
      ]
     },
     "execution_count": 3,
     "metadata": {},
     "output_type": "execute_result"
    }
   ],
   "source": [
    "df.isnull().sum()"
   ]
  },
  {
   "cell_type": "markdown",
   "id": "699765ce-843b-44a0-820c-a2be9b1cf9c0",
   "metadata": {},
   "source": [
    "## Check Shape"
   ]
  },
  {
   "cell_type": "code",
   "execution_count": 4,
   "id": "93853907-3565-42d8-b2d5-a084b6d35526",
   "metadata": {},
   "outputs": [
    {
     "name": "stdout",
     "output_type": "stream",
     "text": [
      "DataFrame shape: (40, 31)\n"
     ]
    }
   ],
   "source": [
    "print('DataFrame shape:', df.shape)"
   ]
  },
  {
   "cell_type": "markdown",
   "id": "f905eb87-aca4-492e-b20e-b145878e637b",
   "metadata": {},
   "source": [
    "## Transforming DOB into Age"
   ]
  },
  {
   "cell_type": "code",
   "execution_count": 5,
   "id": "fe22af23-cdbc-40da-b05a-4fa4c6b8f57d",
   "metadata": {},
   "outputs": [],
   "source": [
    "df['DOB'] = pd.to_datetime(df['DOB'])\n",
    "df['Age'] = (pd.Timestamp(\"today\") - df['DOB']).dt.days // 365"
   ]
  },
  {
   "cell_type": "markdown",
   "id": "0db87242-5101-41dc-9684-c5f73fe61c81",
   "metadata": {},
   "source": [
    "## Check Duplicates"
   ]
  },
  {
   "cell_type": "code",
   "execution_count": 6,
   "id": "e32f57c9-266b-400e-ab90-009649102cfd",
   "metadata": {},
   "outputs": [
    {
     "data": {
      "text/html": [
       "<div>\n",
       "<style scoped>\n",
       "    .dataframe tbody tr th:only-of-type {\n",
       "        vertical-align: middle;\n",
       "    }\n",
       "\n",
       "    .dataframe tbody tr th {\n",
       "        vertical-align: top;\n",
       "    }\n",
       "\n",
       "    .dataframe thead th {\n",
       "        text-align: right;\n",
       "    }\n",
       "</style>\n",
       "<table border=\"1\" class=\"dataframe\">\n",
       "  <thead>\n",
       "    <tr style=\"text-align: right;\">\n",
       "      <th></th>\n",
       "      <th>RollNo</th>\n",
       "      <th>Name</th>\n",
       "      <th>Gender</th>\n",
       "      <th>DOB</th>\n",
       "      <th>Attendance_%</th>\n",
       "      <th>House</th>\n",
       "      <th>Q_Maths</th>\n",
       "      <th>Q_Science</th>\n",
       "      <th>Q_English</th>\n",
       "      <th>Q_History</th>\n",
       "      <th>...</th>\n",
       "      <th>F_Geography</th>\n",
       "      <th>F_Civics</th>\n",
       "      <th>Science_Project_20</th>\n",
       "      <th>English_Activity_20</th>\n",
       "      <th>ArtCraft_20</th>\n",
       "      <th>Sports_Points_30</th>\n",
       "      <th>Cultural_Points_20</th>\n",
       "      <th>Discipline_10</th>\n",
       "      <th>Volunteer_Hours</th>\n",
       "      <th>Age</th>\n",
       "    </tr>\n",
       "  </thead>\n",
       "  <tbody>\n",
       "  </tbody>\n",
       "</table>\n",
       "<p>0 rows × 32 columns</p>\n",
       "</div>"
      ],
      "text/plain": [
       "Empty DataFrame\n",
       "Columns: [RollNo, Name, Gender, DOB, Attendance_%, House, Q_Maths, Q_Science, Q_English, Q_History, Q_Geography, Q_Civics, H_Maths, H_Science, H_English, H_History, H_Geography, H_Civics, F_Maths, F_Science, F_English, F_History, F_Geography, F_Civics, Science_Project_20, English_Activity_20, ArtCraft_20, Sports_Points_30, Cultural_Points_20, Discipline_10, Volunteer_Hours, Age]\n",
       "Index: []\n",
       "\n",
       "[0 rows x 32 columns]"
      ]
     },
     "execution_count": 6,
     "metadata": {},
     "output_type": "execute_result"
    }
   ],
   "source": [
    "df[df.duplicated()]"
   ]
  }
 ],
 "metadata": {
  "kernelspec": {
   "display_name": "Python 3 (ipykernel)",
   "language": "python",
   "name": "python3"
  },
  "language_info": {
   "codemirror_mode": {
    "name": "ipython",
    "version": 3
   },
   "file_extension": ".py",
   "mimetype": "text/x-python",
   "name": "python",
   "nbconvert_exporter": "python",
   "pygments_lexer": "ipython3",
   "version": "3.13.3"
  }
 },
 "nbformat": 4,
 "nbformat_minor": 5
}
