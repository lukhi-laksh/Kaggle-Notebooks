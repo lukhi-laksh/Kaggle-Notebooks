{
 "cells": [
  {
   "cell_type": "markdown",
   "id": "18408012-4bba-468e-8a42-33b20dd80c84",
   "metadata": {},
   "source": [
    "# 📊 Dataset Information\n",
    "\n",
    "**Note:** The dataset for this project is **not included in this repository** to keep the repository lightweight.  \n",
    "\n",
    "You can download the dataset from **Kaggle** using the link below:  \n",
    "\n",
    "[Download the GTA Vice City Dataset](https://www.kaggle.com/datasets/eshummalik/grand-data-auto-vicecity/data)  \n",
    "\n",
    "Please make sure to place the downloaded CSV file in the same directory as this notebook before running any code."
   ]
  },
  {
   "cell_type": "markdown",
   "id": "3485a193-4ebc-40d8-ab7f-b590d2e6488f",
   "metadata": {},
   "source": [
    "# Importing"
   ]
  },
  {
   "cell_type": "markdown",
   "id": "c90ebe5e-65ad-4923-b75a-d3b31daad08b",
   "metadata": {},
   "source": [
    "## Import Library"
   ]
  },
  {
   "cell_type": "code",
   "execution_count": 1,
   "id": "6817357e-b624-412d-b438-0c84db433f4d",
   "metadata": {},
   "outputs": [],
   "source": [
    "import pandas as pd\n",
    "import numpy as np\n",
    "import matplotlib.pyplot as plt\n",
    "import seaborn as sns\n",
    "import warnings\n",
    "warnings.filterwarnings(\"ignore\")"
   ]
  },
  {
   "cell_type": "markdown",
   "id": "e547d192-acf7-428e-86ea-d700129db901",
   "metadata": {},
   "source": [
    "## Import CSV and Convert to DataFrame"
   ]
  },
  {
   "cell_type": "code",
   "execution_count": 2,
   "id": "bb53f107-9a13-4d45-ba93-da77f993e886",
   "metadata": {},
   "outputs": [],
   "source": [
    "df = pd.read_csv('GTA Vice_City.csv')"
   ]
  },
  {
   "cell_type": "markdown",
   "id": "b34cc4e2-37e1-4560-aeb6-1dcefe546efc",
   "metadata": {},
   "source": [
    "# PreProcessing"
   ]
  },
  {
   "cell_type": "markdown",
   "id": "edf1d417-ba84-41f4-8b7d-63581005df17",
   "metadata": {},
   "source": [
    "## Details of Dataset"
   ]
  },
  {
   "cell_type": "markdown",
   "id": "46e5bfcb-1bb9-4b53-8d9b-c42d07f2ab30",
   "metadata": {},
   "source": [
    "### Frist five row"
   ]
  },
  {
   "cell_type": "code",
   "execution_count": 3,
   "id": "a2094f83-9c0c-4add-949e-6c906a972d76",
   "metadata": {},
   "outputs": [
    {
     "data": {
      "text/html": [
       "<div>\n",
       "<style scoped>\n",
       "    .dataframe tbody tr th:only-of-type {\n",
       "        vertical-align: middle;\n",
       "    }\n",
       "\n",
       "    .dataframe tbody tr th {\n",
       "        vertical-align: top;\n",
       "    }\n",
       "\n",
       "    .dataframe thead th {\n",
       "        text-align: right;\n",
       "    }\n",
       "</style>\n",
       "<table border=\"1\" class=\"dataframe\">\n",
       "  <thead>\n",
       "    <tr style=\"text-align: right;\">\n",
       "      <th></th>\n",
       "      <th>id</th>\n",
       "      <th>language</th>\n",
       "      <th>review</th>\n",
       "      <th>created</th>\n",
       "      <th>voted_up</th>\n",
       "      <th>votes_up</th>\n",
       "      <th>comment_count</th>\n",
       "      <th>steam_purchase</th>\n",
       "      <th>recieved_for_free</th>\n",
       "      <th>written_during_early_access</th>\n",
       "      <th>author_num_games_owned</th>\n",
       "      <th>author_num_reviews</th>\n",
       "      <th>author_playtime_forever</th>\n",
       "      <th>author_playtime_last_two_weeks</th>\n",
       "      <th>author_playtime_at_review</th>\n",
       "      <th>author_last_played</th>\n",
       "    </tr>\n",
       "  </thead>\n",
       "  <tbody>\n",
       "    <tr>\n",
       "      <th>0</th>\n",
       "      <td>157337410</td>\n",
       "      <td>english</td>\n",
       "      <td>Games good, But Rockstar Your a BILLION DOLLAR...</td>\n",
       "      <td>2024-02-01 16:00:22</td>\n",
       "      <td>True</td>\n",
       "      <td>0</td>\n",
       "      <td>0</td>\n",
       "      <td>True</td>\n",
       "      <td>False</td>\n",
       "      <td>False</td>\n",
       "      <td>0</td>\n",
       "      <td>9</td>\n",
       "      <td>9105</td>\n",
       "      <td>131</td>\n",
       "      <td>9105</td>\n",
       "      <td>2024-01-30 21:04:02</td>\n",
       "    </tr>\n",
       "    <tr>\n",
       "      <th>1</th>\n",
       "      <td>157337371</td>\n",
       "      <td>english</td>\n",
       "      <td>modders make it better and free everything</td>\n",
       "      <td>2024-02-01 15:59:57</td>\n",
       "      <td>True</td>\n",
       "      <td>0</td>\n",
       "      <td>0</td>\n",
       "      <td>True</td>\n",
       "      <td>True</td>\n",
       "      <td>False</td>\n",
       "      <td>0</td>\n",
       "      <td>1</td>\n",
       "      <td>2530</td>\n",
       "      <td>1728</td>\n",
       "      <td>2530</td>\n",
       "      <td>2024-02-01 16:01:41</td>\n",
       "    </tr>\n",
       "    <tr>\n",
       "      <th>2</th>\n",
       "      <td>157337210</td>\n",
       "      <td>english</td>\n",
       "      <td>great game</td>\n",
       "      <td>2024-02-01 15:57:48</td>\n",
       "      <td>True</td>\n",
       "      <td>0</td>\n",
       "      <td>0</td>\n",
       "      <td>False</td>\n",
       "      <td>False</td>\n",
       "      <td>False</td>\n",
       "      <td>0</td>\n",
       "      <td>1</td>\n",
       "      <td>281457</td>\n",
       "      <td>4523</td>\n",
       "      <td>281457</td>\n",
       "      <td>2024-02-01 00:48:38</td>\n",
       "    </tr>\n",
       "    <tr>\n",
       "      <th>3</th>\n",
       "      <td>157336468</td>\n",
       "      <td>english</td>\n",
       "      <td>best</td>\n",
       "      <td>2024-02-01 15:47:51</td>\n",
       "      <td>True</td>\n",
       "      <td>0</td>\n",
       "      <td>0</td>\n",
       "      <td>True</td>\n",
       "      <td>False</td>\n",
       "      <td>False</td>\n",
       "      <td>34</td>\n",
       "      <td>3</td>\n",
       "      <td>2842</td>\n",
       "      <td>431</td>\n",
       "      <td>2816</td>\n",
       "      <td>2024-02-01 15:50:12</td>\n",
       "    </tr>\n",
       "    <tr>\n",
       "      <th>4</th>\n",
       "      <td>157335380</td>\n",
       "      <td>english</td>\n",
       "      <td>sed</td>\n",
       "      <td>2024-02-01 15:32:26</td>\n",
       "      <td>True</td>\n",
       "      <td>0</td>\n",
       "      <td>0</td>\n",
       "      <td>True</td>\n",
       "      <td>False</td>\n",
       "      <td>False</td>\n",
       "      <td>11</td>\n",
       "      <td>2</td>\n",
       "      <td>2055</td>\n",
       "      <td>79</td>\n",
       "      <td>2021</td>\n",
       "      <td>2024-02-01 16:12:38</td>\n",
       "    </tr>\n",
       "  </tbody>\n",
       "</table>\n",
       "</div>"
      ],
      "text/plain": [
       "          id language                                             review  \\\n",
       "0  157337410  english  Games good, But Rockstar Your a BILLION DOLLAR...   \n",
       "1  157337371  english         modders make it better and free everything   \n",
       "2  157337210  english                                         great game   \n",
       "3  157336468  english                                               best   \n",
       "4  157335380  english                                                sed   \n",
       "\n",
       "               created  voted_up  votes_up  comment_count  steam_purchase  \\\n",
       "0  2024-02-01 16:00:22      True         0              0            True   \n",
       "1  2024-02-01 15:59:57      True         0              0            True   \n",
       "2  2024-02-01 15:57:48      True         0              0           False   \n",
       "3  2024-02-01 15:47:51      True         0              0            True   \n",
       "4  2024-02-01 15:32:26      True         0              0            True   \n",
       "\n",
       "   recieved_for_free  written_during_early_access  author_num_games_owned  \\\n",
       "0              False                        False                       0   \n",
       "1               True                        False                       0   \n",
       "2              False                        False                       0   \n",
       "3              False                        False                      34   \n",
       "4              False                        False                      11   \n",
       "\n",
       "   author_num_reviews  author_playtime_forever  \\\n",
       "0                   9                     9105   \n",
       "1                   1                     2530   \n",
       "2                   1                   281457   \n",
       "3                   3                     2842   \n",
       "4                   2                     2055   \n",
       "\n",
       "   author_playtime_last_two_weeks  author_playtime_at_review  \\\n",
       "0                             131                       9105   \n",
       "1                            1728                       2530   \n",
       "2                            4523                     281457   \n",
       "3                             431                       2816   \n",
       "4                              79                       2021   \n",
       "\n",
       "    author_last_played  \n",
       "0  2024-01-30 21:04:02  \n",
       "1  2024-02-01 16:01:41  \n",
       "2  2024-02-01 00:48:38  \n",
       "3  2024-02-01 15:50:12  \n",
       "4  2024-02-01 16:12:38  "
      ]
     },
     "execution_count": 3,
     "metadata": {},
     "output_type": "execute_result"
    }
   ],
   "source": [
    "df.head()"
   ]
  },
  {
   "cell_type": "markdown",
   "id": "a82db733-2976-4d15-b815-70b7d6cc2c90",
   "metadata": {},
   "source": [
    "### last Five row"
   ]
  },
  {
   "cell_type": "code",
   "execution_count": 4,
   "id": "757f581c-ef04-4ac7-899e-b2ed1dd4fb0a",
   "metadata": {},
   "outputs": [
    {
     "data": {
      "text/html": [
       "<div>\n",
       "<style scoped>\n",
       "    .dataframe tbody tr th:only-of-type {\n",
       "        vertical-align: middle;\n",
       "    }\n",
       "\n",
       "    .dataframe tbody tr th {\n",
       "        vertical-align: top;\n",
       "    }\n",
       "\n",
       "    .dataframe thead th {\n",
       "        text-align: right;\n",
       "    }\n",
       "</style>\n",
       "<table border=\"1\" class=\"dataframe\">\n",
       "  <thead>\n",
       "    <tr style=\"text-align: right;\">\n",
       "      <th></th>\n",
       "      <th>id</th>\n",
       "      <th>language</th>\n",
       "      <th>review</th>\n",
       "      <th>created</th>\n",
       "      <th>voted_up</th>\n",
       "      <th>votes_up</th>\n",
       "      <th>comment_count</th>\n",
       "      <th>steam_purchase</th>\n",
       "      <th>recieved_for_free</th>\n",
       "      <th>written_during_early_access</th>\n",
       "      <th>author_num_games_owned</th>\n",
       "      <th>author_num_reviews</th>\n",
       "      <th>author_playtime_forever</th>\n",
       "      <th>author_playtime_last_two_weeks</th>\n",
       "      <th>author_playtime_at_review</th>\n",
       "      <th>author_last_played</th>\n",
       "    </tr>\n",
       "  </thead>\n",
       "  <tbody>\n",
       "    <tr>\n",
       "      <th>52094</th>\n",
       "      <td>140767442</td>\n",
       "      <td>english</td>\n",
       "      <td>great game</td>\n",
       "      <td>2023-06-27 04:16:29</td>\n",
       "      <td>True</td>\n",
       "      <td>0</td>\n",
       "      <td>0</td>\n",
       "      <td>True</td>\n",
       "      <td>False</td>\n",
       "      <td>False</td>\n",
       "      <td>0</td>\n",
       "      <td>2</td>\n",
       "      <td>1711</td>\n",
       "      <td>0</td>\n",
       "      <td>1592</td>\n",
       "      <td>2023-06-27 06:15:48</td>\n",
       "    </tr>\n",
       "    <tr>\n",
       "      <th>52095</th>\n",
       "      <td>140766922</td>\n",
       "      <td>english</td>\n",
       "      <td>This game destroys lives and breaks families. ...</td>\n",
       "      <td>2023-06-27 04:01:43</td>\n",
       "      <td>False</td>\n",
       "      <td>0</td>\n",
       "      <td>0</td>\n",
       "      <td>True</td>\n",
       "      <td>False</td>\n",
       "      <td>False</td>\n",
       "      <td>0</td>\n",
       "      <td>2</td>\n",
       "      <td>994</td>\n",
       "      <td>0</td>\n",
       "      <td>699</td>\n",
       "      <td>2023-07-04 02:51:55</td>\n",
       "    </tr>\n",
       "    <tr>\n",
       "      <th>52096</th>\n",
       "      <td>140766772</td>\n",
       "      <td>english</td>\n",
       "      <td>this is such a fun you need to try it out the ...</td>\n",
       "      <td>2023-06-27 03:57:22</td>\n",
       "      <td>True</td>\n",
       "      <td>0</td>\n",
       "      <td>0</td>\n",
       "      <td>True</td>\n",
       "      <td>False</td>\n",
       "      <td>False</td>\n",
       "      <td>0</td>\n",
       "      <td>1</td>\n",
       "      <td>50761</td>\n",
       "      <td>0</td>\n",
       "      <td>38332</td>\n",
       "      <td>2024-01-13 16:38:30</td>\n",
       "    </tr>\n",
       "    <tr>\n",
       "      <th>52097</th>\n",
       "      <td>140766435</td>\n",
       "      <td>english</td>\n",
       "      <td>gg</td>\n",
       "      <td>2023-06-27 03:48:20</td>\n",
       "      <td>True</td>\n",
       "      <td>0</td>\n",
       "      <td>0</td>\n",
       "      <td>True</td>\n",
       "      <td>False</td>\n",
       "      <td>False</td>\n",
       "      <td>0</td>\n",
       "      <td>9</td>\n",
       "      <td>2575</td>\n",
       "      <td>0</td>\n",
       "      <td>1212</td>\n",
       "      <td>2023-07-15 21:46:04</td>\n",
       "    </tr>\n",
       "    <tr>\n",
       "      <th>52098</th>\n",
       "      <td>140766317</td>\n",
       "      <td>english</td>\n",
       "      <td>De los mejores juegos del mundo... Mas que nad...</td>\n",
       "      <td>2023-06-27 03:44:44</td>\n",
       "      <td>True</td>\n",
       "      <td>0</td>\n",
       "      <td>0</td>\n",
       "      <td>True</td>\n",
       "      <td>False</td>\n",
       "      <td>False</td>\n",
       "      <td>15</td>\n",
       "      <td>2</td>\n",
       "      <td>2858</td>\n",
       "      <td>351</td>\n",
       "      <td>2492</td>\n",
       "      <td>2024-02-01 07:17:01</td>\n",
       "    </tr>\n",
       "  </tbody>\n",
       "</table>\n",
       "</div>"
      ],
      "text/plain": [
       "              id language                                             review  \\\n",
       "52094  140767442  english                                         great game   \n",
       "52095  140766922  english  This game destroys lives and breaks families. ...   \n",
       "52096  140766772  english  this is such a fun you need to try it out the ...   \n",
       "52097  140766435  english                                                 gg   \n",
       "52098  140766317  english  De los mejores juegos del mundo... Mas que nad...   \n",
       "\n",
       "                   created  voted_up  votes_up  comment_count  steam_purchase  \\\n",
       "52094  2023-06-27 04:16:29      True         0              0            True   \n",
       "52095  2023-06-27 04:01:43     False         0              0            True   \n",
       "52096  2023-06-27 03:57:22      True         0              0            True   \n",
       "52097  2023-06-27 03:48:20      True         0              0            True   \n",
       "52098  2023-06-27 03:44:44      True         0              0            True   \n",
       "\n",
       "       recieved_for_free  written_during_early_access  author_num_games_owned  \\\n",
       "52094              False                        False                       0   \n",
       "52095              False                        False                       0   \n",
       "52096              False                        False                       0   \n",
       "52097              False                        False                       0   \n",
       "52098              False                        False                      15   \n",
       "\n",
       "       author_num_reviews  author_playtime_forever  \\\n",
       "52094                   2                     1711   \n",
       "52095                   2                      994   \n",
       "52096                   1                    50761   \n",
       "52097                   9                     2575   \n",
       "52098                   2                     2858   \n",
       "\n",
       "       author_playtime_last_two_weeks  author_playtime_at_review  \\\n",
       "52094                               0                       1592   \n",
       "52095                               0                        699   \n",
       "52096                               0                      38332   \n",
       "52097                               0                       1212   \n",
       "52098                             351                       2492   \n",
       "\n",
       "        author_last_played  \n",
       "52094  2023-06-27 06:15:48  \n",
       "52095  2023-07-04 02:51:55  \n",
       "52096  2024-01-13 16:38:30  \n",
       "52097  2023-07-15 21:46:04  \n",
       "52098  2024-02-01 07:17:01  "
      ]
     },
     "execution_count": 4,
     "metadata": {},
     "output_type": "execute_result"
    }
   ],
   "source": [
    "df.tail()"
   ]
  },
  {
   "cell_type": "markdown",
   "id": "8a4487bf-fb5e-495f-80a4-a27e1ab0847e",
   "metadata": {},
   "source": [
    "### Shape of our dataset"
   ]
  },
  {
   "cell_type": "code",
   "execution_count": 5,
   "id": "db217f17-9dc4-4b63-b64d-805b4c3f5384",
   "metadata": {},
   "outputs": [
    {
     "data": {
      "text/plain": [
       "(52099, 16)"
      ]
     },
     "execution_count": 5,
     "metadata": {},
     "output_type": "execute_result"
    }
   ],
   "source": [
    "df.shape"
   ]
  },
  {
   "cell_type": "markdown",
   "id": "ccca4740-5a69-402a-907e-d1176fd71692",
   "metadata": {},
   "source": [
    "### List out all columns"
   ]
  },
  {
   "cell_type": "code",
   "execution_count": 6,
   "id": "b8ec1ce4-4b11-409d-943b-3684fa31ff5b",
   "metadata": {},
   "outputs": [
    {
     "data": {
      "text/plain": [
       "Index(['id', 'language', 'review', 'created', 'voted_up', 'votes_up',\n",
       "       'comment_count', 'steam_purchase', 'recieved_for_free',\n",
       "       'written_during_early_access', 'author_num_games_owned',\n",
       "       'author_num_reviews', 'author_playtime_forever',\n",
       "       'author_playtime_last_two_weeks', 'author_playtime_at_review',\n",
       "       'author_last_played'],\n",
       "      dtype='object')"
      ]
     },
     "execution_count": 6,
     "metadata": {},
     "output_type": "execute_result"
    }
   ],
   "source": [
    "df.columns"
   ]
  },
  {
   "cell_type": "markdown",
   "id": "4ccacf9b-0581-4cb2-b046-a838f731a7ba",
   "metadata": {},
   "source": [
    "### Datatype of each columns"
   ]
  },
  {
   "cell_type": "code",
   "execution_count": 7,
   "id": "ccbefd4b-4433-45cd-945d-39964ad0003a",
   "metadata": {},
   "outputs": [
    {
     "data": {
      "text/plain": [
       "id                                 int64\n",
       "language                          object\n",
       "review                            object\n",
       "created                           object\n",
       "voted_up                            bool\n",
       "votes_up                           int64\n",
       "comment_count                      int64\n",
       "steam_purchase                      bool\n",
       "recieved_for_free                   bool\n",
       "written_during_early_access         bool\n",
       "author_num_games_owned             int64\n",
       "author_num_reviews                 int64\n",
       "author_playtime_forever            int64\n",
       "author_playtime_last_two_weeks     int64\n",
       "author_playtime_at_review          int64\n",
       "author_last_played                object\n",
       "dtype: object"
      ]
     },
     "execution_count": 7,
     "metadata": {},
     "output_type": "execute_result"
    }
   ],
   "source": [
    "df.dtypes"
   ]
  },
  {
   "cell_type": "markdown",
   "id": "b6d42812-302a-4da3-85b8-0ca22ed521c6",
   "metadata": {},
   "source": [
    "### Information of all Columns"
   ]
  },
  {
   "cell_type": "code",
   "execution_count": 8,
   "id": "ef156f21-1277-4475-8ffd-e5918cd3a8e2",
   "metadata": {},
   "outputs": [
    {
     "name": "stdout",
     "output_type": "stream",
     "text": [
      "<class 'pandas.core.frame.DataFrame'>\n",
      "RangeIndex: 52099 entries, 0 to 52098\n",
      "Data columns (total 16 columns):\n",
      " #   Column                          Non-Null Count  Dtype \n",
      "---  ------                          --------------  ----- \n",
      " 0   id                              52099 non-null  int64 \n",
      " 1   language                        52099 non-null  object\n",
      " 2   review                          51801 non-null  object\n",
      " 3   created                         52099 non-null  object\n",
      " 4   voted_up                        52099 non-null  bool  \n",
      " 5   votes_up                        52099 non-null  int64 \n",
      " 6   comment_count                   52099 non-null  int64 \n",
      " 7   steam_purchase                  52099 non-null  bool  \n",
      " 8   recieved_for_free               52099 non-null  bool  \n",
      " 9   written_during_early_access     52099 non-null  bool  \n",
      " 10  author_num_games_owned          52099 non-null  int64 \n",
      " 11  author_num_reviews              52099 non-null  int64 \n",
      " 12  author_playtime_forever         52099 non-null  int64 \n",
      " 13  author_playtime_last_two_weeks  52099 non-null  int64 \n",
      " 14  author_playtime_at_review       52099 non-null  int64 \n",
      " 15  author_last_played              52099 non-null  object\n",
      "dtypes: bool(4), int64(8), object(4)\n",
      "memory usage: 5.0+ MB\n"
     ]
    }
   ],
   "source": [
    "df.info()"
   ]
  },
  {
   "cell_type": "markdown",
   "id": "808aec7f-dd4e-40ac-a6f5-cf95e2b041eb",
   "metadata": {},
   "source": [
    "### Check Null Value"
   ]
  },
  {
   "cell_type": "code",
   "execution_count": 9,
   "id": "1a2599af-eb8f-4695-b65e-8f7e42727d00",
   "metadata": {},
   "outputs": [
    {
     "data": {
      "text/plain": [
       "id                                  0\n",
       "language                            0\n",
       "review                            298\n",
       "created                             0\n",
       "voted_up                            0\n",
       "votes_up                            0\n",
       "comment_count                       0\n",
       "steam_purchase                      0\n",
       "recieved_for_free                   0\n",
       "written_during_early_access         0\n",
       "author_num_games_owned              0\n",
       "author_num_reviews                  0\n",
       "author_playtime_forever             0\n",
       "author_playtime_last_two_weeks      0\n",
       "author_playtime_at_review           0\n",
       "author_last_played                  0\n",
       "dtype: int64"
      ]
     },
     "execution_count": 9,
     "metadata": {},
     "output_type": "execute_result"
    }
   ],
   "source": [
    "df.isnull().sum()"
   ]
  },
  {
   "cell_type": "markdown",
   "id": "341a016c-3f7d-4169-9bc2-abdf1b0606c3",
   "metadata": {},
   "source": [
    "### Check Duplicate Value"
   ]
  },
  {
   "cell_type": "code",
   "execution_count": 10,
   "id": "3147f9f2-1990-47b4-b827-f2ef55cf6d56",
   "metadata": {},
   "outputs": [
    {
     "data": {
      "text/plain": [
       "np.int64(0)"
      ]
     },
     "execution_count": 10,
     "metadata": {},
     "output_type": "execute_result"
    }
   ],
   "source": [
    "df.duplicated().sum()"
   ]
  },
  {
   "cell_type": "markdown",
   "id": "7e2e23db-882b-4c0f-bd84-e8d246313b3a",
   "metadata": {},
   "source": [
    "### summary of the dataset"
   ]
  },
  {
   "cell_type": "code",
   "execution_count": 11,
   "id": "b2865cdd-3c1f-466d-afbd-d1931e229829",
   "metadata": {},
   "outputs": [
    {
     "data": {
      "text/html": [
       "<div>\n",
       "<style scoped>\n",
       "    .dataframe tbody tr th:only-of-type {\n",
       "        vertical-align: middle;\n",
       "    }\n",
       "\n",
       "    .dataframe tbody tr th {\n",
       "        vertical-align: top;\n",
       "    }\n",
       "\n",
       "    .dataframe thead th {\n",
       "        text-align: right;\n",
       "    }\n",
       "</style>\n",
       "<table border=\"1\" class=\"dataframe\">\n",
       "  <thead>\n",
       "    <tr style=\"text-align: right;\">\n",
       "      <th></th>\n",
       "      <th>id</th>\n",
       "      <th>votes_up</th>\n",
       "      <th>comment_count</th>\n",
       "      <th>author_num_games_owned</th>\n",
       "      <th>author_num_reviews</th>\n",
       "      <th>author_playtime_forever</th>\n",
       "      <th>author_playtime_last_two_weeks</th>\n",
       "      <th>author_playtime_at_review</th>\n",
       "    </tr>\n",
       "  </thead>\n",
       "  <tbody>\n",
       "    <tr>\n",
       "      <th>count</th>\n",
       "      <td>5.209900e+04</td>\n",
       "      <td>52099.000000</td>\n",
       "      <td>52099.000000</td>\n",
       "      <td>52099.000000</td>\n",
       "      <td>52099.000000</td>\n",
       "      <td>5.209900e+04</td>\n",
       "      <td>52099.000000</td>\n",
       "      <td>5.209900e+04</td>\n",
       "    </tr>\n",
       "    <tr>\n",
       "      <th>mean</th>\n",
       "      <td>1.489459e+08</td>\n",
       "      <td>0.584387</td>\n",
       "      <td>0.018522</td>\n",
       "      <td>20.017467</td>\n",
       "      <td>5.844738</td>\n",
       "      <td>1.118878e+04</td>\n",
       "      <td>342.430488</td>\n",
       "      <td>8.216967e+03</td>\n",
       "    </tr>\n",
       "    <tr>\n",
       "      <th>std</th>\n",
       "      <td>5.183634e+06</td>\n",
       "      <td>22.359856</td>\n",
       "      <td>0.352163</td>\n",
       "      <td>127.495124</td>\n",
       "      <td>12.600061</td>\n",
       "      <td>2.473005e+04</td>\n",
       "      <td>1027.536478</td>\n",
       "      <td>2.282778e+04</td>\n",
       "    </tr>\n",
       "    <tr>\n",
       "      <th>min</th>\n",
       "      <td>1.407663e+08</td>\n",
       "      <td>0.000000</td>\n",
       "      <td>0.000000</td>\n",
       "      <td>0.000000</td>\n",
       "      <td>1.000000</td>\n",
       "      <td>5.000000e+00</td>\n",
       "      <td>0.000000</td>\n",
       "      <td>5.000000e+00</td>\n",
       "    </tr>\n",
       "    <tr>\n",
       "      <th>25%</th>\n",
       "      <td>1.440101e+08</td>\n",
       "      <td>0.000000</td>\n",
       "      <td>0.000000</td>\n",
       "      <td>0.000000</td>\n",
       "      <td>1.000000</td>\n",
       "      <td>2.164000e+03</td>\n",
       "      <td>0.000000</td>\n",
       "      <td>7.545000e+02</td>\n",
       "    </tr>\n",
       "    <tr>\n",
       "      <th>50%</th>\n",
       "      <td>1.486648e+08</td>\n",
       "      <td>0.000000</td>\n",
       "      <td>0.000000</td>\n",
       "      <td>0.000000</td>\n",
       "      <td>2.000000</td>\n",
       "      <td>5.051000e+03</td>\n",
       "      <td>0.000000</td>\n",
       "      <td>2.423000e+03</td>\n",
       "    </tr>\n",
       "    <tr>\n",
       "      <th>75%</th>\n",
       "      <td>1.539681e+08</td>\n",
       "      <td>0.000000</td>\n",
       "      <td>0.000000</td>\n",
       "      <td>6.000000</td>\n",
       "      <td>6.000000</td>\n",
       "      <td>1.169250e+04</td>\n",
       "      <td>151.000000</td>\n",
       "      <td>7.405500e+03</td>\n",
       "    </tr>\n",
       "    <tr>\n",
       "      <th>max</th>\n",
       "      <td>1.573374e+08</td>\n",
       "      <td>3942.000000</td>\n",
       "      <td>46.000000</td>\n",
       "      <td>18126.000000</td>\n",
       "      <td>440.000000</td>\n",
       "      <td>1.470929e+06</td>\n",
       "      <td>19849.000000</td>\n",
       "      <td>1.275576e+06</td>\n",
       "    </tr>\n",
       "  </tbody>\n",
       "</table>\n",
       "</div>"
      ],
      "text/plain": [
       "                 id      votes_up  comment_count  author_num_games_owned  \\\n",
       "count  5.209900e+04  52099.000000   52099.000000            52099.000000   \n",
       "mean   1.489459e+08      0.584387       0.018522               20.017467   \n",
       "std    5.183634e+06     22.359856       0.352163              127.495124   \n",
       "min    1.407663e+08      0.000000       0.000000                0.000000   \n",
       "25%    1.440101e+08      0.000000       0.000000                0.000000   \n",
       "50%    1.486648e+08      0.000000       0.000000                0.000000   \n",
       "75%    1.539681e+08      0.000000       0.000000                6.000000   \n",
       "max    1.573374e+08   3942.000000      46.000000            18126.000000   \n",
       "\n",
       "       author_num_reviews  author_playtime_forever  \\\n",
       "count        52099.000000             5.209900e+04   \n",
       "mean             5.844738             1.118878e+04   \n",
       "std             12.600061             2.473005e+04   \n",
       "min              1.000000             5.000000e+00   \n",
       "25%              1.000000             2.164000e+03   \n",
       "50%              2.000000             5.051000e+03   \n",
       "75%              6.000000             1.169250e+04   \n",
       "max            440.000000             1.470929e+06   \n",
       "\n",
       "       author_playtime_last_two_weeks  author_playtime_at_review  \n",
       "count                    52099.000000               5.209900e+04  \n",
       "mean                       342.430488               8.216967e+03  \n",
       "std                       1027.536478               2.282778e+04  \n",
       "min                          0.000000               5.000000e+00  \n",
       "25%                          0.000000               7.545000e+02  \n",
       "50%                          0.000000               2.423000e+03  \n",
       "75%                        151.000000               7.405500e+03  \n",
       "max                      19849.000000               1.275576e+06  "
      ]
     },
     "execution_count": 11,
     "metadata": {},
     "output_type": "execute_result"
    }
   ],
   "source": [
    "df.describe()"
   ]
  },
  {
   "cell_type": "markdown",
   "id": "2dffe1d8-9a03-43d0-b166-e714343e215a",
   "metadata": {},
   "source": [
    "# EDA"
   ]
  },
  {
   "cell_type": "code",
   "execution_count": 12,
   "id": "45393eea-25ef-4829-be2f-bd72a0a12173",
   "metadata": {},
   "outputs": [],
   "source": [
    "def show_fig():\n",
    "    plt.tight_layout()\n",
    "    plt.show()\n",
    "\n",
    "plot_no = 1"
   ]
  },
  {
   "cell_type": "markdown",
   "id": "ffc5106e-94f6-4291-bcac-73599b243073",
   "metadata": {},
   "source": [
    "## Univariate"
   ]
  },
  {
   "cell_type": "code",
   "execution_count": null,
   "id": "3c36e451-ac8f-48b9-879a-87c7af935c12",
   "metadata": {},
   "outputs": [],
   "source": []
  }
 ],
 "metadata": {
  "kernelspec": {
   "display_name": "Python 3 (ipykernel)",
   "language": "python",
   "name": "python3"
  },
  "language_info": {
   "codemirror_mode": {
    "name": "ipython",
    "version": 3
   },
   "file_extension": ".py",
   "mimetype": "text/x-python",
   "name": "python",
   "nbconvert_exporter": "python",
   "pygments_lexer": "ipython3",
   "version": "3.13.3"
  }
 },
 "nbformat": 4,
 "nbformat_minor": 5
}
