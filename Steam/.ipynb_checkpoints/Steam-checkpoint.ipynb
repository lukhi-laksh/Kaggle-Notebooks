{
 "cells": [
  {
   "cell_type": "markdown",
   "id": "bf13f5a7-073c-4f1d-a9d7-6a54f5768c96",
   "metadata": {},
   "source": [
    "# Importing"
   ]
  },
  {
   "cell_type": "markdown",
   "id": "6daa223f-d6a4-4b45-9aca-f911db79e6bd",
   "metadata": {},
   "source": [
    "## Import Librery"
   ]
  },
  {
   "cell_type": "code",
   "execution_count": 1,
   "id": "6b603509-95c4-4a09-8ce9-5a8f91ca0619",
   "metadata": {},
   "outputs": [],
   "source": [
    "import numpy as np\n",
    "import pandas as pd\n",
    "import matplotlib.pyplot as plt\n",
    "import seaborn as sns"
   ]
  },
  {
   "cell_type": "markdown",
   "id": "7866e52b-5ef6-4238-9d86-fa95b2c819ee",
   "metadata": {},
   "source": [
    "## Import CSV"
   ]
  },
  {
   "cell_type": "code",
   "execution_count": null,
   "id": "de51dfa7-2709-4502-8d7c-3dbfbe6ad740",
   "metadata": {},
   "outputs": [],
   "source": []
  }
 ],
 "metadata": {
  "kernelspec": {
   "display_name": "Python 3 (ipykernel)",
   "language": "python",
   "name": "python3"
  },
  "language_info": {
   "codemirror_mode": {
    "name": "ipython",
    "version": 3
   },
   "file_extension": ".py",
   "mimetype": "text/x-python",
   "name": "python",
   "nbconvert_exporter": "python",
   "pygments_lexer": "ipython3",
   "version": "3.13.3"
  }
 },
 "nbformat": 4,
 "nbformat_minor": 5
}
