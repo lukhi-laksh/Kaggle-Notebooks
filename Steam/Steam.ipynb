{
 "cells": [
  {
   "cell_type": "markdown",
   "id": "47c070cc-d3b3-4e0d-90c0-abc9e7d3ddb7",
   "metadata": {},
   "source": [
    "# 📊 Dataset Information\n",
    "\n",
    "**Note:** The dataset for this project is **not included in this repository** to keep the repository lightweight.  \n",
    "\n",
    "You can download the dataset from **Kaggle** using the link below:  \n",
    "\n",
    "[Download the Steam Dataset](https://www.kaggle.com/datasets/fmpugliese/steam-all-games-data)  \n",
    "\n",
    "Please make sure to place the downloaded CSV file in the same directory as this notebook before running any code."
   ]
  },
  {
   "cell_type": "markdown",
   "id": "bf13f5a7-073c-4f1d-a9d7-6a54f5768c96",
   "metadata": {},
   "source": [
    "# Importing"
   ]
  },
  {
   "cell_type": "markdown",
   "id": "6daa223f-d6a4-4b45-9aca-f911db79e6bd",
   "metadata": {},
   "source": [
    "## Import Librery"
   ]
  },
  {
   "cell_type": "code",
   "execution_count": 1,
   "id": "6b603509-95c4-4a09-8ce9-5a8f91ca0619",
   "metadata": {},
   "outputs": [],
   "source": [
    "import numpy as np\n",
    "import pandas as pd\n",
    "import matplotlib.pyplot as plt\n",
    "import seaborn as sns"
   ]
  },
  {
   "cell_type": "markdown",
   "id": "7866e52b-5ef6-4238-9d86-fa95b2c819ee",
   "metadata": {},
   "source": [
    "## Import CSV And convert to DataFrame"
   ]
  },
  {
   "cell_type": "code",
   "execution_count": 2,
   "id": "de51dfa7-2709-4502-8d7c-3dbfbe6ad740",
   "metadata": {},
   "outputs": [],
   "source": [
    "df = pd.read_csv('all_data.csv')"
   ]
  },
  {
   "cell_type": "markdown",
   "id": "1a5de21e-bc58-4284-a69c-c970e475b235",
   "metadata": {},
   "source": [
    "# PreProcessing"
   ]
  },
  {
   "cell_type": "markdown",
   "id": "e22cdbed-5407-45a7-99a0-eb62c619b805",
   "metadata": {},
   "source": [
    "## Details of Dataset"
   ]
  },
  {
   "cell_type": "markdown",
   "id": "621c1bf9-9df7-40ea-9056-f8fcd4f61e62",
   "metadata": {},
   "source": [
    "### Frist five row"
   ]
  },
  {
   "cell_type": "code",
   "execution_count": 3,
   "id": "9d7d41a2-b2f1-4d74-9b52-8da470eb4485",
   "metadata": {},
   "outputs": [
    {
     "data": {
      "text/html": [
       "<div>\n",
       "<style scoped>\n",
       "    .dataframe tbody tr th:only-of-type {\n",
       "        vertical-align: middle;\n",
       "    }\n",
       "\n",
       "    .dataframe tbody tr th {\n",
       "        vertical-align: top;\n",
       "    }\n",
       "\n",
       "    .dataframe thead th {\n",
       "        text-align: right;\n",
       "    }\n",
       "</style>\n",
       "<table border=\"1\" class=\"dataframe\">\n",
       "  <thead>\n",
       "    <tr style=\"text-align: right;\">\n",
       "      <th></th>\n",
       "      <th>Unnamed: 0</th>\n",
       "      <th>appid</th>\n",
       "      <th>name</th>\n",
       "      <th>developer</th>\n",
       "      <th>publisher</th>\n",
       "      <th>score_rank</th>\n",
       "      <th>positive</th>\n",
       "      <th>negative</th>\n",
       "      <th>userscore</th>\n",
       "      <th>owners</th>\n",
       "      <th>average_forever</th>\n",
       "      <th>average_2weeks</th>\n",
       "      <th>median_forever</th>\n",
       "      <th>median_2weeks</th>\n",
       "      <th>price</th>\n",
       "      <th>initialprice</th>\n",
       "      <th>discount</th>\n",
       "      <th>ccu</th>\n",
       "    </tr>\n",
       "  </thead>\n",
       "  <tbody>\n",
       "    <tr>\n",
       "      <th>0</th>\n",
       "      <td>0</td>\n",
       "      <td>10</td>\n",
       "      <td>Counter-Strike</td>\n",
       "      <td>Valve</td>\n",
       "      <td>Valve</td>\n",
       "      <td>NaN</td>\n",
       "      <td>243818</td>\n",
       "      <td>6427</td>\n",
       "      <td>0</td>\n",
       "      <td>10,000,000 .. 20,000,000</td>\n",
       "      <td>12222</td>\n",
       "      <td>563</td>\n",
       "      <td>204</td>\n",
       "      <td>88</td>\n",
       "      <td>199.0</td>\n",
       "      <td>999.0</td>\n",
       "      <td>80.0</td>\n",
       "      <td>7323</td>\n",
       "    </tr>\n",
       "    <tr>\n",
       "      <th>1</th>\n",
       "      <td>1</td>\n",
       "      <td>20</td>\n",
       "      <td>Team Fortress Classic</td>\n",
       "      <td>Valve</td>\n",
       "      <td>Valve</td>\n",
       "      <td>NaN</td>\n",
       "      <td>7602</td>\n",
       "      <td>1136</td>\n",
       "      <td>0</td>\n",
       "      <td>1,000,000 .. 2,000,000</td>\n",
       "      <td>361</td>\n",
       "      <td>6722</td>\n",
       "      <td>15</td>\n",
       "      <td>6722</td>\n",
       "      <td>499.0</td>\n",
       "      <td>499.0</td>\n",
       "      <td>0.0</td>\n",
       "      <td>66</td>\n",
       "    </tr>\n",
       "    <tr>\n",
       "      <th>2</th>\n",
       "      <td>2</td>\n",
       "      <td>30</td>\n",
       "      <td>Day of Defeat</td>\n",
       "      <td>Valve</td>\n",
       "      <td>Valve</td>\n",
       "      <td>NaN</td>\n",
       "      <td>6414</td>\n",
       "      <td>688</td>\n",
       "      <td>0</td>\n",
       "      <td>5,000,000 .. 10,000,000</td>\n",
       "      <td>859</td>\n",
       "      <td>3485</td>\n",
       "      <td>23</td>\n",
       "      <td>3604</td>\n",
       "      <td>499.0</td>\n",
       "      <td>499.0</td>\n",
       "      <td>0.0</td>\n",
       "      <td>87</td>\n",
       "    </tr>\n",
       "    <tr>\n",
       "      <th>3</th>\n",
       "      <td>3</td>\n",
       "      <td>40</td>\n",
       "      <td>Deathmatch Classic</td>\n",
       "      <td>Valve</td>\n",
       "      <td>Valve</td>\n",
       "      <td>NaN</td>\n",
       "      <td>2618</td>\n",
       "      <td>545</td>\n",
       "      <td>0</td>\n",
       "      <td>5,000,000 .. 10,000,000</td>\n",
       "      <td>353</td>\n",
       "      <td>4</td>\n",
       "      <td>10</td>\n",
       "      <td>4</td>\n",
       "      <td>499.0</td>\n",
       "      <td>499.0</td>\n",
       "      <td>0.0</td>\n",
       "      <td>7</td>\n",
       "    </tr>\n",
       "    <tr>\n",
       "      <th>4</th>\n",
       "      <td>4</td>\n",
       "      <td>50</td>\n",
       "      <td>Half-Life: Opposing Force</td>\n",
       "      <td>Gearbox Software</td>\n",
       "      <td>Valve</td>\n",
       "      <td>NaN</td>\n",
       "      <td>24363</td>\n",
       "      <td>1198</td>\n",
       "      <td>0</td>\n",
       "      <td>2,000,000 .. 5,000,000</td>\n",
       "      <td>528</td>\n",
       "      <td>78</td>\n",
       "      <td>162</td>\n",
       "      <td>78</td>\n",
       "      <td>499.0</td>\n",
       "      <td>499.0</td>\n",
       "      <td>0.0</td>\n",
       "      <td>74</td>\n",
       "    </tr>\n",
       "  </tbody>\n",
       "</table>\n",
       "</div>"
      ],
      "text/plain": [
       "   Unnamed: 0  appid                       name         developer publisher  \\\n",
       "0           0     10             Counter-Strike             Valve     Valve   \n",
       "1           1     20      Team Fortress Classic             Valve     Valve   \n",
       "2           2     30              Day of Defeat             Valve     Valve   \n",
       "3           3     40         Deathmatch Classic             Valve     Valve   \n",
       "4           4     50  Half-Life: Opposing Force  Gearbox Software     Valve   \n",
       "\n",
       "   score_rank  positive  negative  userscore                    owners  \\\n",
       "0         NaN    243818      6427          0  10,000,000 .. 20,000,000   \n",
       "1         NaN      7602      1136          0    1,000,000 .. 2,000,000   \n",
       "2         NaN      6414       688          0   5,000,000 .. 10,000,000   \n",
       "3         NaN      2618       545          0   5,000,000 .. 10,000,000   \n",
       "4         NaN     24363      1198          0    2,000,000 .. 5,000,000   \n",
       "\n",
       "   average_forever  average_2weeks  median_forever  median_2weeks  price  \\\n",
       "0            12222             563             204             88  199.0   \n",
       "1              361            6722              15           6722  499.0   \n",
       "2              859            3485              23           3604  499.0   \n",
       "3              353               4              10              4  499.0   \n",
       "4              528              78             162             78  499.0   \n",
       "\n",
       "   initialprice  discount   ccu  \n",
       "0         999.0      80.0  7323  \n",
       "1         499.0       0.0    66  \n",
       "2         499.0       0.0    87  \n",
       "3         499.0       0.0     7  \n",
       "4         499.0       0.0    74  "
      ]
     },
     "execution_count": 3,
     "metadata": {},
     "output_type": "execute_result"
    }
   ],
   "source": [
    "df.head()"
   ]
  },
  {
   "cell_type": "markdown",
   "id": "eb18a539-35ae-43da-a39f-c35296a3c04b",
   "metadata": {},
   "source": [
    "### last Five row"
   ]
  },
  {
   "cell_type": "code",
   "execution_count": 4,
   "id": "d7a97a4f-0430-493c-bc1c-d466f9fced31",
   "metadata": {},
   "outputs": [
    {
     "data": {
      "text/html": [
       "<div>\n",
       "<style scoped>\n",
       "    .dataframe tbody tr th:only-of-type {\n",
       "        vertical-align: middle;\n",
       "    }\n",
       "\n",
       "    .dataframe tbody tr th {\n",
       "        vertical-align: top;\n",
       "    }\n",
       "\n",
       "    .dataframe thead th {\n",
       "        text-align: right;\n",
       "    }\n",
       "</style>\n",
       "<table border=\"1\" class=\"dataframe\">\n",
       "  <thead>\n",
       "    <tr style=\"text-align: right;\">\n",
       "      <th></th>\n",
       "      <th>Unnamed: 0</th>\n",
       "      <th>appid</th>\n",
       "      <th>name</th>\n",
       "      <th>developer</th>\n",
       "      <th>publisher</th>\n",
       "      <th>score_rank</th>\n",
       "      <th>positive</th>\n",
       "      <th>negative</th>\n",
       "      <th>userscore</th>\n",
       "      <th>owners</th>\n",
       "      <th>average_forever</th>\n",
       "      <th>average_2weeks</th>\n",
       "      <th>median_forever</th>\n",
       "      <th>median_2weeks</th>\n",
       "      <th>price</th>\n",
       "      <th>initialprice</th>\n",
       "      <th>discount</th>\n",
       "      <th>ccu</th>\n",
       "    </tr>\n",
       "  </thead>\n",
       "  <tbody>\n",
       "    <tr>\n",
       "      <th>86533</th>\n",
       "      <td>86533</td>\n",
       "      <td>3739280</td>\n",
       "      <td>Nocturne FX</td>\n",
       "      <td>Moutoux Software</td>\n",
       "      <td>Moutoux Software</td>\n",
       "      <td>NaN</td>\n",
       "      <td>1</td>\n",
       "      <td>0</td>\n",
       "      <td>0</td>\n",
       "      <td>0 .. 20,000</td>\n",
       "      <td>0</td>\n",
       "      <td>0</td>\n",
       "      <td>0</td>\n",
       "      <td>0</td>\n",
       "      <td>299.0</td>\n",
       "      <td>299.0</td>\n",
       "      <td>0.0</td>\n",
       "      <td>0</td>\n",
       "    </tr>\n",
       "    <tr>\n",
       "      <th>86534</th>\n",
       "      <td>86534</td>\n",
       "      <td>3740180</td>\n",
       "      <td>To Late_The last room</td>\n",
       "      <td>Varga Gábor</td>\n",
       "      <td>Varga Gábor</td>\n",
       "      <td>NaN</td>\n",
       "      <td>0</td>\n",
       "      <td>1</td>\n",
       "      <td>0</td>\n",
       "      <td>0 .. 20,000</td>\n",
       "      <td>0</td>\n",
       "      <td>0</td>\n",
       "      <td>0</td>\n",
       "      <td>0</td>\n",
       "      <td>299.0</td>\n",
       "      <td>299.0</td>\n",
       "      <td>0.0</td>\n",
       "      <td>0</td>\n",
       "    </tr>\n",
       "    <tr>\n",
       "      <th>86535</th>\n",
       "      <td>86535</td>\n",
       "      <td>3740890</td>\n",
       "      <td>Stray Tekirs</td>\n",
       "      <td>VIBRA</td>\n",
       "      <td>VIBRA</td>\n",
       "      <td>NaN</td>\n",
       "      <td>3</td>\n",
       "      <td>0</td>\n",
       "      <td>0</td>\n",
       "      <td>0 .. 20,000</td>\n",
       "      <td>0</td>\n",
       "      <td>0</td>\n",
       "      <td>0</td>\n",
       "      <td>0</td>\n",
       "      <td>199.0</td>\n",
       "      <td>199.0</td>\n",
       "      <td>0.0</td>\n",
       "      <td>0</td>\n",
       "    </tr>\n",
       "    <tr>\n",
       "      <th>86536</th>\n",
       "      <td>86536</td>\n",
       "      <td>3743620</td>\n",
       "      <td>Chill Train - Densha no kuni</td>\n",
       "      <td>Judox Studio</td>\n",
       "      <td>Judox Studio</td>\n",
       "      <td>NaN</td>\n",
       "      <td>1</td>\n",
       "      <td>0</td>\n",
       "      <td>0</td>\n",
       "      <td>0 .. 20,000</td>\n",
       "      <td>0</td>\n",
       "      <td>0</td>\n",
       "      <td>0</td>\n",
       "      <td>0</td>\n",
       "      <td>599.0</td>\n",
       "      <td>599.0</td>\n",
       "      <td>0.0</td>\n",
       "      <td>0</td>\n",
       "    </tr>\n",
       "    <tr>\n",
       "      <th>86537</th>\n",
       "      <td>86537</td>\n",
       "      <td>3744990</td>\n",
       "      <td>Archipelago Luminary</td>\n",
       "      <td>Gove</td>\n",
       "      <td>Gove</td>\n",
       "      <td>NaN</td>\n",
       "      <td>4</td>\n",
       "      <td>0</td>\n",
       "      <td>0</td>\n",
       "      <td>0 .. 20,000</td>\n",
       "      <td>0</td>\n",
       "      <td>0</td>\n",
       "      <td>0</td>\n",
       "      <td>0</td>\n",
       "      <td>199.0</td>\n",
       "      <td>199.0</td>\n",
       "      <td>0.0</td>\n",
       "      <td>0</td>\n",
       "    </tr>\n",
       "  </tbody>\n",
       "</table>\n",
       "</div>"
      ],
      "text/plain": [
       "       Unnamed: 0    appid                          name         developer  \\\n",
       "86533       86533  3739280                   Nocturne FX  Moutoux Software   \n",
       "86534       86534  3740180         To Late_The last room       Varga Gábor   \n",
       "86535       86535  3740890                  Stray Tekirs             VIBRA   \n",
       "86536       86536  3743620  Chill Train - Densha no kuni      Judox Studio   \n",
       "86537       86537  3744990          Archipelago Luminary              Gove   \n",
       "\n",
       "              publisher  score_rank  positive  negative  userscore  \\\n",
       "86533  Moutoux Software         NaN         1         0          0   \n",
       "86534       Varga Gábor         NaN         0         1          0   \n",
       "86535             VIBRA         NaN         3         0          0   \n",
       "86536      Judox Studio         NaN         1         0          0   \n",
       "86537              Gove         NaN         4         0          0   \n",
       "\n",
       "            owners  average_forever  average_2weeks  median_forever  \\\n",
       "86533  0 .. 20,000                0               0               0   \n",
       "86534  0 .. 20,000                0               0               0   \n",
       "86535  0 .. 20,000                0               0               0   \n",
       "86536  0 .. 20,000                0               0               0   \n",
       "86537  0 .. 20,000                0               0               0   \n",
       "\n",
       "       median_2weeks  price  initialprice  discount  ccu  \n",
       "86533              0  299.0         299.0       0.0    0  \n",
       "86534              0  299.0         299.0       0.0    0  \n",
       "86535              0  199.0         199.0       0.0    0  \n",
       "86536              0  599.0         599.0       0.0    0  \n",
       "86537              0  199.0         199.0       0.0    0  "
      ]
     },
     "execution_count": 4,
     "metadata": {},
     "output_type": "execute_result"
    }
   ],
   "source": [
    "df.tail()"
   ]
  },
  {
   "cell_type": "markdown",
   "id": "8838bf45-214d-4f9c-a497-a81657586871",
   "metadata": {},
   "source": [
    "### Shape of our dataset"
   ]
  },
  {
   "cell_type": "code",
   "execution_count": 5,
   "id": "f3a8f698-6d15-443d-91fd-03f288f02e85",
   "metadata": {},
   "outputs": [
    {
     "data": {
      "text/plain": [
       "(86538, 18)"
      ]
     },
     "execution_count": 5,
     "metadata": {},
     "output_type": "execute_result"
    }
   ],
   "source": [
    "df.shape"
   ]
  },
  {
   "cell_type": "markdown",
   "id": "04fd460c-e6bc-48fe-9698-1486bd9a5017",
   "metadata": {},
   "source": [
    "### List out all columns"
   ]
  },
  {
   "cell_type": "code",
   "execution_count": 6,
   "id": "4c352794-be0e-4d11-ae2c-ba01a4ad3336",
   "metadata": {},
   "outputs": [
    {
     "data": {
      "text/plain": [
       "Index(['Unnamed: 0', 'appid', 'name', 'developer', 'publisher', 'score_rank',\n",
       "       'positive', 'negative', 'userscore', 'owners', 'average_forever',\n",
       "       'average_2weeks', 'median_forever', 'median_2weeks', 'price',\n",
       "       'initialprice', 'discount', 'ccu'],\n",
       "      dtype='object')"
      ]
     },
     "execution_count": 6,
     "metadata": {},
     "output_type": "execute_result"
    }
   ],
   "source": [
    "df.columns"
   ]
  },
  {
   "cell_type": "markdown",
   "id": "57f7b363-ecda-4f36-8fed-4fa9abd6456b",
   "metadata": {},
   "source": [
    "### Datatype of each columns"
   ]
  },
  {
   "cell_type": "code",
   "execution_count": 7,
   "id": "d41e5a25-ec6e-429d-ab88-f97f498f5009",
   "metadata": {},
   "outputs": [
    {
     "data": {
      "text/plain": [
       "Unnamed: 0           int64\n",
       "appid                int64\n",
       "name                object\n",
       "developer           object\n",
       "publisher           object\n",
       "score_rank         float64\n",
       "positive             int64\n",
       "negative             int64\n",
       "userscore            int64\n",
       "owners              object\n",
       "average_forever      int64\n",
       "average_2weeks       int64\n",
       "median_forever       int64\n",
       "median_2weeks        int64\n",
       "price              float64\n",
       "initialprice       float64\n",
       "discount           float64\n",
       "ccu                  int64\n",
       "dtype: object"
      ]
     },
     "execution_count": 7,
     "metadata": {},
     "output_type": "execute_result"
    }
   ],
   "source": [
    "df.dtypes"
   ]
  },
  {
   "cell_type": "markdown",
   "id": "9f6dac86-b49b-45c2-9a1f-091e6e7e06f2",
   "metadata": {},
   "source": [
    "### Information of all Columns"
   ]
  },
  {
   "cell_type": "code",
   "execution_count": 8,
   "id": "6c7df4d5-dee8-4cac-8b42-4a54adbd582c",
   "metadata": {},
   "outputs": [
    {
     "name": "stdout",
     "output_type": "stream",
     "text": [
      "<class 'pandas.core.frame.DataFrame'>\n",
      "RangeIndex: 86538 entries, 0 to 86537\n",
      "Data columns (total 18 columns):\n",
      " #   Column           Non-Null Count  Dtype  \n",
      "---  ------           --------------  -----  \n",
      " 0   Unnamed: 0       86538 non-null  int64  \n",
      " 1   appid            86538 non-null  int64  \n",
      " 2   name             86520 non-null  object \n",
      " 3   developer        86227 non-null  object \n",
      " 4   publisher        85924 non-null  object \n",
      " 5   score_rank       47 non-null     float64\n",
      " 6   positive         86538 non-null  int64  \n",
      " 7   negative         86538 non-null  int64  \n",
      " 8   userscore        86538 non-null  int64  \n",
      " 9   owners           86538 non-null  object \n",
      " 10  average_forever  86538 non-null  int64  \n",
      " 11  average_2weeks   86538 non-null  int64  \n",
      " 12  median_forever   86538 non-null  int64  \n",
      " 13  median_2weeks    86538 non-null  int64  \n",
      " 14  price            86510 non-null  float64\n",
      " 15  initialprice     86517 non-null  float64\n",
      " 16  discount         86517 non-null  float64\n",
      " 17  ccu              86538 non-null  int64  \n",
      "dtypes: float64(4), int64(10), object(4)\n",
      "memory usage: 11.9+ MB\n"
     ]
    }
   ],
   "source": [
    "df.info()"
   ]
  },
  {
   "cell_type": "markdown",
   "id": "6f1be223-40cd-4145-84f3-de66da138e4a",
   "metadata": {},
   "source": [
    "### Check Null Value"
   ]
  },
  {
   "cell_type": "code",
   "execution_count": 9,
   "id": "1a92369c-c273-4426-9397-9d32a00237dd",
   "metadata": {},
   "outputs": [
    {
     "data": {
      "text/plain": [
       "Unnamed: 0             0\n",
       "appid                  0\n",
       "name                  18\n",
       "developer            311\n",
       "publisher            614\n",
       "score_rank         86491\n",
       "positive               0\n",
       "negative               0\n",
       "userscore              0\n",
       "owners                 0\n",
       "average_forever        0\n",
       "average_2weeks         0\n",
       "median_forever         0\n",
       "median_2weeks          0\n",
       "price                 28\n",
       "initialprice          21\n",
       "discount              21\n",
       "ccu                    0\n",
       "dtype: int64"
      ]
     },
     "execution_count": 9,
     "metadata": {},
     "output_type": "execute_result"
    }
   ],
   "source": [
    "df.isnull().sum()"
   ]
  },
  {
   "cell_type": "markdown",
   "id": "79264381-63a4-4a3f-8111-e8ece6337d11",
   "metadata": {},
   "source": [
    "### Handle Null value, Replace with Mean"
   ]
  },
  {
   "cell_type": "code",
   "execution_count": 10,
   "id": "b8fa1f6f-76a5-4e68-b093-95f5174628a5",
   "metadata": {},
   "outputs": [
    {
     "data": {
      "text/plain": [
       "Unnamed: 0             0\n",
       "appid                  0\n",
       "name                  18\n",
       "developer            311\n",
       "publisher            614\n",
       "score_rank         86491\n",
       "positive               0\n",
       "negative               0\n",
       "userscore              0\n",
       "owners                 0\n",
       "average_forever        0\n",
       "average_2weeks         0\n",
       "median_forever         0\n",
       "median_2weeks          0\n",
       "price                  0\n",
       "initialprice           0\n",
       "discount               0\n",
       "ccu                    0\n",
       "dtype: int64"
      ]
     },
     "execution_count": 10,
     "metadata": {},
     "output_type": "execute_result"
    }
   ],
   "source": [
    "df['price'] = df['price'].fillna(df['price'].mean())\n",
    "df['initialprice'] = df['initialprice'].fillna(df['initialprice'].mean())\n",
    "df['discount'] = df['discount'].fillna(df['discount'].mean())\n",
    "\n",
    "df.isnull().sum()"
   ]
  },
  {
   "cell_type": "markdown",
   "id": "7bccfe36-446c-4224-b9ce-1e4f4d9fa898",
   "metadata": {},
   "source": [
    "### Check Duplicate Value"
   ]
  },
  {
   "cell_type": "code",
   "execution_count": 11,
   "id": "8974fb81-53de-4d65-a3de-2fc6970b9eb3",
   "metadata": {},
   "outputs": [
    {
     "data": {
      "text/plain": [
       "np.int64(0)"
      ]
     },
     "execution_count": 11,
     "metadata": {},
     "output_type": "execute_result"
    }
   ],
   "source": [
    "df.duplicated().sum()"
   ]
  },
  {
   "cell_type": "markdown",
   "id": "a2406355-8c61-41e0-968d-269f70613337",
   "metadata": {},
   "source": [
    "### summary of the dataset"
   ]
  },
  {
   "cell_type": "code",
   "execution_count": 12,
   "id": "96710285-4427-4930-bfb9-beee1b4c151b",
   "metadata": {},
   "outputs": [
    {
     "data": {
      "text/html": [
       "<div>\n",
       "<style scoped>\n",
       "    .dataframe tbody tr th:only-of-type {\n",
       "        vertical-align: middle;\n",
       "    }\n",
       "\n",
       "    .dataframe tbody tr th {\n",
       "        vertical-align: top;\n",
       "    }\n",
       "\n",
       "    .dataframe thead th {\n",
       "        text-align: right;\n",
       "    }\n",
       "</style>\n",
       "<table border=\"1\" class=\"dataframe\">\n",
       "  <thead>\n",
       "    <tr style=\"text-align: right;\">\n",
       "      <th></th>\n",
       "      <th>Unnamed: 0</th>\n",
       "      <th>appid</th>\n",
       "      <th>score_rank</th>\n",
       "      <th>positive</th>\n",
       "      <th>negative</th>\n",
       "      <th>userscore</th>\n",
       "      <th>average_forever</th>\n",
       "      <th>average_2weeks</th>\n",
       "      <th>median_forever</th>\n",
       "      <th>median_2weeks</th>\n",
       "      <th>price</th>\n",
       "      <th>initialprice</th>\n",
       "      <th>discount</th>\n",
       "      <th>ccu</th>\n",
       "    </tr>\n",
       "  </thead>\n",
       "  <tbody>\n",
       "    <tr>\n",
       "      <th>count</th>\n",
       "      <td>86538.000000</td>\n",
       "      <td>8.653800e+04</td>\n",
       "      <td>47.000000</td>\n",
       "      <td>8.653800e+04</td>\n",
       "      <td>8.653800e+04</td>\n",
       "      <td>86538.000000</td>\n",
       "      <td>86538.000000</td>\n",
       "      <td>86538.000000</td>\n",
       "      <td>86538.000000</td>\n",
       "      <td>86538.000000</td>\n",
       "      <td>86538.000000</td>\n",
       "      <td>86538.000000</td>\n",
       "      <td>86538.000000</td>\n",
       "      <td>8.653800e+04</td>\n",
       "    </tr>\n",
       "    <tr>\n",
       "      <th>mean</th>\n",
       "      <td>43268.500000</td>\n",
       "      <td>1.527852e+06</td>\n",
       "      <td>99.234043</td>\n",
       "      <td>1.470320e+03</td>\n",
       "      <td>2.420893e+02</td>\n",
       "      <td>0.041542</td>\n",
       "      <td>235.661744</td>\n",
       "      <td>15.183838</td>\n",
       "      <td>195.835240</td>\n",
       "      <td>16.144769</td>\n",
       "      <td>753.596498</td>\n",
       "      <td>825.954992</td>\n",
       "      <td>5.349515</td>\n",
       "      <td>6.653134e+01</td>\n",
       "    </tr>\n",
       "    <tr>\n",
       "      <th>std</th>\n",
       "      <td>24981.513135</td>\n",
       "      <td>9.050357e+05</td>\n",
       "      <td>0.666358</td>\n",
       "      <td>3.264757e+04</td>\n",
       "      <td>6.194164e+03</td>\n",
       "      <td>1.827883</td>\n",
       "      <td>3034.440614</td>\n",
       "      <td>242.108848</td>\n",
       "      <td>3176.814575</td>\n",
       "      <td>260.329724</td>\n",
       "      <td>1275.627140</td>\n",
       "      <td>1340.945271</td>\n",
       "      <td>18.024946</td>\n",
       "      <td>3.841239e+03</td>\n",
       "    </tr>\n",
       "    <tr>\n",
       "      <th>min</th>\n",
       "      <td>0.000000</td>\n",
       "      <td>1.000000e+01</td>\n",
       "      <td>98.000000</td>\n",
       "      <td>0.000000e+00</td>\n",
       "      <td>0.000000e+00</td>\n",
       "      <td>0.000000</td>\n",
       "      <td>0.000000</td>\n",
       "      <td>0.000000</td>\n",
       "      <td>0.000000</td>\n",
       "      <td>0.000000</td>\n",
       "      <td>0.000000</td>\n",
       "      <td>0.000000</td>\n",
       "      <td>0.000000</td>\n",
       "      <td>0.000000e+00</td>\n",
       "    </tr>\n",
       "    <tr>\n",
       "      <th>25%</th>\n",
       "      <td>21634.250000</td>\n",
       "      <td>7.768450e+05</td>\n",
       "      <td>99.000000</td>\n",
       "      <td>5.000000e+00</td>\n",
       "      <td>1.000000e+00</td>\n",
       "      <td>0.000000</td>\n",
       "      <td>0.000000</td>\n",
       "      <td>0.000000</td>\n",
       "      <td>0.000000</td>\n",
       "      <td>0.000000</td>\n",
       "      <td>149.000000</td>\n",
       "      <td>199.000000</td>\n",
       "      <td>0.000000</td>\n",
       "      <td>0.000000e+00</td>\n",
       "    </tr>\n",
       "    <tr>\n",
       "      <th>50%</th>\n",
       "      <td>43268.500000</td>\n",
       "      <td>1.380895e+06</td>\n",
       "      <td>99.000000</td>\n",
       "      <td>1.800000e+01</td>\n",
       "      <td>5.000000e+00</td>\n",
       "      <td>0.000000</td>\n",
       "      <td>0.000000</td>\n",
       "      <td>0.000000</td>\n",
       "      <td>0.000000</td>\n",
       "      <td>0.000000</td>\n",
       "      <td>499.000000</td>\n",
       "      <td>499.000000</td>\n",
       "      <td>0.000000</td>\n",
       "      <td>0.000000e+00</td>\n",
       "    </tr>\n",
       "    <tr>\n",
       "      <th>75%</th>\n",
       "      <td>64902.750000</td>\n",
       "      <td>2.207388e+06</td>\n",
       "      <td>100.000000</td>\n",
       "      <td>9.700000e+01</td>\n",
       "      <td>2.700000e+01</td>\n",
       "      <td>0.000000</td>\n",
       "      <td>77.000000</td>\n",
       "      <td>0.000000</td>\n",
       "      <td>64.000000</td>\n",
       "      <td>0.000000</td>\n",
       "      <td>999.000000</td>\n",
       "      <td>999.000000</td>\n",
       "      <td>0.000000</td>\n",
       "      <td>0.000000e+00</td>\n",
       "    </tr>\n",
       "    <tr>\n",
       "      <th>max</th>\n",
       "      <td>86537.000000</td>\n",
       "      <td>3.744990e+06</td>\n",
       "      <td>100.000000</td>\n",
       "      <td>7.642084e+06</td>\n",
       "      <td>1.173003e+06</td>\n",
       "      <td>100.000000</td>\n",
       "      <td>608013.000000</td>\n",
       "      <td>19953.000000</td>\n",
       "      <td>608015.000000</td>\n",
       "      <td>19953.000000</td>\n",
       "      <td>99998.000000</td>\n",
       "      <td>99998.000000</td>\n",
       "      <td>100.000000</td>\n",
       "      <td>1.013936e+06</td>\n",
       "    </tr>\n",
       "  </tbody>\n",
       "</table>\n",
       "</div>"
      ],
      "text/plain": [
       "         Unnamed: 0         appid  score_rank      positive      negative  \\\n",
       "count  86538.000000  8.653800e+04   47.000000  8.653800e+04  8.653800e+04   \n",
       "mean   43268.500000  1.527852e+06   99.234043  1.470320e+03  2.420893e+02   \n",
       "std    24981.513135  9.050357e+05    0.666358  3.264757e+04  6.194164e+03   \n",
       "min        0.000000  1.000000e+01   98.000000  0.000000e+00  0.000000e+00   \n",
       "25%    21634.250000  7.768450e+05   99.000000  5.000000e+00  1.000000e+00   \n",
       "50%    43268.500000  1.380895e+06   99.000000  1.800000e+01  5.000000e+00   \n",
       "75%    64902.750000  2.207388e+06  100.000000  9.700000e+01  2.700000e+01   \n",
       "max    86537.000000  3.744990e+06  100.000000  7.642084e+06  1.173003e+06   \n",
       "\n",
       "          userscore  average_forever  average_2weeks  median_forever  \\\n",
       "count  86538.000000     86538.000000    86538.000000    86538.000000   \n",
       "mean       0.041542       235.661744       15.183838      195.835240   \n",
       "std        1.827883      3034.440614      242.108848     3176.814575   \n",
       "min        0.000000         0.000000        0.000000        0.000000   \n",
       "25%        0.000000         0.000000        0.000000        0.000000   \n",
       "50%        0.000000         0.000000        0.000000        0.000000   \n",
       "75%        0.000000        77.000000        0.000000       64.000000   \n",
       "max      100.000000    608013.000000    19953.000000   608015.000000   \n",
       "\n",
       "       median_2weeks         price  initialprice      discount           ccu  \n",
       "count   86538.000000  86538.000000  86538.000000  86538.000000  8.653800e+04  \n",
       "mean       16.144769    753.596498    825.954992      5.349515  6.653134e+01  \n",
       "std       260.329724   1275.627140   1340.945271     18.024946  3.841239e+03  \n",
       "min         0.000000      0.000000      0.000000      0.000000  0.000000e+00  \n",
       "25%         0.000000    149.000000    199.000000      0.000000  0.000000e+00  \n",
       "50%         0.000000    499.000000    499.000000      0.000000  0.000000e+00  \n",
       "75%         0.000000    999.000000    999.000000      0.000000  0.000000e+00  \n",
       "max     19953.000000  99998.000000  99998.000000    100.000000  1.013936e+06  "
      ]
     },
     "execution_count": 12,
     "metadata": {},
     "output_type": "execute_result"
    }
   ],
   "source": [
    "df.describe()"
   ]
  }
 ],
 "metadata": {
  "kernelspec": {
   "display_name": "Python 3 (ipykernel)",
   "language": "python",
   "name": "python3"
  },
  "language_info": {
   "codemirror_mode": {
    "name": "ipython",
    "version": 3
   },
   "file_extension": ".py",
   "mimetype": "text/x-python",
   "name": "python",
   "nbconvert_exporter": "python",
   "pygments_lexer": "ipython3",
   "version": "3.13.3"
  }
 },
 "nbformat": 4,
 "nbformat_minor": 5
}
