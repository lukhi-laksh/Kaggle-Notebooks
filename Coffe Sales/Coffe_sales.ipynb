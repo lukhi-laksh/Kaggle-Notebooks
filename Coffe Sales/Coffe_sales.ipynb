{
 "cells": [
  {
   "cell_type": "markdown",
   "id": "1a42a1e7-2ed4-4cc6-a266-cf032ec4cd52",
   "metadata": {},
   "source": [
    "# 📊 Dataset Information\n",
    "\n",
    "**Note:** The dataset for this project is **not included in this repository** to keep the repository lightweight.  \n",
    "\n",
    "You can download the dataset from **Kaggle** using the link below:  \n",
    "\n",
    "[Download the Coffe sales Dataset](https://www.kaggle.com/datasets/sidraaazam/coffee-sales-insights-report/data)  \n",
    "\n",
    "Please make sure to place the downloaded CSV file in the same directory as this notebook before running any code.\n"
   ]
  },
  {
   "cell_type": "markdown",
   "id": "972cec0f-ca12-4700-97cf-bd49e2b83436",
   "metadata": {},
   "source": [
    "# Import Librarys"
   ]
  },
  {
   "cell_type": "code",
   "execution_count": null,
   "id": "f46dc0a1-2f67-4ef3-b34f-ada5f86fe905",
   "metadata": {},
   "outputs": [],
   "source": [
    "import pandas as pd\n",
    "import numpy as np\n",
    "import matplotlib.pyplot as plt\n",
    "import seaborn as sns"
   ]
  },
  {
   "cell_type": "markdown",
   "id": "dd686407-c68b-4988-a819-5310ed2b86a4",
   "metadata": {},
   "source": [
    "# Import CSV file"
   ]
  },
  {
   "cell_type": "code",
   "execution_count": null,
   "id": "5b69f5d6-144a-49c5-8ff0-0fd4155befdf",
   "metadata": {},
   "outputs": [],
   "source": [
    "df = pd.read_csv('Demon Slayer.csv')\n",
    "df"
   ]
  },
  {
   "cell_type": "markdown",
   "id": "4cf76e55-871e-4f9c-a185-7c089f378e90",
   "metadata": {},
   "source": [
    "# Preprocessing"
   ]
  },
  {
   "cell_type": "markdown",
   "id": "9cab4e8c-bcf0-4c47-a049-b22851e7777e",
   "metadata": {},
   "source": [
    "## Details of Dataset"
   ]
  },
  {
   "cell_type": "markdown",
   "id": "a39fd6b7-3c6c-46fb-9be6-e75c6805e11d",
   "metadata": {},
   "source": [
    "### Frist five row"
   ]
  },
  {
   "cell_type": "code",
   "execution_count": null,
   "id": "97bab31e-b727-44d1-a1df-897c5086a09c",
   "metadata": {},
   "outputs": [],
   "source": [
    "df.head()"
   ]
  },
  {
   "cell_type": "markdown",
   "id": "33b17da8-b037-4551-94f9-a27e929acc9a",
   "metadata": {},
   "source": [
    "### last Five row"
   ]
  },
  {
   "cell_type": "code",
   "execution_count": null,
   "id": "23775676-e070-45e3-b666-3c84162616fa",
   "metadata": {},
   "outputs": [],
   "source": [
    "df.tail()"
   ]
  },
  {
   "cell_type": "markdown",
   "id": "025a30d0-fb23-4190-b019-0826c5d017cf",
   "metadata": {},
   "source": [
    "### Shape of our dataset"
   ]
  },
  {
   "cell_type": "code",
   "execution_count": null,
   "id": "a64f7d8a-9025-406a-85c0-c68cf1811370",
   "metadata": {},
   "outputs": [],
   "source": [
    "df.shape"
   ]
  },
  {
   "cell_type": "markdown",
   "id": "5c765d1f-cc8a-47cd-9654-f726054c957a",
   "metadata": {},
   "source": [
    "### List out all columns"
   ]
  },
  {
   "cell_type": "code",
   "execution_count": null,
   "id": "77cfbed4-4c39-416b-88bb-1e804f2f3282",
   "metadata": {},
   "outputs": [],
   "source": [
    "df.columns"
   ]
  },
  {
   "cell_type": "markdown",
   "id": "578fa260-dbad-4c70-9cab-409d012a355c",
   "metadata": {},
   "source": [
    "### Datatype of each columns"
   ]
  },
  {
   "cell_type": "code",
   "execution_count": null,
   "id": "29038462-1dce-4d4b-b4f3-0dea85b9f224",
   "metadata": {},
   "outputs": [],
   "source": [
    "df.dtypes"
   ]
  },
  {
   "cell_type": "markdown",
   "id": "157d1a3d-d70c-40db-aba8-e65077e373f0",
   "metadata": {},
   "source": [
    "### Information of all Columns"
   ]
  },
  {
   "cell_type": "code",
   "execution_count": null,
   "id": "650051b4-e3c6-4a59-bf06-74f60b2fe175",
   "metadata": {},
   "outputs": [],
   "source": [
    "df.info()"
   ]
  },
  {
   "cell_type": "markdown",
   "id": "5ffd49ce-d4d0-45e8-aca6-a897c555cea7",
   "metadata": {},
   "source": [
    "### Check Null Value"
   ]
  },
  {
   "cell_type": "code",
   "execution_count": null,
   "id": "d2c62395-984f-41a2-a134-b8df8384fbf5",
   "metadata": {},
   "outputs": [],
   "source": [
    "df.isnull().sum()"
   ]
  },
  {
   "cell_type": "code",
   "execution_count": null,
   "id": "b7e5308b-09e7-4f66-8c6f-ec15663e71a0",
   "metadata": {},
   "outputs": [],
   "source": []
  },
  {
   "cell_type": "code",
   "execution_count": null,
   "id": "d6c37282-7ea8-4da4-b184-526e225c7fa1",
   "metadata": {},
   "outputs": [],
   "source": []
  },
  {
   "cell_type": "code",
   "execution_count": null,
   "id": "61b4ce15-b2d5-4ac6-8fc5-9030395fb949",
   "metadata": {},
   "outputs": [],
   "source": []
  }
 ],
 "metadata": {
  "kernelspec": {
   "display_name": "Python 3 (ipykernel)",
   "language": "python",
   "name": "python3"
  },
  "language_info": {
   "codemirror_mode": {
    "name": "ipython",
    "version": 3
   },
   "file_extension": ".py",
   "mimetype": "text/x-python",
   "name": "python",
   "nbconvert_exporter": "python",
   "pygments_lexer": "ipython3",
   "version": "3.13.3"
  }
 },
 "nbformat": 4,
 "nbformat_minor": 5
}
