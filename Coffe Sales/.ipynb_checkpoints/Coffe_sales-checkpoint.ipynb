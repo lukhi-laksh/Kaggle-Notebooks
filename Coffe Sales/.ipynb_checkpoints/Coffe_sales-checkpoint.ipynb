{
 "cells": [
  {
   "cell_type": "markdown",
   "id": "1a42a1e7-2ed4-4cc6-a266-cf032ec4cd52",
   "metadata": {},
   "source": [
    "# 📊 Dataset Information\n",
    "\n",
    "**Note:** The dataset for this project is **not included in this repository** to keep the repository lightweight.  \n",
    "\n",
    "You can download the dataset from **Kaggle** using the link below:  \n",
    "\n",
    "[Download the Coffe sales Dataset](https://www.kaggle.com/datasets/sidraaazam/coffee-sales-insights-report/data)  \n",
    "\n",
    "Please make sure to place the downloaded CSV file in the same directory as this notebook before running any code.\n"
   ]
  },
  {
   "cell_type": "markdown",
   "id": "168e7ea7-73b9-4f32-a622-ccff7e5fe25c",
   "metadata": {},
   "source": [
    "# Importnig"
   ]
  },
  {
   "cell_type": "markdown",
   "id": "972cec0f-ca12-4700-97cf-bd49e2b83436",
   "metadata": {},
   "source": [
    "## Import Librarys"
   ]
  },
  {
   "cell_type": "code",
   "execution_count": 1,
   "id": "f46dc0a1-2f67-4ef3-b34f-ada5f86fe905",
   "metadata": {},
   "outputs": [],
   "source": [
    "import pandas as pd\n",
    "import numpy as np\n",
    "import matplotlib.pyplot as plt\n",
    "import seaborn as sns"
   ]
  },
  {
   "cell_type": "markdown",
   "id": "dd686407-c68b-4988-a819-5310ed2b86a4",
   "metadata": {},
   "source": [
    "## Import CSV file"
   ]
  },
  {
   "cell_type": "code",
   "execution_count": 2,
   "id": "5b69f5d6-144a-49c5-8ff0-0fd4155befdf",
   "metadata": {},
   "outputs": [],
   "source": [
    "df = pd.read_csv('Coffe_sales.csv')"
   ]
  },
  {
   "cell_type": "markdown",
   "id": "4cf76e55-871e-4f9c-a185-7c089f378e90",
   "metadata": {},
   "source": [
    "# Preprocessing"
   ]
  },
  {
   "cell_type": "markdown",
   "id": "9cab4e8c-bcf0-4c47-a049-b22851e7777e",
   "metadata": {},
   "source": [
    "## Details of Dataset"
   ]
  },
  {
   "cell_type": "markdown",
   "id": "a39fd6b7-3c6c-46fb-9be6-e75c6805e11d",
   "metadata": {},
   "source": [
    "### Frist five row"
   ]
  },
  {
   "cell_type": "code",
   "execution_count": 3,
   "id": "97bab31e-b727-44d1-a1df-897c5086a09c",
   "metadata": {},
   "outputs": [
    {
     "data": {
      "text/html": [
       "<div>\n",
       "<style scoped>\n",
       "    .dataframe tbody tr th:only-of-type {\n",
       "        vertical-align: middle;\n",
       "    }\n",
       "\n",
       "    .dataframe tbody tr th {\n",
       "        vertical-align: top;\n",
       "    }\n",
       "\n",
       "    .dataframe thead th {\n",
       "        text-align: right;\n",
       "    }\n",
       "</style>\n",
       "<table border=\"1\" class=\"dataframe\">\n",
       "  <thead>\n",
       "    <tr style=\"text-align: right;\">\n",
       "      <th></th>\n",
       "      <th>hour_of_day</th>\n",
       "      <th>cash_type</th>\n",
       "      <th>money</th>\n",
       "      <th>coffee_name</th>\n",
       "      <th>Time_of_Day</th>\n",
       "      <th>Weekday</th>\n",
       "      <th>Month_name</th>\n",
       "      <th>Weekdaysort</th>\n",
       "      <th>Monthsort</th>\n",
       "      <th>Date</th>\n",
       "      <th>Time</th>\n",
       "    </tr>\n",
       "  </thead>\n",
       "  <tbody>\n",
       "    <tr>\n",
       "      <th>0</th>\n",
       "      <td>10</td>\n",
       "      <td>card</td>\n",
       "      <td>38.7</td>\n",
       "      <td>Latte</td>\n",
       "      <td>Morning</td>\n",
       "      <td>Fri</td>\n",
       "      <td>Mar</td>\n",
       "      <td>5</td>\n",
       "      <td>3</td>\n",
       "      <td>2024-03-01</td>\n",
       "      <td>10:15:50.520000</td>\n",
       "    </tr>\n",
       "    <tr>\n",
       "      <th>1</th>\n",
       "      <td>12</td>\n",
       "      <td>card</td>\n",
       "      <td>38.7</td>\n",
       "      <td>Hot Chocolate</td>\n",
       "      <td>Afternoon</td>\n",
       "      <td>Fri</td>\n",
       "      <td>Mar</td>\n",
       "      <td>5</td>\n",
       "      <td>3</td>\n",
       "      <td>2024-03-01</td>\n",
       "      <td>12:19:22.539000</td>\n",
       "    </tr>\n",
       "    <tr>\n",
       "      <th>2</th>\n",
       "      <td>12</td>\n",
       "      <td>card</td>\n",
       "      <td>38.7</td>\n",
       "      <td>Hot Chocolate</td>\n",
       "      <td>Afternoon</td>\n",
       "      <td>Fri</td>\n",
       "      <td>Mar</td>\n",
       "      <td>5</td>\n",
       "      <td>3</td>\n",
       "      <td>2024-03-01</td>\n",
       "      <td>12:20:18.089000</td>\n",
       "    </tr>\n",
       "    <tr>\n",
       "      <th>3</th>\n",
       "      <td>13</td>\n",
       "      <td>card</td>\n",
       "      <td>28.9</td>\n",
       "      <td>Americano</td>\n",
       "      <td>Afternoon</td>\n",
       "      <td>Fri</td>\n",
       "      <td>Mar</td>\n",
       "      <td>5</td>\n",
       "      <td>3</td>\n",
       "      <td>2024-03-01</td>\n",
       "      <td>13:46:33.006000</td>\n",
       "    </tr>\n",
       "    <tr>\n",
       "      <th>4</th>\n",
       "      <td>13</td>\n",
       "      <td>card</td>\n",
       "      <td>38.7</td>\n",
       "      <td>Latte</td>\n",
       "      <td>Afternoon</td>\n",
       "      <td>Fri</td>\n",
       "      <td>Mar</td>\n",
       "      <td>5</td>\n",
       "      <td>3</td>\n",
       "      <td>2024-03-01</td>\n",
       "      <td>13:48:14.626000</td>\n",
       "    </tr>\n",
       "  </tbody>\n",
       "</table>\n",
       "</div>"
      ],
      "text/plain": [
       "   hour_of_day cash_type  money    coffee_name Time_of_Day Weekday Month_name  \\\n",
       "0           10      card   38.7          Latte     Morning     Fri        Mar   \n",
       "1           12      card   38.7  Hot Chocolate   Afternoon     Fri        Mar   \n",
       "2           12      card   38.7  Hot Chocolate   Afternoon     Fri        Mar   \n",
       "3           13      card   28.9      Americano   Afternoon     Fri        Mar   \n",
       "4           13      card   38.7          Latte   Afternoon     Fri        Mar   \n",
       "\n",
       "   Weekdaysort  Monthsort        Date             Time  \n",
       "0            5          3  2024-03-01  10:15:50.520000  \n",
       "1            5          3  2024-03-01  12:19:22.539000  \n",
       "2            5          3  2024-03-01  12:20:18.089000  \n",
       "3            5          3  2024-03-01  13:46:33.006000  \n",
       "4            5          3  2024-03-01  13:48:14.626000  "
      ]
     },
     "execution_count": 3,
     "metadata": {},
     "output_type": "execute_result"
    }
   ],
   "source": [
    "df.head()"
   ]
  },
  {
   "cell_type": "markdown",
   "id": "33b17da8-b037-4551-94f9-a27e929acc9a",
   "metadata": {},
   "source": [
    "### last Five row"
   ]
  },
  {
   "cell_type": "code",
   "execution_count": 4,
   "id": "23775676-e070-45e3-b666-3c84162616fa",
   "metadata": {},
   "outputs": [
    {
     "data": {
      "text/html": [
       "<div>\n",
       "<style scoped>\n",
       "    .dataframe tbody tr th:only-of-type {\n",
       "        vertical-align: middle;\n",
       "    }\n",
       "\n",
       "    .dataframe tbody tr th {\n",
       "        vertical-align: top;\n",
       "    }\n",
       "\n",
       "    .dataframe thead th {\n",
       "        text-align: right;\n",
       "    }\n",
       "</style>\n",
       "<table border=\"1\" class=\"dataframe\">\n",
       "  <thead>\n",
       "    <tr style=\"text-align: right;\">\n",
       "      <th></th>\n",
       "      <th>hour_of_day</th>\n",
       "      <th>cash_type</th>\n",
       "      <th>money</th>\n",
       "      <th>coffee_name</th>\n",
       "      <th>Time_of_Day</th>\n",
       "      <th>Weekday</th>\n",
       "      <th>Month_name</th>\n",
       "      <th>Weekdaysort</th>\n",
       "      <th>Monthsort</th>\n",
       "      <th>Date</th>\n",
       "      <th>Time</th>\n",
       "    </tr>\n",
       "  </thead>\n",
       "  <tbody>\n",
       "    <tr>\n",
       "      <th>3542</th>\n",
       "      <td>10</td>\n",
       "      <td>card</td>\n",
       "      <td>35.76</td>\n",
       "      <td>Cappuccino</td>\n",
       "      <td>Morning</td>\n",
       "      <td>Sun</td>\n",
       "      <td>Mar</td>\n",
       "      <td>7</td>\n",
       "      <td>3</td>\n",
       "      <td>2025-03-23</td>\n",
       "      <td>10:34:54.894000</td>\n",
       "    </tr>\n",
       "    <tr>\n",
       "      <th>3543</th>\n",
       "      <td>14</td>\n",
       "      <td>card</td>\n",
       "      <td>35.76</td>\n",
       "      <td>Cocoa</td>\n",
       "      <td>Afternoon</td>\n",
       "      <td>Sun</td>\n",
       "      <td>Mar</td>\n",
       "      <td>7</td>\n",
       "      <td>3</td>\n",
       "      <td>2025-03-23</td>\n",
       "      <td>14:43:37.362000</td>\n",
       "    </tr>\n",
       "    <tr>\n",
       "      <th>3544</th>\n",
       "      <td>14</td>\n",
       "      <td>card</td>\n",
       "      <td>35.76</td>\n",
       "      <td>Cocoa</td>\n",
       "      <td>Afternoon</td>\n",
       "      <td>Sun</td>\n",
       "      <td>Mar</td>\n",
       "      <td>7</td>\n",
       "      <td>3</td>\n",
       "      <td>2025-03-23</td>\n",
       "      <td>14:44:16.864000</td>\n",
       "    </tr>\n",
       "    <tr>\n",
       "      <th>3545</th>\n",
       "      <td>15</td>\n",
       "      <td>card</td>\n",
       "      <td>25.96</td>\n",
       "      <td>Americano</td>\n",
       "      <td>Afternoon</td>\n",
       "      <td>Sun</td>\n",
       "      <td>Mar</td>\n",
       "      <td>7</td>\n",
       "      <td>3</td>\n",
       "      <td>2025-03-23</td>\n",
       "      <td>15:47:28.723000</td>\n",
       "    </tr>\n",
       "    <tr>\n",
       "      <th>3546</th>\n",
       "      <td>18</td>\n",
       "      <td>card</td>\n",
       "      <td>35.76</td>\n",
       "      <td>Latte</td>\n",
       "      <td>Night</td>\n",
       "      <td>Sun</td>\n",
       "      <td>Mar</td>\n",
       "      <td>7</td>\n",
       "      <td>3</td>\n",
       "      <td>2025-03-23</td>\n",
       "      <td>18:11:38.635000</td>\n",
       "    </tr>\n",
       "  </tbody>\n",
       "</table>\n",
       "</div>"
      ],
      "text/plain": [
       "      hour_of_day cash_type  money coffee_name Time_of_Day Weekday Month_name  \\\n",
       "3542           10      card  35.76  Cappuccino     Morning     Sun        Mar   \n",
       "3543           14      card  35.76       Cocoa   Afternoon     Sun        Mar   \n",
       "3544           14      card  35.76       Cocoa   Afternoon     Sun        Mar   \n",
       "3545           15      card  25.96   Americano   Afternoon     Sun        Mar   \n",
       "3546           18      card  35.76       Latte       Night     Sun        Mar   \n",
       "\n",
       "      Weekdaysort  Monthsort        Date             Time  \n",
       "3542            7          3  2025-03-23  10:34:54.894000  \n",
       "3543            7          3  2025-03-23  14:43:37.362000  \n",
       "3544            7          3  2025-03-23  14:44:16.864000  \n",
       "3545            7          3  2025-03-23  15:47:28.723000  \n",
       "3546            7          3  2025-03-23  18:11:38.635000  "
      ]
     },
     "execution_count": 4,
     "metadata": {},
     "output_type": "execute_result"
    }
   ],
   "source": [
    "df.tail()"
   ]
  },
  {
   "cell_type": "markdown",
   "id": "025a30d0-fb23-4190-b019-0826c5d017cf",
   "metadata": {},
   "source": [
    "### Shape of our dataset"
   ]
  },
  {
   "cell_type": "code",
   "execution_count": 5,
   "id": "a64f7d8a-9025-406a-85c0-c68cf1811370",
   "metadata": {},
   "outputs": [
    {
     "data": {
      "text/plain": [
       "(3547, 11)"
      ]
     },
     "execution_count": 5,
     "metadata": {},
     "output_type": "execute_result"
    }
   ],
   "source": [
    "df.shape"
   ]
  },
  {
   "cell_type": "markdown",
   "id": "5c765d1f-cc8a-47cd-9654-f726054c957a",
   "metadata": {},
   "source": [
    "### List out all columns"
   ]
  },
  {
   "cell_type": "code",
   "execution_count": 6,
   "id": "77cfbed4-4c39-416b-88bb-1e804f2f3282",
   "metadata": {},
   "outputs": [
    {
     "data": {
      "text/plain": [
       "Index(['hour_of_day', 'cash_type', 'money', 'coffee_name', 'Time_of_Day',\n",
       "       'Weekday', 'Month_name', 'Weekdaysort', 'Monthsort', 'Date', 'Time'],\n",
       "      dtype='object')"
      ]
     },
     "execution_count": 6,
     "metadata": {},
     "output_type": "execute_result"
    }
   ],
   "source": [
    "df.columns"
   ]
  },
  {
   "cell_type": "markdown",
   "id": "578fa260-dbad-4c70-9cab-409d012a355c",
   "metadata": {},
   "source": [
    "### Datatype of each columns"
   ]
  },
  {
   "cell_type": "code",
   "execution_count": 7,
   "id": "29038462-1dce-4d4b-b4f3-0dea85b9f224",
   "metadata": {},
   "outputs": [
    {
     "data": {
      "text/plain": [
       "hour_of_day      int64\n",
       "cash_type       object\n",
       "money          float64\n",
       "coffee_name     object\n",
       "Time_of_Day     object\n",
       "Weekday         object\n",
       "Month_name      object\n",
       "Weekdaysort      int64\n",
       "Monthsort        int64\n",
       "Date            object\n",
       "Time            object\n",
       "dtype: object"
      ]
     },
     "execution_count": 7,
     "metadata": {},
     "output_type": "execute_result"
    }
   ],
   "source": [
    "df.dtypes"
   ]
  },
  {
   "cell_type": "markdown",
   "id": "157d1a3d-d70c-40db-aba8-e65077e373f0",
   "metadata": {},
   "source": [
    "### Information of all Columns"
   ]
  },
  {
   "cell_type": "code",
   "execution_count": 8,
   "id": "650051b4-e3c6-4a59-bf06-74f60b2fe175",
   "metadata": {},
   "outputs": [
    {
     "name": "stdout",
     "output_type": "stream",
     "text": [
      "<class 'pandas.core.frame.DataFrame'>\n",
      "RangeIndex: 3547 entries, 0 to 3546\n",
      "Data columns (total 11 columns):\n",
      " #   Column       Non-Null Count  Dtype  \n",
      "---  ------       --------------  -----  \n",
      " 0   hour_of_day  3547 non-null   int64  \n",
      " 1   cash_type    3547 non-null   object \n",
      " 2   money        3547 non-null   float64\n",
      " 3   coffee_name  3547 non-null   object \n",
      " 4   Time_of_Day  3547 non-null   object \n",
      " 5   Weekday      3547 non-null   object \n",
      " 6   Month_name   3547 non-null   object \n",
      " 7   Weekdaysort  3547 non-null   int64  \n",
      " 8   Monthsort    3547 non-null   int64  \n",
      " 9   Date         3547 non-null   object \n",
      " 10  Time         3547 non-null   object \n",
      "dtypes: float64(1), int64(3), object(7)\n",
      "memory usage: 304.9+ KB\n"
     ]
    }
   ],
   "source": [
    "df.info()"
   ]
  },
  {
   "cell_type": "markdown",
   "id": "5ffd49ce-d4d0-45e8-aca6-a897c555cea7",
   "metadata": {},
   "source": [
    "### Check Null Value"
   ]
  },
  {
   "cell_type": "code",
   "execution_count": 9,
   "id": "d2c62395-984f-41a2-a134-b8df8384fbf5",
   "metadata": {},
   "outputs": [
    {
     "data": {
      "text/plain": [
       "hour_of_day    0\n",
       "cash_type      0\n",
       "money          0\n",
       "coffee_name    0\n",
       "Time_of_Day    0\n",
       "Weekday        0\n",
       "Month_name     0\n",
       "Weekdaysort    0\n",
       "Monthsort      0\n",
       "Date           0\n",
       "Time           0\n",
       "dtype: int64"
      ]
     },
     "execution_count": 9,
     "metadata": {},
     "output_type": "execute_result"
    }
   ],
   "source": [
    "df.isnull().sum()"
   ]
  },
  {
   "cell_type": "markdown",
   "id": "8a82ef21-7adb-46e9-9b75-a6e0b9715e0a",
   "metadata": {},
   "source": [
    "# EDA"
   ]
  },
  {
   "cell_type": "markdown",
   "id": "d7874c43-f5df-44fe-9f0a-72ff6db138d6",
   "metadata": {},
   "source": [
    "## Univariate"
   ]
  }
 ],
 "metadata": {
  "kernelspec": {
   "display_name": "Python 3 (ipykernel)",
   "language": "python",
   "name": "python3"
  },
  "language_info": {
   "codemirror_mode": {
    "name": "ipython",
    "version": 3
   },
   "file_extension": ".py",
   "mimetype": "text/x-python",
   "name": "python",
   "nbconvert_exporter": "python",
   "pygments_lexer": "ipython3",
   "version": "3.13.3"
  }
 },
 "nbformat": 4,
 "nbformat_minor": 5
}
