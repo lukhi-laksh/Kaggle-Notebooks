{
 "cells": [
  {
   "cell_type": "markdown",
   "id": "0826db94-cfa2-487e-bf40-64e99c7e66f6",
   "metadata": {},
   "source": [
    "# Import Librarys"
   ]
  },
  {
   "cell_type": "code",
   "execution_count": 1,
   "id": "d047dd56-a4b8-4649-bd8a-3e9a2c3f0a2a",
   "metadata": {},
   "outputs": [],
   "source": [
    "import numpy as np\n",
    "import pandas as pd\n",
    "import matplotlib.pyplot as plt\n",
    "import seaborn as sns\n",
    "import warnings\n",
    "\n",
    "warnings.filterwarnings(\"ignore\", message=\"use_inf_as_na option is deprecated\")"
   ]
  },
  {
   "cell_type": "markdown",
   "id": "66613d93-730c-41aa-ac6a-9cbfd1bacd6d",
   "metadata": {},
   "source": [
    "# Import CSV file"
   ]
  },
  {
   "cell_type": "code",
   "execution_count": 2,
   "id": "7812324a-b5df-46ce-b5d7-165a27e734ca",
   "metadata": {},
   "outputs": [],
   "source": [
    "df = pd.read_csv(\"crocodile_dataset.csv\")"
   ]
  },
  {
   "cell_type": "markdown",
   "id": "fd37a8d3-380a-4272-8c33-2e278a27eb68",
   "metadata": {},
   "source": [
    "# Preprocessing"
   ]
  },
  {
   "cell_type": "markdown",
   "id": "7542510b-d5e6-45d9-8fe2-5e0a676c2530",
   "metadata": {},
   "source": [
    "## Find counts of null Values"
   ]
  },
  {
   "cell_type": "code",
   "execution_count": 3,
   "id": "e7df8240-08a9-45ec-a3bd-8a181a4e8718",
   "metadata": {},
   "outputs": [
    {
     "data": {
      "text/plain": [
       "Observation ID          0\n",
       "Common Name             0\n",
       "Scientific Name         0\n",
       "Family                  0\n",
       "Genus                   0\n",
       "Observed Length (m)     0\n",
       "Observed Weight (kg)    0\n",
       "Age Class               0\n",
       "Sex                     0\n",
       "Date of Observation     0\n",
       "Country/Region          0\n",
       "Habitat Type            0\n",
       "Conservation Status     0\n",
       "Observer Name           0\n",
       "Notes                   0\n",
       "dtype: int64"
      ]
     },
     "execution_count": 3,
     "metadata": {},
     "output_type": "execute_result"
    }
   ],
   "source": [
    "df.isnull().sum()"
   ]
  },
  {
   "cell_type": "markdown",
   "id": "bce28bfb-bd3c-421c-acca-2c5828eeb911",
   "metadata": {},
   "source": [
    "## Find counts of Duplicate values"
   ]
  },
  {
   "cell_type": "code",
   "execution_count": 4,
   "id": "6051c4c3-7655-4ec1-b495-a0a74f517687",
   "metadata": {},
   "outputs": [
    {
     "data": {
      "text/plain": [
       "np.int64(0)"
      ]
     },
     "execution_count": 4,
     "metadata": {},
     "output_type": "execute_result"
    }
   ],
   "source": [
    "df.duplicated().sum()"
   ]
  },
  {
   "cell_type": "markdown",
   "id": "bb622545-0341-40ed-8920-412fc3b1a103",
   "metadata": {},
   "source": [
    "### Let's convert Date into proper format because... next moves on the way"
   ]
  },
  {
   "cell_type": "code",
   "execution_count": 5,
   "id": "7ad35ca4-ed6f-4800-b58c-68475270395f",
   "metadata": {},
   "outputs": [],
   "source": [
    "df['Date of Observation'] = pd.to_datetime(df['Date of Observation'], format='%d-%m-%Y')"
   ]
  },
  {
   "cell_type": "markdown",
   "id": "15891684-169a-4219-b6e7-9679e4093b1a",
   "metadata": {},
   "source": [
    "## Date Duration"
   ]
  },
  {
   "cell_type": "code",
   "execution_count": 6,
   "id": "9ee78f55-8545-4d2a-8528-c9f9bbacb235",
   "metadata": {},
   "outputs": [
    {
     "data": {
      "text/plain": [
       "(Timestamp('2005-01-29 00:00:00'), Timestamp('2025-12-23 00:00:00'))"
      ]
     },
     "execution_count": 6,
     "metadata": {},
     "output_type": "execute_result"
    }
   ],
   "source": [
    "df[\"Date of Observation\"].min(), df[\"Date of Observation\"].max()"
   ]
  },
  {
   "cell_type": "markdown",
   "id": "a40814e9-e03f-4592-b7e3-5310288c0d5c",
   "metadata": {},
   "source": [
    "### Let's create more column using Date because... next Charts are on the way using this columns"
   ]
  },
  {
   "cell_type": "code",
   "execution_count": 7,
   "id": "6201ddd0-89fb-47ff-add0-dab52e2c659f",
   "metadata": {},
   "outputs": [],
   "source": [
    "df[\"Date of Observation\"] = pd.to_datetime(df[\"Date of Observation\"], format=\"%d-%m-%Y\")\n",
    "df[\"Year\"] = df[\"Date of Observation\"].dt.year\n",
    "df[\"Month\"] = df[\"Date of Observation\"].dt.month\n",
    "df[\"Day\"] = df[\"Date of Observation\"].dt.day\n",
    "df[\"Season\"] = df[\"Month\"]%12 // 3 + 1\n",
    "df[\"Season\"] = df[\"Season\"].map({1: \"Winter\", 2: \"Spring\", 3: \"Summer\", 4: \"Fall\"})"
   ]
  },
  {
   "cell_type": "markdown",
   "id": "640d503a-d306-4c0c-a16e-14423c9bf684",
   "metadata": {},
   "source": [
    "### Oh.., Now we have 4 more columns. means more fun in charts"
   ]
  },
  {
   "cell_type": "code",
   "execution_count": 8,
   "id": "5c4f4d56-0a1c-43dc-b099-2171aaec0670",
   "metadata": {},
   "outputs": [
    {
     "name": "stdout",
     "output_type": "stream",
     "text": [
      "['Observation ID', 'Common Name', 'Scientific Name', 'Family', 'Genus', 'Observed Length (m)', 'Observed Weight (kg)', 'Age Class', 'Sex', 'Date of Observation', 'Country/Region', 'Habitat Type', 'Conservation Status', 'Observer Name', 'Notes', 'Year', 'Month', 'Day', 'Season']\n"
     ]
    }
   ],
   "source": [
    "print(df.columns.tolist())"
   ]
  },
  {
   "cell_type": "markdown",
   "id": "a8dcf4fa-f7b1-450a-97e7-9ba73abcb554",
   "metadata": {},
   "source": [
    "## Check Shape"
   ]
  },
  {
   "cell_type": "code",
   "execution_count": 9,
   "id": "a455e8a0-2b59-4521-927a-6487c82ff3e3",
   "metadata": {},
   "outputs": [
    {
     "data": {
      "text/plain": [
       "(1000, 19)"
      ]
     },
     "execution_count": 9,
     "metadata": {},
     "output_type": "execute_result"
    }
   ],
   "source": [
    "df.shape"
   ]
  },
  {
   "cell_type": "markdown",
   "id": "4edc2641-f123-49c5-9313-207cfd8d1e7e",
   "metadata": {},
   "source": [
    "## Count Genus Columns"
   ]
  },
  {
   "cell_type": "code",
   "execution_count": 10,
   "id": "02d6ce34-70db-4fed-bb9c-eba77c2567c2",
   "metadata": {},
   "outputs": [
    {
     "data": {
      "text/plain": [
       "Genus\n",
       "Crocodylus     784\n",
       "Mecistops      111\n",
       "Osteolaemus    105\n",
       "Name: count, dtype: int64"
      ]
     },
     "execution_count": 10,
     "metadata": {},
     "output_type": "execute_result"
    }
   ],
   "source": [
    "df['Genus'].value_counts()"
   ]
  },
  {
   "cell_type": "markdown",
   "id": "5965a57f-8211-44a6-82ca-42bcfb05473c",
   "metadata": {},
   "source": [
    "## Count Family Column"
   ]
  },
  {
   "cell_type": "code",
   "execution_count": 11,
   "id": "b3ee97ea-0ecc-4755-8d17-80e846d38570",
   "metadata": {},
   "outputs": [
    {
     "data": {
      "text/plain": [
       "Family\n",
       "Crocodylidae    1000\n",
       "Name: count, dtype: int64"
      ]
     },
     "execution_count": 11,
     "metadata": {},
     "output_type": "execute_result"
    }
   ],
   "source": [
    "df[\"Family\"].value_counts()"
   ]
  },
  {
   "cell_type": "markdown",
   "id": "6b09766d-cc16-4fa5-bbcd-988d113984f3",
   "metadata": {},
   "source": [
    "## Count All Columns"
   ]
  },
  {
   "cell_type": "code",
   "execution_count": 12,
   "id": "6351a219-2c22-4b74-a7c0-b83dd15c8623",
   "metadata": {},
   "outputs": [
    {
     "data": {
      "text/plain": [
       "Common Name\n",
       "New Guinea Crocodile                         68\n",
       "Borneo Crocodile (disputed)                  67\n",
       "American Crocodile                           66\n",
       "Morelet's Crocodile                          64\n",
       "Cuban Crocodile                              59\n",
       "Orinoco Crocodile                            58\n",
       "Philippine Crocodile                         58\n",
       "Saltwater Crocodile                          58\n",
       "West African Dwarf Crocodile                 57\n",
       "Central African Slender-snouted Crocodile    56\n",
       "West African Slender-snouted Crocodile       55\n",
       "West African Crocodile                       52\n",
       "Hall's New Guinea Crocodile                  49\n",
       "Congo Dwarf Crocodile                        48\n",
       "Nile Crocodile                               48\n",
       "Mugger Crocodile (Marsh Crocodile)           47\n",
       "Siamese Crocodile                            45\n",
       "Freshwater Crocodile (Johnstone's)           45\n",
       "Name: count, dtype: int64"
      ]
     },
     "execution_count": 12,
     "metadata": {},
     "output_type": "execute_result"
    }
   ],
   "source": [
    "df[\"Common Name\"].value_counts()"
   ]
  },
  {
   "cell_type": "code",
   "execution_count": 13,
   "id": "221a4bf2-828b-43db-8578-eba44004071f",
   "metadata": {},
   "outputs": [
    {
     "data": {
      "text/plain": [
       "Scientific Name\n",
       "Crocodylus novaeguineae    68\n",
       "Crocodylus raninus         67\n",
       "Crocodylus acutus          66\n",
       "Crocodylus moreletii       64\n",
       "Crocodylus rhombifer       59\n",
       "Crocodylus intermedius     58\n",
       "Crocodylus mindorensis     58\n",
       "Crocodylus porosus         58\n",
       "Osteolaemus tetraspis      57\n",
       "Mecistops leptorhynchus    56\n",
       "Mecistops cataphractus     55\n",
       "Crocodylus suchus          52\n",
       "Crocodylus halli           49\n",
       "Osteolaemus osborni        48\n",
       "Crocodylus niloticus       48\n",
       "Crocodylus palustris       47\n",
       "Crocodylus siamensis       45\n",
       "Crocodylus johnstoni       45\n",
       "Name: count, dtype: int64"
      ]
     },
     "execution_count": 13,
     "metadata": {},
     "output_type": "execute_result"
    }
   ],
   "source": [
    "df[\"Scientific Name\"].value_counts()"
   ]
  },
  {
   "cell_type": "code",
   "execution_count": 14,
   "id": "5f8a078b-383e-4135-8739-5b9e8b14b64a",
   "metadata": {},
   "outputs": [
    {
     "name": "stdout",
     "output_type": "stream",
     "text": [
      "<class 'pandas.core.frame.DataFrame'>\n",
      "RangeIndex: 1000 entries, 0 to 999\n",
      "Data columns (total 19 columns):\n",
      " #   Column                Non-Null Count  Dtype         \n",
      "---  ------                --------------  -----         \n",
      " 0   Observation ID        1000 non-null   int64         \n",
      " 1   Common Name           1000 non-null   object        \n",
      " 2   Scientific Name       1000 non-null   object        \n",
      " 3   Family                1000 non-null   object        \n",
      " 4   Genus                 1000 non-null   object        \n",
      " 5   Observed Length (m)   1000 non-null   float64       \n",
      " 6   Observed Weight (kg)  1000 non-null   float64       \n",
      " 7   Age Class             1000 non-null   object        \n",
      " 8   Sex                   1000 non-null   object        \n",
      " 9   Date of Observation   1000 non-null   datetime64[ns]\n",
      " 10  Country/Region        1000 non-null   object        \n",
      " 11  Habitat Type          1000 non-null   object        \n",
      " 12  Conservation Status   1000 non-null   object        \n",
      " 13  Observer Name         1000 non-null   object        \n",
      " 14  Notes                 1000 non-null   object        \n",
      " 15  Year                  1000 non-null   int32         \n",
      " 16  Month                 1000 non-null   int32         \n",
      " 17  Day                   1000 non-null   int32         \n",
      " 18  Season                1000 non-null   object        \n",
      "dtypes: datetime64[ns](1), float64(2), int32(3), int64(1), object(12)\n",
      "memory usage: 136.8+ KB\n",
      "None\n"
     ]
    }
   ],
   "source": [
    "print(df.info())"
   ]
  },
  {
   "cell_type": "code",
   "execution_count": 15,
   "id": "1a0b4e9b-663f-4f40-9db8-a2a8b9f0ed3e",
   "metadata": {},
   "outputs": [
    {
     "data": {
      "text/html": [
       "<div>\n",
       "<style scoped>\n",
       "    .dataframe tbody tr th:only-of-type {\n",
       "        vertical-align: middle;\n",
       "    }\n",
       "\n",
       "    .dataframe tbody tr th {\n",
       "        vertical-align: top;\n",
       "    }\n",
       "\n",
       "    .dataframe thead th {\n",
       "        text-align: right;\n",
       "    }\n",
       "</style>\n",
       "<table border=\"1\" class=\"dataframe\">\n",
       "  <thead>\n",
       "    <tr style=\"text-align: right;\">\n",
       "      <th></th>\n",
       "      <th>Common Name</th>\n",
       "      <th>Scientific Name</th>\n",
       "      <th>Family</th>\n",
       "      <th>Genus</th>\n",
       "      <th>Age Class</th>\n",
       "      <th>Sex</th>\n",
       "      <th>Country/Region</th>\n",
       "      <th>Habitat Type</th>\n",
       "      <th>Conservation Status</th>\n",
       "      <th>Observer Name</th>\n",
       "      <th>Notes</th>\n",
       "      <th>Season</th>\n",
       "    </tr>\n",
       "  </thead>\n",
       "  <tbody>\n",
       "    <tr>\n",
       "      <th>count</th>\n",
       "      <td>1000</td>\n",
       "      <td>1000</td>\n",
       "      <td>1000</td>\n",
       "      <td>1000</td>\n",
       "      <td>1000</td>\n",
       "      <td>1000</td>\n",
       "      <td>1000</td>\n",
       "      <td>1000</td>\n",
       "      <td>1000</td>\n",
       "      <td>1000</td>\n",
       "      <td>1000</td>\n",
       "      <td>1000</td>\n",
       "    </tr>\n",
       "    <tr>\n",
       "      <th>unique</th>\n",
       "      <td>18</td>\n",
       "      <td>18</td>\n",
       "      <td>1</td>\n",
       "      <td>3</td>\n",
       "      <td>4</td>\n",
       "      <td>3</td>\n",
       "      <td>47</td>\n",
       "      <td>29</td>\n",
       "      <td>5</td>\n",
       "      <td>989</td>\n",
       "      <td>1000</td>\n",
       "      <td>4</td>\n",
       "    </tr>\n",
       "    <tr>\n",
       "      <th>top</th>\n",
       "      <td>New Guinea Crocodile</td>\n",
       "      <td>Crocodylus novaeguineae</td>\n",
       "      <td>Crocodylidae</td>\n",
       "      <td>Crocodylus</td>\n",
       "      <td>Adult</td>\n",
       "      <td>Unknown</td>\n",
       "      <td>Papua New Guinea</td>\n",
       "      <td>Rivers</td>\n",
       "      <td>Least Concern</td>\n",
       "      <td>Sandra Becker</td>\n",
       "      <td>Ok community right then police day so store co...</td>\n",
       "      <td>Summer</td>\n",
       "    </tr>\n",
       "    <tr>\n",
       "      <th>freq</th>\n",
       "      <td>68</td>\n",
       "      <td>68</td>\n",
       "      <td>1000</td>\n",
       "      <td>784</td>\n",
       "      <td>510</td>\n",
       "      <td>354</td>\n",
       "      <td>97</td>\n",
       "      <td>165</td>\n",
       "      <td>384</td>\n",
       "      <td>2</td>\n",
       "      <td>1</td>\n",
       "      <td>270</td>\n",
       "    </tr>\n",
       "  </tbody>\n",
       "</table>\n",
       "</div>"
      ],
      "text/plain": [
       "                 Common Name          Scientific Name        Family  \\\n",
       "count                   1000                     1000          1000   \n",
       "unique                    18                       18             1   \n",
       "top     New Guinea Crocodile  Crocodylus novaeguineae  Crocodylidae   \n",
       "freq                      68                       68          1000   \n",
       "\n",
       "             Genus Age Class      Sex    Country/Region Habitat Type  \\\n",
       "count         1000      1000     1000              1000         1000   \n",
       "unique           3         4        3                47           29   \n",
       "top     Crocodylus     Adult  Unknown  Papua New Guinea       Rivers   \n",
       "freq           784       510      354                97          165   \n",
       "\n",
       "       Conservation Status  Observer Name  \\\n",
       "count                 1000           1000   \n",
       "unique                   5            989   \n",
       "top          Least Concern  Sandra Becker   \n",
       "freq                   384              2   \n",
       "\n",
       "                                                    Notes  Season  \n",
       "count                                                1000    1000  \n",
       "unique                                               1000       4  \n",
       "top     Ok community right then police day so store co...  Summer  \n",
       "freq                                                    1     270  "
      ]
     },
     "metadata": {},
     "output_type": "display_data"
    }
   ],
   "source": [
    "display(df.describe(include=\"object\"))"
   ]
  },
  {
   "cell_type": "code",
   "execution_count": 16,
   "id": "1422e5b7-bade-4438-ab9d-f4e6dad80547",
   "metadata": {},
   "outputs": [
    {
     "data": {
      "text/html": [
       "<div>\n",
       "<style scoped>\n",
       "    .dataframe tbody tr th:only-of-type {\n",
       "        vertical-align: middle;\n",
       "    }\n",
       "\n",
       "    .dataframe tbody tr th {\n",
       "        vertical-align: top;\n",
       "    }\n",
       "\n",
       "    .dataframe thead th {\n",
       "        text-align: right;\n",
       "    }\n",
       "</style>\n",
       "<table border=\"1\" class=\"dataframe\">\n",
       "  <thead>\n",
       "    <tr style=\"text-align: right;\">\n",
       "      <th></th>\n",
       "      <th>Observation ID</th>\n",
       "      <th>Observed Length (m)</th>\n",
       "      <th>Observed Weight (kg)</th>\n",
       "      <th>Year</th>\n",
       "      <th>Month</th>\n",
       "      <th>Day</th>\n",
       "    </tr>\n",
       "  </thead>\n",
       "  <tbody>\n",
       "    <tr>\n",
       "      <th>count</th>\n",
       "      <td>1000.000000</td>\n",
       "      <td>1000.000000</td>\n",
       "      <td>1000.000000</td>\n",
       "      <td>1000.000000</td>\n",
       "      <td>1000.000000</td>\n",
       "      <td>1000.000000</td>\n",
       "    </tr>\n",
       "    <tr>\n",
       "      <th>mean</th>\n",
       "      <td>500.500000</td>\n",
       "      <td>2.415110</td>\n",
       "      <td>155.771900</td>\n",
       "      <td>2015.021000</td>\n",
       "      <td>6.560000</td>\n",
       "      <td>16.055000</td>\n",
       "    </tr>\n",
       "    <tr>\n",
       "      <th>std</th>\n",
       "      <td>288.819436</td>\n",
       "      <td>1.097542</td>\n",
       "      <td>175.186788</td>\n",
       "      <td>5.910964</td>\n",
       "      <td>3.368642</td>\n",
       "      <td>8.950759</td>\n",
       "    </tr>\n",
       "    <tr>\n",
       "      <th>min</th>\n",
       "      <td>1.000000</td>\n",
       "      <td>0.140000</td>\n",
       "      <td>4.400000</td>\n",
       "      <td>2005.000000</td>\n",
       "      <td>1.000000</td>\n",
       "      <td>1.000000</td>\n",
       "    </tr>\n",
       "    <tr>\n",
       "      <th>25%</th>\n",
       "      <td>250.750000</td>\n",
       "      <td>1.637500</td>\n",
       "      <td>53.225000</td>\n",
       "      <td>2010.000000</td>\n",
       "      <td>4.000000</td>\n",
       "      <td>8.000000</td>\n",
       "    </tr>\n",
       "    <tr>\n",
       "      <th>50%</th>\n",
       "      <td>500.500000</td>\n",
       "      <td>2.430000</td>\n",
       "      <td>100.600000</td>\n",
       "      <td>2015.000000</td>\n",
       "      <td>7.000000</td>\n",
       "      <td>16.000000</td>\n",
       "    </tr>\n",
       "    <tr>\n",
       "      <th>75%</th>\n",
       "      <td>750.250000</td>\n",
       "      <td>3.010000</td>\n",
       "      <td>168.875000</td>\n",
       "      <td>2020.000000</td>\n",
       "      <td>9.000000</td>\n",
       "      <td>24.000000</td>\n",
       "    </tr>\n",
       "    <tr>\n",
       "      <th>max</th>\n",
       "      <td>1000.000000</td>\n",
       "      <td>6.120000</td>\n",
       "      <td>1139.700000</td>\n",
       "      <td>2025.000000</td>\n",
       "      <td>12.000000</td>\n",
       "      <td>31.000000</td>\n",
       "    </tr>\n",
       "  </tbody>\n",
       "</table>\n",
       "</div>"
      ],
      "text/plain": [
       "       Observation ID  Observed Length (m)  Observed Weight (kg)         Year  \\\n",
       "count     1000.000000          1000.000000           1000.000000  1000.000000   \n",
       "mean       500.500000             2.415110            155.771900  2015.021000   \n",
       "std        288.819436             1.097542            175.186788     5.910964   \n",
       "min          1.000000             0.140000              4.400000  2005.000000   \n",
       "25%        250.750000             1.637500             53.225000  2010.000000   \n",
       "50%        500.500000             2.430000            100.600000  2015.000000   \n",
       "75%        750.250000             3.010000            168.875000  2020.000000   \n",
       "max       1000.000000             6.120000           1139.700000  2025.000000   \n",
       "\n",
       "             Month          Day  \n",
       "count  1000.000000  1000.000000  \n",
       "mean      6.560000    16.055000  \n",
       "std       3.368642     8.950759  \n",
       "min       1.000000     1.000000  \n",
       "25%       4.000000     8.000000  \n",
       "50%       7.000000    16.000000  \n",
       "75%       9.000000    24.000000  \n",
       "max      12.000000    31.000000  "
      ]
     },
     "metadata": {},
     "output_type": "display_data"
    }
   ],
   "source": [
    "display(df.describe(include=[\"int\",\"float\"]))"
   ]
  },
  {
   "cell_type": "markdown",
   "id": "2b1cf4fc-a156-4206-a7cd-353ff05aa847",
   "metadata": {},
   "source": [
    "# Final Dataset"
   ]
  },
  {
   "cell_type": "markdown",
   "id": "8f752c36-eed0-49ce-aaf2-c31622148c93",
   "metadata": {},
   "source": [
    "## First 5 Rows"
   ]
  },
  {
   "cell_type": "code",
   "execution_count": 17,
   "id": "7b5a8341-32ae-42e6-a18c-6f0df7263efd",
   "metadata": {},
   "outputs": [
    {
     "data": {
      "text/html": [
       "<div>\n",
       "<style scoped>\n",
       "    .dataframe tbody tr th:only-of-type {\n",
       "        vertical-align: middle;\n",
       "    }\n",
       "\n",
       "    .dataframe tbody tr th {\n",
       "        vertical-align: top;\n",
       "    }\n",
       "\n",
       "    .dataframe thead th {\n",
       "        text-align: right;\n",
       "    }\n",
       "</style>\n",
       "<table border=\"1\" class=\"dataframe\">\n",
       "  <thead>\n",
       "    <tr style=\"text-align: right;\">\n",
       "      <th></th>\n",
       "      <th>Observation ID</th>\n",
       "      <th>Common Name</th>\n",
       "      <th>Scientific Name</th>\n",
       "      <th>Family</th>\n",
       "      <th>Genus</th>\n",
       "      <th>Observed Length (m)</th>\n",
       "      <th>Observed Weight (kg)</th>\n",
       "      <th>Age Class</th>\n",
       "      <th>Sex</th>\n",
       "      <th>Date of Observation</th>\n",
       "      <th>Country/Region</th>\n",
       "      <th>Habitat Type</th>\n",
       "      <th>Conservation Status</th>\n",
       "      <th>Observer Name</th>\n",
       "      <th>Notes</th>\n",
       "      <th>Year</th>\n",
       "      <th>Month</th>\n",
       "      <th>Day</th>\n",
       "      <th>Season</th>\n",
       "    </tr>\n",
       "  </thead>\n",
       "  <tbody>\n",
       "    <tr>\n",
       "      <th>0</th>\n",
       "      <td>1</td>\n",
       "      <td>Morelet's Crocodile</td>\n",
       "      <td>Crocodylus moreletii</td>\n",
       "      <td>Crocodylidae</td>\n",
       "      <td>Crocodylus</td>\n",
       "      <td>1.90</td>\n",
       "      <td>62.0</td>\n",
       "      <td>Adult</td>\n",
       "      <td>Male</td>\n",
       "      <td>2018-03-31</td>\n",
       "      <td>Belize</td>\n",
       "      <td>Swamps</td>\n",
       "      <td>Least Concern</td>\n",
       "      <td>Allison Hill</td>\n",
       "      <td>Cause bill scientist nation opportunity.</td>\n",
       "      <td>2018</td>\n",
       "      <td>3</td>\n",
       "      <td>31</td>\n",
       "      <td>Spring</td>\n",
       "    </tr>\n",
       "    <tr>\n",
       "      <th>1</th>\n",
       "      <td>2</td>\n",
       "      <td>American Crocodile</td>\n",
       "      <td>Crocodylus acutus</td>\n",
       "      <td>Crocodylidae</td>\n",
       "      <td>Crocodylus</td>\n",
       "      <td>4.09</td>\n",
       "      <td>334.5</td>\n",
       "      <td>Adult</td>\n",
       "      <td>Male</td>\n",
       "      <td>2015-01-28</td>\n",
       "      <td>Venezuela</td>\n",
       "      <td>Mangroves</td>\n",
       "      <td>Vulnerable</td>\n",
       "      <td>Brandon Hall</td>\n",
       "      <td>Ago current practice nation determine operatio...</td>\n",
       "      <td>2015</td>\n",
       "      <td>1</td>\n",
       "      <td>28</td>\n",
       "      <td>Winter</td>\n",
       "    </tr>\n",
       "    <tr>\n",
       "      <th>2</th>\n",
       "      <td>3</td>\n",
       "      <td>Orinoco Crocodile</td>\n",
       "      <td>Crocodylus intermedius</td>\n",
       "      <td>Crocodylidae</td>\n",
       "      <td>Crocodylus</td>\n",
       "      <td>1.08</td>\n",
       "      <td>118.2</td>\n",
       "      <td>Juvenile</td>\n",
       "      <td>Unknown</td>\n",
       "      <td>2010-12-07</td>\n",
       "      <td>Venezuela</td>\n",
       "      <td>Flooded Savannas</td>\n",
       "      <td>Critically Endangered</td>\n",
       "      <td>Melissa Peterson</td>\n",
       "      <td>Democratic shake bill here grow gas enough ana...</td>\n",
       "      <td>2010</td>\n",
       "      <td>12</td>\n",
       "      <td>7</td>\n",
       "      <td>Winter</td>\n",
       "    </tr>\n",
       "    <tr>\n",
       "      <th>3</th>\n",
       "      <td>4</td>\n",
       "      <td>Morelet's Crocodile</td>\n",
       "      <td>Crocodylus moreletii</td>\n",
       "      <td>Crocodylidae</td>\n",
       "      <td>Crocodylus</td>\n",
       "      <td>2.42</td>\n",
       "      <td>90.4</td>\n",
       "      <td>Adult</td>\n",
       "      <td>Male</td>\n",
       "      <td>2019-11-01</td>\n",
       "      <td>Mexico</td>\n",
       "      <td>Rivers</td>\n",
       "      <td>Least Concern</td>\n",
       "      <td>Edward Fuller</td>\n",
       "      <td>Officer relate animal direction eye bag do.</td>\n",
       "      <td>2019</td>\n",
       "      <td>11</td>\n",
       "      <td>1</td>\n",
       "      <td>Fall</td>\n",
       "    </tr>\n",
       "    <tr>\n",
       "      <th>4</th>\n",
       "      <td>5</td>\n",
       "      <td>Mugger Crocodile (Marsh Crocodile)</td>\n",
       "      <td>Crocodylus palustris</td>\n",
       "      <td>Crocodylidae</td>\n",
       "      <td>Crocodylus</td>\n",
       "      <td>3.75</td>\n",
       "      <td>269.4</td>\n",
       "      <td>Adult</td>\n",
       "      <td>Unknown</td>\n",
       "      <td>2019-07-15</td>\n",
       "      <td>India</td>\n",
       "      <td>Rivers</td>\n",
       "      <td>Vulnerable</td>\n",
       "      <td>Donald Reid</td>\n",
       "      <td>Class great prove reduce raise author play mov...</td>\n",
       "      <td>2019</td>\n",
       "      <td>7</td>\n",
       "      <td>15</td>\n",
       "      <td>Summer</td>\n",
       "    </tr>\n",
       "  </tbody>\n",
       "</table>\n",
       "</div>"
      ],
      "text/plain": [
       "   Observation ID                         Common Name         Scientific Name  \\\n",
       "0               1                 Morelet's Crocodile    Crocodylus moreletii   \n",
       "1               2                  American Crocodile       Crocodylus acutus   \n",
       "2               3                   Orinoco Crocodile  Crocodylus intermedius   \n",
       "3               4                 Morelet's Crocodile    Crocodylus moreletii   \n",
       "4               5  Mugger Crocodile (Marsh Crocodile)    Crocodylus palustris   \n",
       "\n",
       "         Family       Genus  Observed Length (m)  Observed Weight (kg)  \\\n",
       "0  Crocodylidae  Crocodylus                 1.90                  62.0   \n",
       "1  Crocodylidae  Crocodylus                 4.09                 334.5   \n",
       "2  Crocodylidae  Crocodylus                 1.08                 118.2   \n",
       "3  Crocodylidae  Crocodylus                 2.42                  90.4   \n",
       "4  Crocodylidae  Crocodylus                 3.75                 269.4   \n",
       "\n",
       "  Age Class      Sex Date of Observation Country/Region      Habitat Type  \\\n",
       "0     Adult     Male          2018-03-31         Belize            Swamps   \n",
       "1     Adult     Male          2015-01-28      Venezuela         Mangroves   \n",
       "2  Juvenile  Unknown          2010-12-07      Venezuela  Flooded Savannas   \n",
       "3     Adult     Male          2019-11-01         Mexico            Rivers   \n",
       "4     Adult  Unknown          2019-07-15          India            Rivers   \n",
       "\n",
       "     Conservation Status     Observer Name  \\\n",
       "0          Least Concern      Allison Hill   \n",
       "1             Vulnerable      Brandon Hall   \n",
       "2  Critically Endangered  Melissa Peterson   \n",
       "3          Least Concern     Edward Fuller   \n",
       "4             Vulnerable       Donald Reid   \n",
       "\n",
       "                                               Notes  Year  Month  Day  Season  \n",
       "0           Cause bill scientist nation opportunity.  2018      3   31  Spring  \n",
       "1  Ago current practice nation determine operatio...  2015      1   28  Winter  \n",
       "2  Democratic shake bill here grow gas enough ana...  2010     12    7  Winter  \n",
       "3        Officer relate animal direction eye bag do.  2019     11    1    Fall  \n",
       "4  Class great prove reduce raise author play mov...  2019      7   15  Summer  "
      ]
     },
     "execution_count": 17,
     "metadata": {},
     "output_type": "execute_result"
    }
   ],
   "source": [
    "df.head()"
   ]
  },
  {
   "cell_type": "markdown",
   "id": "8a75cd57-04f5-44ac-8cd3-3c79023a9d41",
   "metadata": {},
   "source": [
    "## Last 5 Rows"
   ]
  },
  {
   "cell_type": "code",
   "execution_count": 18,
   "id": "3260a134-6de6-4d6c-b0df-c9b0e2ce82d3",
   "metadata": {},
   "outputs": [
    {
     "data": {
      "text/html": [
       "<div>\n",
       "<style scoped>\n",
       "    .dataframe tbody tr th:only-of-type {\n",
       "        vertical-align: middle;\n",
       "    }\n",
       "\n",
       "    .dataframe tbody tr th {\n",
       "        vertical-align: top;\n",
       "    }\n",
       "\n",
       "    .dataframe thead th {\n",
       "        text-align: right;\n",
       "    }\n",
       "</style>\n",
       "<table border=\"1\" class=\"dataframe\">\n",
       "  <thead>\n",
       "    <tr style=\"text-align: right;\">\n",
       "      <th></th>\n",
       "      <th>Observation ID</th>\n",
       "      <th>Common Name</th>\n",
       "      <th>Scientific Name</th>\n",
       "      <th>Family</th>\n",
       "      <th>Genus</th>\n",
       "      <th>Observed Length (m)</th>\n",
       "      <th>Observed Weight (kg)</th>\n",
       "      <th>Age Class</th>\n",
       "      <th>Sex</th>\n",
       "      <th>Date of Observation</th>\n",
       "      <th>Country/Region</th>\n",
       "      <th>Habitat Type</th>\n",
       "      <th>Conservation Status</th>\n",
       "      <th>Observer Name</th>\n",
       "      <th>Notes</th>\n",
       "      <th>Year</th>\n",
       "      <th>Month</th>\n",
       "      <th>Day</th>\n",
       "      <th>Season</th>\n",
       "    </tr>\n",
       "  </thead>\n",
       "  <tbody>\n",
       "    <tr>\n",
       "      <th>995</th>\n",
       "      <td>996</td>\n",
       "      <td>West African Crocodile</td>\n",
       "      <td>Crocodylus suchus</td>\n",
       "      <td>Crocodylidae</td>\n",
       "      <td>Crocodylus</td>\n",
       "      <td>2.55</td>\n",
       "      <td>112.3</td>\n",
       "      <td>Adult</td>\n",
       "      <td>Female</td>\n",
       "      <td>2015-10-01</td>\n",
       "      <td>Mauritania</td>\n",
       "      <td>Lakes</td>\n",
       "      <td>Least Concern</td>\n",
       "      <td>Karen Avery</td>\n",
       "      <td>Thousand position sense church out explain sig...</td>\n",
       "      <td>2015</td>\n",
       "      <td>10</td>\n",
       "      <td>1</td>\n",
       "      <td>Fall</td>\n",
       "    </tr>\n",
       "    <tr>\n",
       "      <th>996</th>\n",
       "      <td>997</td>\n",
       "      <td>Hall's New Guinea Crocodile</td>\n",
       "      <td>Crocodylus halli</td>\n",
       "      <td>Crocodylidae</td>\n",
       "      <td>Crocodylus</td>\n",
       "      <td>2.27</td>\n",
       "      <td>80.3</td>\n",
       "      <td>Subadult</td>\n",
       "      <td>Female</td>\n",
       "      <td>2023-01-25</td>\n",
       "      <td>Papua New Guinea</td>\n",
       "      <td>Freshwater Wetlands</td>\n",
       "      <td>Least Concern</td>\n",
       "      <td>Sylvia Turner</td>\n",
       "      <td>Painting try talk like maintain serious style.</td>\n",
       "      <td>2023</td>\n",
       "      <td>1</td>\n",
       "      <td>25</td>\n",
       "      <td>Winter</td>\n",
       "    </tr>\n",
       "    <tr>\n",
       "      <th>997</th>\n",
       "      <td>998</td>\n",
       "      <td>West African Slender-snouted Crocodile</td>\n",
       "      <td>Mecistops cataphractus</td>\n",
       "      <td>Crocodylidae</td>\n",
       "      <td>Mecistops</td>\n",
       "      <td>2.34</td>\n",
       "      <td>93.5</td>\n",
       "      <td>Adult</td>\n",
       "      <td>Male</td>\n",
       "      <td>2014-02-07</td>\n",
       "      <td>Côte d'Ivoire</td>\n",
       "      <td>Swamps</td>\n",
       "      <td>Critically Endangered</td>\n",
       "      <td>Kristin Fleming</td>\n",
       "      <td>Produce off light before majority garden milit...</td>\n",
       "      <td>2014</td>\n",
       "      <td>2</td>\n",
       "      <td>7</td>\n",
       "      <td>Winter</td>\n",
       "    </tr>\n",
       "    <tr>\n",
       "      <th>998</th>\n",
       "      <td>999</td>\n",
       "      <td>West African Slender-snouted Crocodile</td>\n",
       "      <td>Mecistops cataphractus</td>\n",
       "      <td>Crocodylidae</td>\n",
       "      <td>Mecistops</td>\n",
       "      <td>2.82</td>\n",
       "      <td>147.6</td>\n",
       "      <td>Adult</td>\n",
       "      <td>Male</td>\n",
       "      <td>2010-07-09</td>\n",
       "      <td>Sierra Leone</td>\n",
       "      <td>Shaded Forest Rivers</td>\n",
       "      <td>Critically Endangered</td>\n",
       "      <td>Eric Petersen</td>\n",
       "      <td>Put everything our prove could party skin soon...</td>\n",
       "      <td>2010</td>\n",
       "      <td>7</td>\n",
       "      <td>9</td>\n",
       "      <td>Summer</td>\n",
       "    </tr>\n",
       "    <tr>\n",
       "      <th>999</th>\n",
       "      <td>1000</td>\n",
       "      <td>Hall's New Guinea Crocodile</td>\n",
       "      <td>Crocodylus halli</td>\n",
       "      <td>Crocodylidae</td>\n",
       "      <td>Crocodylus</td>\n",
       "      <td>1.73</td>\n",
       "      <td>47.4</td>\n",
       "      <td>Juvenile</td>\n",
       "      <td>Unknown</td>\n",
       "      <td>2014-03-31</td>\n",
       "      <td>Papua New Guinea</td>\n",
       "      <td>Freshwater Wetlands</td>\n",
       "      <td>Least Concern</td>\n",
       "      <td>Kristen Harris</td>\n",
       "      <td>Ok community right then police day so store co...</td>\n",
       "      <td>2014</td>\n",
       "      <td>3</td>\n",
       "      <td>31</td>\n",
       "      <td>Spring</td>\n",
       "    </tr>\n",
       "  </tbody>\n",
       "</table>\n",
       "</div>"
      ],
      "text/plain": [
       "     Observation ID                             Common Name  \\\n",
       "995             996                  West African Crocodile   \n",
       "996             997             Hall's New Guinea Crocodile   \n",
       "997             998  West African Slender-snouted Crocodile   \n",
       "998             999  West African Slender-snouted Crocodile   \n",
       "999            1000             Hall's New Guinea Crocodile   \n",
       "\n",
       "            Scientific Name        Family       Genus  Observed Length (m)  \\\n",
       "995       Crocodylus suchus  Crocodylidae  Crocodylus                 2.55   \n",
       "996        Crocodylus halli  Crocodylidae  Crocodylus                 2.27   \n",
       "997  Mecistops cataphractus  Crocodylidae   Mecistops                 2.34   \n",
       "998  Mecistops cataphractus  Crocodylidae   Mecistops                 2.82   \n",
       "999        Crocodylus halli  Crocodylidae  Crocodylus                 1.73   \n",
       "\n",
       "     Observed Weight (kg) Age Class      Sex Date of Observation  \\\n",
       "995                 112.3     Adult   Female          2015-10-01   \n",
       "996                  80.3  Subadult   Female          2023-01-25   \n",
       "997                  93.5     Adult     Male          2014-02-07   \n",
       "998                 147.6     Adult     Male          2010-07-09   \n",
       "999                  47.4  Juvenile  Unknown          2014-03-31   \n",
       "\n",
       "       Country/Region          Habitat Type    Conservation Status  \\\n",
       "995        Mauritania                 Lakes          Least Concern   \n",
       "996  Papua New Guinea   Freshwater Wetlands          Least Concern   \n",
       "997     Côte d'Ivoire                Swamps  Critically Endangered   \n",
       "998      Sierra Leone  Shaded Forest Rivers  Critically Endangered   \n",
       "999  Papua New Guinea   Freshwater Wetlands          Least Concern   \n",
       "\n",
       "       Observer Name                                              Notes  Year  \\\n",
       "995      Karen Avery  Thousand position sense church out explain sig...  2015   \n",
       "996    Sylvia Turner     Painting try talk like maintain serious style.  2023   \n",
       "997  Kristin Fleming  Produce off light before majority garden milit...  2014   \n",
       "998    Eric Petersen  Put everything our prove could party skin soon...  2010   \n",
       "999   Kristen Harris  Ok community right then police day so store co...  2014   \n",
       "\n",
       "     Month  Day  Season  \n",
       "995     10    1    Fall  \n",
       "996      1   25  Winter  \n",
       "997      2    7  Winter  \n",
       "998      7    9  Summer  \n",
       "999      3   31  Spring  "
      ]
     },
     "execution_count": 18,
     "metadata": {},
     "output_type": "execute_result"
    }
   ],
   "source": [
    "df.tail()"
   ]
  },
  {
   "cell_type": "code",
   "execution_count": null,
   "id": "967f8b0c-81a5-4876-bda2-9183c7028b1d",
   "metadata": {},
   "outputs": [],
   "source": []
  }
 ],
 "metadata": {
  "kernelspec": {
   "display_name": "Python 3 (ipykernel)",
   "language": "python",
   "name": "python3"
  },
  "language_info": {
   "codemirror_mode": {
    "name": "ipython",
    "version": 3
   },
   "file_extension": ".py",
   "mimetype": "text/x-python",
   "name": "python",
   "nbconvert_exporter": "python",
   "pygments_lexer": "ipython3",
   "version": "3.13.3"
  }
 },
 "nbformat": 4,
 "nbformat_minor": 5
}
